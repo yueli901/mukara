{
 "cells": [
  {
   "cell_type": "code",
   "execution_count": 15,
   "metadata": {},
   "outputs": [],
   "source": [
    "import os\n",
    "\n",
    "# Define file paths\n",
    "input_file = 'population/population_raw_data_from_download.csv'\n",
    "output_folder = 'population'\n",
    "\n",
    "# Read the file\n",
    "with open(input_file, 'r') as infile:\n",
    "    data = infile.readlines()\n",
    "\n",
    "# Initialize variables\n",
    "sections = []\n",
    "current_section = []\n",
    "\n",
    "# Process the file to extract sections\n",
    "for line in data:\n",
    "    if line.startswith('\"Population estimates'):  # New section starts\n",
    "        if current_section:  # Save the previous section\n",
    "            sections.append(current_section)\n",
    "        current_section = [line]  # Start new section\n",
    "    elif line.strip():  # Non-empty line, add to current section\n",
    "        current_section.append(line)\n",
    "# Append the last section\n",
    "if current_section:\n",
    "    sections.append(current_section)\n",
    "\n",
    "# Process each complete section\n",
    "for section in sections:\n",
    "    # Extract metadata from the first three lines\n",
    "    metadata = section[2:4]\n",
    "    gender = metadata[0].split(\",\")[1].strip().replace('\"', '').lower().replace(\" \", \"_\")\n",
    "    age = metadata[1].split(\",\")[1].strip().replace('\"', '').lower().replace(\" \", \"_\")\n",
    "    output_filename = f\"population_{gender}_{age}.csv\"\n",
    "\n",
    "    # Locate the header and data lines\n",
    "    for i, line in enumerate(section):\n",
    "        if line.startswith('\"2021 super output area - lower layer\"'):\n",
    "            header_index = i\n",
    "            break\n",
    "    \n",
    "    # Extract header and data\n",
    "    data_lines = section[header_index:]\n",
    "\n",
    "    # Write to output file\n",
    "    with open(os.path.join(output_folder, output_filename), 'w') as outfile:\n",
    "        outfile.writelines(data_lines)\n"
   ]
  }
 ],
 "metadata": {
  "kernelspec": {
   "display_name": "myenv",
   "language": "python",
   "name": "python3"
  },
  "language_info": {
   "codemirror_mode": {
    "name": "ipython",
    "version": 3
   },
   "file_extension": ".py",
   "mimetype": "text/x-python",
   "name": "python",
   "nbconvert_exporter": "python",
   "pygments_lexer": "ipython3",
   "version": "3.10.13"
  }
 },
 "nbformat": 4,
 "nbformat_minor": 2
}
