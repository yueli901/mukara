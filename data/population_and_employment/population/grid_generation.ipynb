{
 "cells": [
  {
   "cell_type": "code",
   "execution_count": 17,
   "metadata": {},
   "outputs": [],
   "source": [
    "import geopandas as gpd\n",
    "import pandas as pd\n",
    "import numpy as np\n",
    "import rasterio\n",
    "from rasterio.features import rasterize\n",
    "from shapely.geometry import box\n",
    "\n",
    "# 1. Load shapefiles and determine the bounds\n",
    "lsoa_gdf = gpd.read_file('boundaries/Lower layer Super Output Areas (December 2021) Boundaries EW BFC (V10)/Lower_layer_Super_Output_Areas_December_2021_Boundaries_EW_BFC_V10_8562115581115271145/LSOA_2021_EW_BFC_V10.shp')\n"
   ]
  },
  {
   "cell_type": "code",
   "execution_count": 18,
   "metadata": {},
   "outputs": [],
   "source": [
    "# 3. Determine grid extent and resolution\n",
    "# Get the bounds of the LSOA areas of England\n",
    "minx, miny, maxx, maxy = lsoa_gdf.total_bounds"
   ]
  },
  {
   "cell_type": "code",
   "execution_count": 19,
   "metadata": {},
   "outputs": [],
   "source": [
    "# Determine grid size dynamically (number of grids in x and y directions)\n",
    "grid_width = 1000\n",
    "grid_height = 1000\n",
    "\n",
    "num_grids_x = int((maxx - minx) / grid_width) + 1\n",
    "num_grids_y = int((maxy - miny) / grid_height) + 1\n",
    "\n",
    "# # Create grid cells covering the bounding box\n",
    "grid_cells = []\n",
    "for y0 in np.arange(maxy, miny, -grid_height):\n",
    "    for x0 in np.arange(minx, maxx, grid_width):\n",
    "        x1 = x0 + grid_width\n",
    "        y1 = y0 + grid_height\n",
    "        grid_cells.append(box(x0, y0, x1, y1))\n",
    "\n",
    "grid_gdf = gpd.GeoDataFrame(grid_cells, columns=['geometry'], crs='EPSG:27700')"
   ]
  },
  {
   "cell_type": "code",
   "execution_count": 20,
   "metadata": {},
   "outputs": [
    {
     "name": "stdout",
     "output_type": "stream",
     "text": [
      "573\n",
      "653\n"
     ]
    }
   ],
   "source": [
    "print(num_grids_x)\n",
    "print(num_grids_y)"
   ]
  },
  {
   "cell_type": "code",
   "execution_count": 21,
   "metadata": {},
   "outputs": [],
   "source": [
    "grid_gdf.to_file(\"grid_1km_653_573/grid_cells.shp\")"
   ]
  },
  {
   "cell_type": "code",
   "execution_count": 22,
   "metadata": {},
   "outputs": [
    {
     "name": "stdout",
     "output_type": "stream",
     "text": [
      "EPSG:27700\n"
     ]
    }
   ],
   "source": [
    "print(grid_gdf.crs)"
   ]
  }
 ],
 "metadata": {
  "kernelspec": {
   "display_name": "myenv",
   "language": "python",
   "name": "python3"
  },
  "language_info": {
   "codemirror_mode": {
    "name": "ipython",
    "version": 3
   },
   "file_extension": ".py",
   "mimetype": "text/x-python",
   "name": "python",
   "nbconvert_exporter": "python",
   "pygments_lexer": "ipython3",
   "version": "3.10.13"
  }
 },
 "nbformat": 4,
 "nbformat_minor": 2
}
