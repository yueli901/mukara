{
 "cells": [
  {
   "cell_type": "code",
   "execution_count": null,
   "metadata": {},
   "outputs": [],
   "source": [
    "### This notebook use the Open Route Service to download edge features (including highway segment geometries)\n",
    "### Deprecated due to low quality, the paper use  the Google Route API instead"
   ]
  },
  {
   "cell_type": "code",
   "execution_count": 1,
   "metadata": {},
   "outputs": [],
   "source": [
    "import pandas as pd\n",
    "import requests\n",
    "from tqdm import tqdm  # For progress bar\n",
    "import time\n",
    "import os\n",
    "import json\n",
    "\n",
    "# Ensure the folder exists\n",
    "os.makedirs(\"edge_features_json_ors\", exist_ok=True)\n",
    "\n",
    "# Load the input files\n",
    "nodes_df = pd.read_csv(\"tris_node_features-v1.1.csv\")\n",
    "sensors_df = pd.read_csv(\"sensors_498.csv\")\n",
    "\n",
    "# API setup\n",
    "API_KEY = \"5b3ce3597851110001cf62484f16cdedfd154831853bdc704490cd97\"\n",
    "API_URL_LOCAL = \"http://localhost:8080/ors/v2/directions/driving-car/json\"\n",
    "API_URL = \"https://api.openrouteservice.org/v2/directions/driving-car/json\"\n",
    "HEADERS = {\n",
    "    'Accept': 'application/json, application/geo+json, application/gpx+xml, img/png; charset=utf-8',\n",
    "    'Authorization': API_KEY,\n",
    "    'Content-Type': 'application/json; charset=utf-8'\n",
    "}\n",
    "\n",
    "# Function to call the OpenRouteService API\n",
    "def fetch_route_data(origin, destination):\n",
    "    body = {\n",
    "        \"coordinates\": [origin, destination],\n",
    "        \"attributes\": [\"avgspeed\", \"detourfactor\", \"percentage\"],\n",
    "        \"extra_info\": [\"waytype\"],\n",
    "        \"units\": \"m\"\n",
    "    }\n",
    "    response = requests.post(API_URL, json=body, headers=HEADERS)\n",
    "    if response.status_code == 200:\n",
    "        return response.json()\n",
    "    else:\n",
    "        print(f\"Error: {response.status_code}, {response}\")\n",
    "        return None\n"
   ]
  },
  {
   "cell_type": "code",
   "execution_count": 3,
   "metadata": {},
   "outputs": [
    {
     "name": "stderr",
     "output_type": "stream",
     "text": [
      "Processing Sensors: 100%|██████████| 498/498 [00:00<00:00, 4936.57it/s]\n"
     ]
    }
   ],
   "source": [
    "# Processing each sensor\n",
    "edge_features = []\n",
    "\n",
    "# Use tqdm for progress bar\n",
    "for _, sensor in tqdm(sensors_df.iterrows(), total=sensors_df.shape[0], desc=\"Processing Sensors\"):\n",
    "    json_filename = f\"edge_features_json_ors/sensor_{int(sensor['Id'])}.json\"\n",
    "    \n",
    "    if os.path.exists(json_filename):\n",
    "        # Load JSON file if it exists\n",
    "        with open(json_filename, \"r\") as json_file:\n",
    "            route_data = json.load(json_file)\n",
    "    else:\n",
    "        # Get node coordinates\n",
    "        origin_node = nodes_df.loc[nodes_df['Node_Id'] == sensor['Origin']]\n",
    "        destination_node = nodes_df.loc[nodes_df['Node_Id'] == sensor['Destination']]\n",
    "\n",
    "        if origin_node.empty or destination_node.empty:\n",
    "            print(f\"Missing node data for sensor {sensor['Id']}\")\n",
    "            continue\n",
    "\n",
    "        origin_coords = [origin_node.iloc[0]['Longitude'], origin_node.iloc[0]['Latitude']]\n",
    "        destination_coords = [destination_node.iloc[0]['Longitude'], destination_node.iloc[0]['Latitude']]\n",
    "\n",
    "        # Fetch route data from API\n",
    "        route_data = fetch_route_data(origin_coords, destination_coords)\n",
    "        if not route_data:\n",
    "            edge_features.append({\n",
    "                \"Sensor_Id\": None,\n",
    "                \"Duration\": None,\n",
    "                \"Distance\": None,\n",
    "                \"WayType_1\": None,\n",
    "                \"WayType_2\": None,\n",
    "                \"WayType_Other\": None,\n",
    "                \"AvgSpeed\": None,\n",
    "                \"DetourFactor\": None\n",
    "            })\n",
    "            continue\n",
    "\n",
    "        # Save the JSON response to a file\n",
    "        with open(json_filename, \"w\") as json_file:\n",
    "            json.dump(route_data, json_file, indent=4)\n",
    "\n",
    "    # Extract features\n",
    "    duration = route_data[\"routes\"][0][\"summary\"][\"duration\"]\n",
    "    distance = route_data[\"routes\"][0][\"summary\"][\"distance\"]\n",
    "    \n",
    "    # Extract waytype summary\n",
    "    waytype_summary = route_data[\"routes\"][0][\"extras\"][\"waytypes\"][\"summary\"]\n",
    "    waytype_embedding = [0, 0, 0]  # Only considering types 1 and 2; rest default to 0\n",
    "    \n",
    "    for summary in waytype_summary:\n",
    "        waytype = summary[\"value\"]\n",
    "        amount = summary[\"amount\"] / 100  # Convert percentage to fraction\n",
    "        if waytype == 1:\n",
    "            waytype_embedding[0] += amount\n",
    "        elif waytype == 2:\n",
    "            waytype_embedding[1] += amount\n",
    "        else:\n",
    "            waytype_embedding[2] += amount\n",
    "    \n",
    "    # Extract avg_speed and detour_factor\n",
    "    avg_speed = sum(\n",
    "        seg[\"avgspeed\"] * seg[\"percentage\"] / 100\n",
    "        for seg in route_data[\"routes\"][0][\"segments\"]\n",
    "    )\n",
    "    detour_factor = sum(\n",
    "        seg[\"detourfactor\"] * seg[\"percentage\"] / 100\n",
    "        for seg in route_data[\"routes\"][0][\"segments\"]\n",
    "    )\n",
    "    \n",
    "    # Append features to list\n",
    "    edge_features.append({\n",
    "        \"Sensor_Id\": int(sensor[\"Id\"]),\n",
    "        \"Duration\": duration,\n",
    "        \"Distance\": distance,\n",
    "        \"WayType_1\": waytype_embedding[0],\n",
    "        \"WayType_2\": waytype_embedding[1],\n",
    "        \"WayType_Other\": waytype_embedding[2],\n",
    "        \"AvgSpeed\": avg_speed,\n",
    "        \"DetourFactor\": detour_factor\n",
    "    })\n",
    "    time.sleep(0)\n",
    "\n",
    "# Save the features to a CSV file\n",
    "edge_features_df = pd.DataFrame(edge_features)\n",
    "edge_features_df.to_csv(\"tris_edge_features-v1.1-api.csv\", index=False)"
   ]
  },
  {
   "cell_type": "code",
   "execution_count": 67,
   "metadata": {},
   "outputs": [
    {
     "data": {
      "text/plain": [
       "498"
      ]
     },
     "execution_count": 67,
     "metadata": {},
     "output_type": "execute_result"
    }
   ],
   "source": [
    "len(edge_features)"
   ]
  }
 ],
 "metadata": {
  "kernelspec": {
   "display_name": "myenv",
   "language": "python",
   "name": "python3"
  },
  "language_info": {
   "codemirror_mode": {
    "name": "ipython",
    "version": 3
   },
   "file_extension": ".py",
   "mimetype": "text/x-python",
   "name": "python",
   "nbconvert_exporter": "python",
   "pygments_lexer": "ipython3",
   "version": "3.10.13"
  }
 },
 "nbformat": 4,
 "nbformat_minor": 2
}
