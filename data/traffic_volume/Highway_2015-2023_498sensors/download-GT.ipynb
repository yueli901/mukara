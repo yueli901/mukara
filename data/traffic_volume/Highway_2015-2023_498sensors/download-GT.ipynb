{
 "cells": [
  {
   "cell_type": "code",
   "execution_count": 1,
   "id": "9f093e96-ad5d-4ec4-be35-2a911dbb19f7",
   "metadata": {},
   "outputs": [],
   "source": [
    "### This script download traffic volume ground truth from National Highway using API.\n",
    "### Note that the sensor sequence in the h5 files does not match the sequence in sensors_498.csv, but the site ids are recorded in h5 files.\n",
    "\n",
    "import pandas as pd\n",
    "from tqdm import tqdm\n",
    "import numpy as np\n",
    "import requests\n",
    "import tensorflow as tf\n",
    "\n",
    "df = pd.read_csv('sensors_498.csv')\n",
    "start = '2022-01-01 00:14:00'\n",
    "end = '2022-12-31 23:59:00'"
   ]
  },
  {
   "cell_type": "code",
   "execution_count": 2,
   "id": "eca15cd5-f6e4-4ec8-b7ed-4bd5dd860cc4",
   "metadata": {},
   "outputs": [],
   "source": [
    "# Generate a DataFrame with a fixed set of timestamps for every 15 minutes of y, considering UK DST adjustments\n",
    "def generate_fixed_timestamps(start, end):\n",
    "    # Create range for the whole year with 15-minute intervals\n",
    "    dt_range = pd.date_range(start=start, end=end, freq='15T')\n",
    "\n",
    "    fixed_df = pd.DataFrame({'Timestamp': dt_range})\n",
    "    return fixed_df"
   ]
  },
  {
   "cell_type": "code",
   "execution_count": 3,
   "id": "862149eb-076d-4718-9081-6f94cbc9db2d",
   "metadata": {},
   "outputs": [],
   "source": [
    "# Function to fetch data for a single site\n",
    "def fetch_data_for_site(site_id):\n",
    "    page = 1\n",
    "    while True:\n",
    "        url = f\"{base_url}?sites={site_id}&page={page}&page_size=5000\"\n",
    "        response = requests.get(url)\n",
    "        if response.status_code != 200:\n",
    "            print(f\"Data download stopped at page {page-1} for site {site_id}\")\n",
    "            break\n",
    "        \n",
    "        data = response.json()\n",
    "        if not data['Rows']:\n",
    "            break\n",
    "        \n",
    "        result = pd.DataFrame(data['Rows'])\n",
    "        result.replace({'': np.nan}, inplace=True)\n",
    "        yield result\n",
    "        page += 1\n"
   ]
  },
  {
   "cell_type": "code",
   "execution_count": 4,
   "id": "1185c4d8-1497-4115-8d56-7d171f38236e",
   "metadata": {},
   "outputs": [
    {
     "name": "stderr",
     "output_type": "stream",
     "text": [
      "  0%|          | 1/498 [00:19<2:40:41, 19.40s/it]"
     ]
    },
    {
     "name": "stdout",
     "output_type": "stream",
     "text": [
      "Data download stopped at page 8 for site 8825\n"
     ]
    },
    {
     "name": "stderr",
     "output_type": "stream",
     "text": [
      "  0%|          | 2/498 [00:38<2:39:08, 19.25s/it]"
     ]
    },
    {
     "name": "stdout",
     "output_type": "stream",
     "text": [
      "Data download stopped at page 8 for site 8826\n"
     ]
    },
    {
     "name": "stderr",
     "output_type": "stream",
     "text": [
      "  1%|          | 3/498 [00:57<2:38:07, 19.17s/it]"
     ]
    },
    {
     "name": "stdout",
     "output_type": "stream",
     "text": [
      "Data download stopped at page 8 for site 8851\n"
     ]
    },
    {
     "name": "stderr",
     "output_type": "stream",
     "text": [
      "  1%|          | 4/498 [01:17<2:38:54, 19.30s/it]"
     ]
    },
    {
     "name": "stdout",
     "output_type": "stream",
     "text": [
      "Data download stopped at page 8 for site 8852\n"
     ]
    },
    {
     "name": "stderr",
     "output_type": "stream",
     "text": [
      "  1%|          | 5/498 [01:36<2:39:35, 19.42s/it]"
     ]
    },
    {
     "name": "stdout",
     "output_type": "stream",
     "text": [
      "Data download stopped at page 8 for site 8744\n"
     ]
    },
    {
     "name": "stderr",
     "output_type": "stream",
     "text": [
      "  1%|          | 6/498 [01:56<2:38:58, 19.39s/it]"
     ]
    },
    {
     "name": "stdout",
     "output_type": "stream",
     "text": [
      "Data download stopped at page 8 for site 8745\n"
     ]
    },
    {
     "name": "stderr",
     "output_type": "stream",
     "text": [
      "  1%|▏         | 7/498 [02:15<2:38:44, 19.40s/it]"
     ]
    },
    {
     "name": "stdout",
     "output_type": "stream",
     "text": [
      "Data download stopped at page 8 for site 8772\n"
     ]
    },
    {
     "name": "stderr",
     "output_type": "stream",
     "text": [
      "  2%|▏         | 8/498 [02:35<2:40:52, 19.70s/it]"
     ]
    },
    {
     "name": "stdout",
     "output_type": "stream",
     "text": [
      "Data download stopped at page 8 for site 8770\n"
     ]
    },
    {
     "name": "stderr",
     "output_type": "stream",
     "text": [
      "  2%|▏         | 9/498 [02:54<2:38:55, 19.50s/it]"
     ]
    },
    {
     "name": "stdout",
     "output_type": "stream",
     "text": [
      "Data download stopped at page 8 for site 8736\n"
     ]
    },
    {
     "name": "stderr",
     "output_type": "stream",
     "text": [
      "  2%|▏         | 10/498 [03:14<2:39:33, 19.62s/it]"
     ]
    },
    {
     "name": "stdout",
     "output_type": "stream",
     "text": [
      "Data download stopped at page 8 for site 8737\n"
     ]
    },
    {
     "name": "stderr",
     "output_type": "stream",
     "text": [
      "  2%|▏         | 11/498 [03:34<2:38:58, 19.59s/it]"
     ]
    },
    {
     "name": "stdout",
     "output_type": "stream",
     "text": [
      "Data download stopped at page 8 for site 8728\n"
     ]
    },
    {
     "name": "stderr",
     "output_type": "stream",
     "text": [
      "  2%|▏         | 12/498 [03:53<2:38:01, 19.51s/it]"
     ]
    },
    {
     "name": "stdout",
     "output_type": "stream",
     "text": [
      "Data download stopped at page 8 for site 8729\n"
     ]
    },
    {
     "name": "stderr",
     "output_type": "stream",
     "text": [
      "  3%|▎         | 13/498 [04:13<2:38:59, 19.67s/it]"
     ]
    },
    {
     "name": "stdout",
     "output_type": "stream",
     "text": [
      "Data download stopped at page 8 for site 8739\n"
     ]
    },
    {
     "name": "stderr",
     "output_type": "stream",
     "text": [
      "  3%|▎         | 14/498 [04:33<2:38:00, 19.59s/it]"
     ]
    },
    {
     "name": "stdout",
     "output_type": "stream",
     "text": [
      "Data download stopped at page 8 for site 8738\n"
     ]
    },
    {
     "name": "stderr",
     "output_type": "stream",
     "text": [
      "  3%|▎         | 15/498 [04:52<2:37:29, 19.56s/it]"
     ]
    },
    {
     "name": "stdout",
     "output_type": "stream",
     "text": [
      "Data download stopped at page 8 for site 8351\n"
     ]
    },
    {
     "name": "stderr",
     "output_type": "stream",
     "text": [
      "  3%|▎         | 16/498 [05:12<2:37:41, 19.63s/it]"
     ]
    },
    {
     "name": "stdout",
     "output_type": "stream",
     "text": [
      "Data download stopped at page 8 for site 8349\n"
     ]
    },
    {
     "name": "stderr",
     "output_type": "stream",
     "text": [
      "  3%|▎         | 17/498 [05:31<2:37:16, 19.62s/it]"
     ]
    },
    {
     "name": "stdout",
     "output_type": "stream",
     "text": [
      "Data download stopped at page 8 for site 8402\n"
     ]
    },
    {
     "name": "stderr",
     "output_type": "stream",
     "text": [
      "  4%|▎         | 18/498 [05:52<2:38:50, 19.86s/it]"
     ]
    },
    {
     "name": "stdout",
     "output_type": "stream",
     "text": [
      "Data download stopped at page 8 for site 8680\n"
     ]
    },
    {
     "name": "stderr",
     "output_type": "stream",
     "text": [
      "  4%|▍         | 19/498 [06:12<2:39:07, 19.93s/it]"
     ]
    },
    {
     "name": "stdout",
     "output_type": "stream",
     "text": [
      "Data download stopped at page 8 for site 8712\n"
     ]
    },
    {
     "name": "stderr",
     "output_type": "stream",
     "text": [
      "  4%|▍         | 20/498 [06:38<2:52:34, 21.66s/it]"
     ]
    },
    {
     "name": "stdout",
     "output_type": "stream",
     "text": [
      "Data download stopped at page 8 for site 8713\n"
     ]
    },
    {
     "name": "stderr",
     "output_type": "stream",
     "text": [
      "C:\\Users\\yueli\\AppData\\Local\\Temp\\ipykernel_24428\\919805980.py:37: RuntimeWarning: Mean of empty slice\n",
      "  'Avg mph': lambda x: np.nanmean(x.astype(float)),\n",
      "C:\\Users\\yueli\\AppData\\Local\\Temp\\ipykernel_24428\\919805980.py:37: RuntimeWarning: Mean of empty slice\n",
      "  'Avg mph': lambda x: np.nanmean(x.astype(float)),\n",
      "C:\\Users\\yueli\\AppData\\Local\\Temp\\ipykernel_24428\\919805980.py:37: RuntimeWarning: Mean of empty slice\n",
      "  'Avg mph': lambda x: np.nanmean(x.astype(float)),\n",
      "C:\\Users\\yueli\\AppData\\Local\\Temp\\ipykernel_24428\\919805980.py:37: RuntimeWarning: Mean of empty slice\n",
      "  'Avg mph': lambda x: np.nanmean(x.astype(float)),\n",
      "C:\\Users\\yueli\\AppData\\Local\\Temp\\ipykernel_24428\\919805980.py:38: RuntimeWarning: Mean of empty slice\n",
      "  'Total Volume': lambda x: np.nanmean(x.astype(float)),\n",
      "C:\\Users\\yueli\\AppData\\Local\\Temp\\ipykernel_24428\\919805980.py:38: RuntimeWarning: Mean of empty slice\n",
      "  'Total Volume': lambda x: np.nanmean(x.astype(float)),\n",
      "C:\\Users\\yueli\\AppData\\Local\\Temp\\ipykernel_24428\\919805980.py:38: RuntimeWarning: Mean of empty slice\n",
      "  'Total Volume': lambda x: np.nanmean(x.astype(float)),\n",
      "C:\\Users\\yueli\\AppData\\Local\\Temp\\ipykernel_24428\\919805980.py:38: RuntimeWarning: Mean of empty slice\n",
      "  'Total Volume': lambda x: np.nanmean(x.astype(float)),\n",
      "  4%|▍         | 21/498 [06:56<2:44:01, 20.63s/it]"
     ]
    },
    {
     "name": "stdout",
     "output_type": "stream",
     "text": [
      "Data download stopped at page 8 for site 8369\n"
     ]
    },
    {
     "name": "stderr",
     "output_type": "stream",
     "text": [
      "  4%|▍         | 22/498 [07:15<2:40:56, 20.29s/it]"
     ]
    },
    {
     "name": "stdout",
     "output_type": "stream",
     "text": [
      "Data download stopped at page 8 for site 8370\n"
     ]
    },
    {
     "name": "stderr",
     "output_type": "stream",
     "text": [
      "C:\\Users\\yueli\\AppData\\Local\\Temp\\ipykernel_24428\\919805980.py:37: RuntimeWarning: Mean of empty slice\n",
      "  'Avg mph': lambda x: np.nanmean(x.astype(float)),\n",
      "C:\\Users\\yueli\\AppData\\Local\\Temp\\ipykernel_24428\\919805980.py:37: RuntimeWarning: Mean of empty slice\n",
      "  'Avg mph': lambda x: np.nanmean(x.astype(float)),\n",
      "C:\\Users\\yueli\\AppData\\Local\\Temp\\ipykernel_24428\\919805980.py:37: RuntimeWarning: Mean of empty slice\n",
      "  'Avg mph': lambda x: np.nanmean(x.astype(float)),\n",
      "C:\\Users\\yueli\\AppData\\Local\\Temp\\ipykernel_24428\\919805980.py:37: RuntimeWarning: Mean of empty slice\n",
      "  'Avg mph': lambda x: np.nanmean(x.astype(float)),\n",
      "C:\\Users\\yueli\\AppData\\Local\\Temp\\ipykernel_24428\\919805980.py:38: RuntimeWarning: Mean of empty slice\n",
      "  'Total Volume': lambda x: np.nanmean(x.astype(float)),\n",
      "C:\\Users\\yueli\\AppData\\Local\\Temp\\ipykernel_24428\\919805980.py:38: RuntimeWarning: Mean of empty slice\n",
      "  'Total Volume': lambda x: np.nanmean(x.astype(float)),\n",
      "C:\\Users\\yueli\\AppData\\Local\\Temp\\ipykernel_24428\\919805980.py:38: RuntimeWarning: Mean of empty slice\n",
      "  'Total Volume': lambda x: np.nanmean(x.astype(float)),\n",
      "C:\\Users\\yueli\\AppData\\Local\\Temp\\ipykernel_24428\\919805980.py:38: RuntimeWarning: Mean of empty slice\n",
      "  'Total Volume': lambda x: np.nanmean(x.astype(float)),\n",
      "  5%|▍         | 23/498 [07:33<2:34:07, 19.47s/it]"
     ]
    },
    {
     "name": "stdout",
     "output_type": "stream",
     "text": [
      "Data download stopped at page 8 for site 8754\n",
      "8754 has no valid data.\n"
     ]
    },
    {
     "name": "stderr",
     "output_type": "stream",
     "text": [
      "  5%|▍         | 24/498 [07:53<2:34:47, 19.59s/it]"
     ]
    },
    {
     "name": "stdout",
     "output_type": "stream",
     "text": [
      "Data download stopped at page 8 for site 8756\n"
     ]
    },
    {
     "name": "stderr",
     "output_type": "stream",
     "text": [
      "  5%|▌         | 25/498 [08:13<2:35:40, 19.75s/it]"
     ]
    },
    {
     "name": "stdout",
     "output_type": "stream",
     "text": [
      "Data download stopped at page 8 for site 9138\n"
     ]
    },
    {
     "name": "stderr",
     "output_type": "stream",
     "text": [
      "  5%|▌         | 26/498 [08:32<2:33:41, 19.54s/it]"
     ]
    },
    {
     "name": "stdout",
     "output_type": "stream",
     "text": [
      "Data download stopped at page 8 for site 9137\n"
     ]
    },
    {
     "name": "stderr",
     "output_type": "stream",
     "text": [
      "  5%|▌         | 27/498 [08:51<2:32:17, 19.40s/it]"
     ]
    },
    {
     "name": "stdout",
     "output_type": "stream",
     "text": [
      "Data download stopped at page 8 for site 8626\n"
     ]
    },
    {
     "name": "stderr",
     "output_type": "stream",
     "text": [
      "  6%|▌         | 28/498 [09:10<2:29:43, 19.11s/it]"
     ]
    },
    {
     "name": "stdout",
     "output_type": "stream",
     "text": [
      "Data download stopped at page 8 for site 8625\n"
     ]
    },
    {
     "name": "stderr",
     "output_type": "stream",
     "text": [
      "  6%|▌         | 29/498 [09:29<2:29:16, 19.10s/it]"
     ]
    },
    {
     "name": "stdout",
     "output_type": "stream",
     "text": [
      "Data download stopped at page 8 for site 9390\n"
     ]
    },
    {
     "name": "stderr",
     "output_type": "stream",
     "text": [
      "  6%|▌         | 30/498 [09:48<2:29:39, 19.19s/it]"
     ]
    },
    {
     "name": "stdout",
     "output_type": "stream",
     "text": [
      "Data download stopped at page 8 for site 9395\n"
     ]
    },
    {
     "name": "stderr",
     "output_type": "stream",
     "text": [
      "  6%|▌         | 31/498 [10:06<2:27:06, 18.90s/it]"
     ]
    },
    {
     "name": "stdout",
     "output_type": "stream",
     "text": [
      "Data download stopped at page 7 for site 2118\n"
     ]
    },
    {
     "name": "stderr",
     "output_type": "stream",
     "text": [
      "  6%|▋         | 32/498 [10:25<2:27:41, 19.02s/it]"
     ]
    },
    {
     "name": "stdout",
     "output_type": "stream",
     "text": [
      "Data download stopped at page 8 for site 8627\n"
     ]
    },
    {
     "name": "stderr",
     "output_type": "stream",
     "text": [
      "  7%|▋         | 33/498 [10:45<2:27:51, 19.08s/it]"
     ]
    },
    {
     "name": "stdout",
     "output_type": "stream",
     "text": [
      "Data download stopped at page 8 for site 8661\n"
     ]
    },
    {
     "name": "stderr",
     "output_type": "stream",
     "text": [
      "  7%|▋         | 34/498 [11:05<2:30:14, 19.43s/it]"
     ]
    },
    {
     "name": "stdout",
     "output_type": "stream",
     "text": [
      "Data download stopped at page 8 for site 8659\n"
     ]
    },
    {
     "name": "stderr",
     "output_type": "stream",
     "text": [
      "  7%|▋         | 35/498 [11:23<2:27:17, 19.09s/it]"
     ]
    },
    {
     "name": "stdout",
     "output_type": "stream",
     "text": [
      "Data download stopped at page 7 for site 4284\n"
     ]
    },
    {
     "name": "stderr",
     "output_type": "stream",
     "text": [
      "  7%|▋         | 36/498 [11:41<2:23:56, 18.69s/it]"
     ]
    },
    {
     "name": "stdout",
     "output_type": "stream",
     "text": [
      "Data download stopped at page 7 for site 6002\n"
     ]
    },
    {
     "name": "stderr",
     "output_type": "stream",
     "text": [
      "  7%|▋         | 37/498 [12:00<2:24:30, 18.81s/it]"
     ]
    },
    {
     "name": "stdout",
     "output_type": "stream",
     "text": [
      "Data download stopped at page 8 for site 9553\n"
     ]
    },
    {
     "name": "stderr",
     "output_type": "stream",
     "text": [
      "C:\\Users\\yueli\\AppData\\Local\\Temp\\ipykernel_24428\\919805980.py:37: RuntimeWarning: Mean of empty slice\n",
      "  'Avg mph': lambda x: np.nanmean(x.astype(float)),\n",
      "C:\\Users\\yueli\\AppData\\Local\\Temp\\ipykernel_24428\\919805980.py:37: RuntimeWarning: Mean of empty slice\n",
      "  'Avg mph': lambda x: np.nanmean(x.astype(float)),\n",
      "C:\\Users\\yueli\\AppData\\Local\\Temp\\ipykernel_24428\\919805980.py:37: RuntimeWarning: Mean of empty slice\n",
      "  'Avg mph': lambda x: np.nanmean(x.astype(float)),\n",
      "C:\\Users\\yueli\\AppData\\Local\\Temp\\ipykernel_24428\\919805980.py:37: RuntimeWarning: Mean of empty slice\n",
      "  'Avg mph': lambda x: np.nanmean(x.astype(float)),\n",
      "C:\\Users\\yueli\\AppData\\Local\\Temp\\ipykernel_24428\\919805980.py:38: RuntimeWarning: Mean of empty slice\n",
      "  'Total Volume': lambda x: np.nanmean(x.astype(float)),\n",
      "C:\\Users\\yueli\\AppData\\Local\\Temp\\ipykernel_24428\\919805980.py:38: RuntimeWarning: Mean of empty slice\n",
      "  'Total Volume': lambda x: np.nanmean(x.astype(float)),\n",
      "C:\\Users\\yueli\\AppData\\Local\\Temp\\ipykernel_24428\\919805980.py:38: RuntimeWarning: Mean of empty slice\n",
      "  'Total Volume': lambda x: np.nanmean(x.astype(float)),\n",
      "C:\\Users\\yueli\\AppData\\Local\\Temp\\ipykernel_24428\\919805980.py:38: RuntimeWarning: Mean of empty slice\n",
      "  'Total Volume': lambda x: np.nanmean(x.astype(float)),\n",
      "  8%|▊         | 38/498 [12:18<2:21:48, 18.50s/it]"
     ]
    },
    {
     "name": "stdout",
     "output_type": "stream",
     "text": [
      "Data download stopped at page 8 for site 9567\n"
     ]
    },
    {
     "name": "stderr",
     "output_type": "stream",
     "text": [
      "C:\\Users\\yueli\\AppData\\Local\\Temp\\ipykernel_24428\\919805980.py:37: RuntimeWarning: Mean of empty slice\n",
      "  'Avg mph': lambda x: np.nanmean(x.astype(float)),\n",
      "C:\\Users\\yueli\\AppData\\Local\\Temp\\ipykernel_24428\\919805980.py:37: RuntimeWarning: Mean of empty slice\n",
      "  'Avg mph': lambda x: np.nanmean(x.astype(float)),\n",
      "C:\\Users\\yueli\\AppData\\Local\\Temp\\ipykernel_24428\\919805980.py:37: RuntimeWarning: Mean of empty slice\n",
      "  'Avg mph': lambda x: np.nanmean(x.astype(float)),\n",
      "C:\\Users\\yueli\\AppData\\Local\\Temp\\ipykernel_24428\\919805980.py:37: RuntimeWarning: Mean of empty slice\n",
      "  'Avg mph': lambda x: np.nanmean(x.astype(float)),\n",
      "C:\\Users\\yueli\\AppData\\Local\\Temp\\ipykernel_24428\\919805980.py:38: RuntimeWarning: Mean of empty slice\n",
      "  'Total Volume': lambda x: np.nanmean(x.astype(float)),\n",
      "C:\\Users\\yueli\\AppData\\Local\\Temp\\ipykernel_24428\\919805980.py:38: RuntimeWarning: Mean of empty slice\n",
      "  'Total Volume': lambda x: np.nanmean(x.astype(float)),\n",
      "C:\\Users\\yueli\\AppData\\Local\\Temp\\ipykernel_24428\\919805980.py:38: RuntimeWarning: Mean of empty slice\n",
      "  'Total Volume': lambda x: np.nanmean(x.astype(float)),\n",
      "C:\\Users\\yueli\\AppData\\Local\\Temp\\ipykernel_24428\\919805980.py:38: RuntimeWarning: Mean of empty slice\n",
      "  'Total Volume': lambda x: np.nanmean(x.astype(float)),\n",
      "  8%|▊         | 39/498 [12:34<2:16:30, 17.84s/it]"
     ]
    },
    {
     "name": "stdout",
     "output_type": "stream",
     "text": [
      "Data download stopped at page 7 for site 4195\n"
     ]
    },
    {
     "name": "stderr",
     "output_type": "stream",
     "text": [
      "C:\\Users\\yueli\\AppData\\Local\\Temp\\ipykernel_24428\\919805980.py:37: RuntimeWarning: Mean of empty slice\n",
      "  'Avg mph': lambda x: np.nanmean(x.astype(float)),\n",
      "C:\\Users\\yueli\\AppData\\Local\\Temp\\ipykernel_24428\\919805980.py:37: RuntimeWarning: Mean of empty slice\n",
      "  'Avg mph': lambda x: np.nanmean(x.astype(float)),\n",
      "C:\\Users\\yueli\\AppData\\Local\\Temp\\ipykernel_24428\\919805980.py:37: RuntimeWarning: Mean of empty slice\n",
      "  'Avg mph': lambda x: np.nanmean(x.astype(float)),\n",
      "C:\\Users\\yueli\\AppData\\Local\\Temp\\ipykernel_24428\\919805980.py:37: RuntimeWarning: Mean of empty slice\n",
      "  'Avg mph': lambda x: np.nanmean(x.astype(float)),\n",
      "C:\\Users\\yueli\\AppData\\Local\\Temp\\ipykernel_24428\\919805980.py:38: RuntimeWarning: Mean of empty slice\n",
      "  'Total Volume': lambda x: np.nanmean(x.astype(float)),\n",
      "C:\\Users\\yueli\\AppData\\Local\\Temp\\ipykernel_24428\\919805980.py:38: RuntimeWarning: Mean of empty slice\n",
      "  'Total Volume': lambda x: np.nanmean(x.astype(float)),\n",
      "C:\\Users\\yueli\\AppData\\Local\\Temp\\ipykernel_24428\\919805980.py:38: RuntimeWarning: Mean of empty slice\n",
      "  'Total Volume': lambda x: np.nanmean(x.astype(float)),\n",
      "C:\\Users\\yueli\\AppData\\Local\\Temp\\ipykernel_24428\\919805980.py:38: RuntimeWarning: Mean of empty slice\n",
      "  'Total Volume': lambda x: np.nanmean(x.astype(float)),\n",
      "  8%|▊         | 40/498 [12:52<2:16:02, 17.82s/it]"
     ]
    },
    {
     "name": "stdout",
     "output_type": "stream",
     "text": [
      "Data download stopped at page 7 for site 4155\n"
     ]
    },
    {
     "name": "stderr",
     "output_type": "stream",
     "text": [
      "  8%|▊         | 41/498 [13:10<2:16:38, 17.94s/it]"
     ]
    },
    {
     "name": "stdout",
     "output_type": "stream",
     "text": [
      "Data download stopped at page 7 for site 3803\n"
     ]
    },
    {
     "name": "stderr",
     "output_type": "stream",
     "text": [
      "  8%|▊         | 42/498 [13:28<2:16:47, 18.00s/it]"
     ]
    },
    {
     "name": "stdout",
     "output_type": "stream",
     "text": [
      "Data download stopped at page 7 for site 530\n"
     ]
    },
    {
     "name": "stderr",
     "output_type": "stream",
     "text": [
      "C:\\Users\\yueli\\AppData\\Local\\Temp\\ipykernel_24428\\919805980.py:37: RuntimeWarning: Mean of empty slice\n",
      "  'Avg mph': lambda x: np.nanmean(x.astype(float)),\n",
      "C:\\Users\\yueli\\AppData\\Local\\Temp\\ipykernel_24428\\919805980.py:37: RuntimeWarning: Mean of empty slice\n",
      "  'Avg mph': lambda x: np.nanmean(x.astype(float)),\n",
      "C:\\Users\\yueli\\AppData\\Local\\Temp\\ipykernel_24428\\919805980.py:37: RuntimeWarning: Mean of empty slice\n",
      "  'Avg mph': lambda x: np.nanmean(x.astype(float)),\n",
      "C:\\Users\\yueli\\AppData\\Local\\Temp\\ipykernel_24428\\919805980.py:37: RuntimeWarning: Mean of empty slice\n",
      "  'Avg mph': lambda x: np.nanmean(x.astype(float)),\n",
      "C:\\Users\\yueli\\AppData\\Local\\Temp\\ipykernel_24428\\919805980.py:38: RuntimeWarning: Mean of empty slice\n",
      "  'Total Volume': lambda x: np.nanmean(x.astype(float)),\n",
      "C:\\Users\\yueli\\AppData\\Local\\Temp\\ipykernel_24428\\919805980.py:38: RuntimeWarning: Mean of empty slice\n",
      "  'Total Volume': lambda x: np.nanmean(x.astype(float)),\n",
      "C:\\Users\\yueli\\AppData\\Local\\Temp\\ipykernel_24428\\919805980.py:38: RuntimeWarning: Mean of empty slice\n",
      "  'Total Volume': lambda x: np.nanmean(x.astype(float)),\n",
      "C:\\Users\\yueli\\AppData\\Local\\Temp\\ipykernel_24428\\919805980.py:38: RuntimeWarning: Mean of empty slice\n",
      "  'Total Volume': lambda x: np.nanmean(x.astype(float)),\n",
      "  9%|▊         | 43/498 [13:47<2:17:22, 18.12s/it]"
     ]
    },
    {
     "name": "stdout",
     "output_type": "stream",
     "text": [
      "Data download stopped at page 8 for site 8638\n"
     ]
    },
    {
     "name": "stderr",
     "output_type": "stream",
     "text": [
      "C:\\Users\\yueli\\AppData\\Local\\Temp\\ipykernel_24428\\919805980.py:37: RuntimeWarning: Mean of empty slice\n",
      "  'Avg mph': lambda x: np.nanmean(x.astype(float)),\n",
      "C:\\Users\\yueli\\AppData\\Local\\Temp\\ipykernel_24428\\919805980.py:37: RuntimeWarning: Mean of empty slice\n",
      "  'Avg mph': lambda x: np.nanmean(x.astype(float)),\n",
      "C:\\Users\\yueli\\AppData\\Local\\Temp\\ipykernel_24428\\919805980.py:37: RuntimeWarning: Mean of empty slice\n",
      "  'Avg mph': lambda x: np.nanmean(x.astype(float)),\n",
      "C:\\Users\\yueli\\AppData\\Local\\Temp\\ipykernel_24428\\919805980.py:37: RuntimeWarning: Mean of empty slice\n",
      "  'Avg mph': lambda x: np.nanmean(x.astype(float)),\n",
      "C:\\Users\\yueli\\AppData\\Local\\Temp\\ipykernel_24428\\919805980.py:38: RuntimeWarning: Mean of empty slice\n",
      "  'Total Volume': lambda x: np.nanmean(x.astype(float)),\n",
      "C:\\Users\\yueli\\AppData\\Local\\Temp\\ipykernel_24428\\919805980.py:38: RuntimeWarning: Mean of empty slice\n",
      "  'Total Volume': lambda x: np.nanmean(x.astype(float)),\n",
      "C:\\Users\\yueli\\AppData\\Local\\Temp\\ipykernel_24428\\919805980.py:38: RuntimeWarning: Mean of empty slice\n",
      "  'Total Volume': lambda x: np.nanmean(x.astype(float)),\n",
      "C:\\Users\\yueli\\AppData\\Local\\Temp\\ipykernel_24428\\919805980.py:38: RuntimeWarning: Mean of empty slice\n",
      "  'Total Volume': lambda x: np.nanmean(x.astype(float)),\n",
      "  9%|▉         | 44/498 [14:05<2:17:16, 18.14s/it]"
     ]
    },
    {
     "name": "stdout",
     "output_type": "stream",
     "text": [
      "Data download stopped at page 8 for site 8639\n"
     ]
    },
    {
     "name": "stderr",
     "output_type": "stream",
     "text": [
      "C:\\Users\\yueli\\AppData\\Local\\Temp\\ipykernel_24428\\919805980.py:37: RuntimeWarning: Mean of empty slice\n",
      "  'Avg mph': lambda x: np.nanmean(x.astype(float)),\n",
      "C:\\Users\\yueli\\AppData\\Local\\Temp\\ipykernel_24428\\919805980.py:37: RuntimeWarning: Mean of empty slice\n",
      "  'Avg mph': lambda x: np.nanmean(x.astype(float)),\n",
      "C:\\Users\\yueli\\AppData\\Local\\Temp\\ipykernel_24428\\919805980.py:37: RuntimeWarning: Mean of empty slice\n",
      "  'Avg mph': lambda x: np.nanmean(x.astype(float)),\n",
      "C:\\Users\\yueli\\AppData\\Local\\Temp\\ipykernel_24428\\919805980.py:37: RuntimeWarning: Mean of empty slice\n",
      "  'Avg mph': lambda x: np.nanmean(x.astype(float)),\n",
      "C:\\Users\\yueli\\AppData\\Local\\Temp\\ipykernel_24428\\919805980.py:38: RuntimeWarning: Mean of empty slice\n",
      "  'Total Volume': lambda x: np.nanmean(x.astype(float)),\n",
      "C:\\Users\\yueli\\AppData\\Local\\Temp\\ipykernel_24428\\919805980.py:38: RuntimeWarning: Mean of empty slice\n",
      "  'Total Volume': lambda x: np.nanmean(x.astype(float)),\n",
      "C:\\Users\\yueli\\AppData\\Local\\Temp\\ipykernel_24428\\919805980.py:38: RuntimeWarning: Mean of empty slice\n",
      "  'Total Volume': lambda x: np.nanmean(x.astype(float)),\n",
      "C:\\Users\\yueli\\AppData\\Local\\Temp\\ipykernel_24428\\919805980.py:38: RuntimeWarning: Mean of empty slice\n",
      "  'Total Volume': lambda x: np.nanmean(x.astype(float)),\n",
      "  9%|▉         | 45/498 [14:23<2:17:13, 18.18s/it]"
     ]
    },
    {
     "name": "stdout",
     "output_type": "stream",
     "text": [
      "Data download stopped at page 8 for site 8242\n"
     ]
    },
    {
     "name": "stderr",
     "output_type": "stream",
     "text": [
      "  9%|▉         | 46/498 [14:43<2:20:47, 18.69s/it]"
     ]
    },
    {
     "name": "stdout",
     "output_type": "stream",
     "text": [
      "Data download stopped at page 8 for site 8243\n"
     ]
    },
    {
     "name": "stderr",
     "output_type": "stream",
     "text": [
      "  9%|▉         | 47/498 [15:04<2:25:29, 19.36s/it]"
     ]
    },
    {
     "name": "stdout",
     "output_type": "stream",
     "text": [
      "Data download stopped at page 8 for site 8240\n"
     ]
    },
    {
     "name": "stderr",
     "output_type": "stream",
     "text": [
      " 10%|▉         | 48/498 [15:22<2:23:18, 19.11s/it]"
     ]
    },
    {
     "name": "stdout",
     "output_type": "stream",
     "text": [
      "Data download stopped at page 8 for site 8241\n"
     ]
    },
    {
     "name": "stderr",
     "output_type": "stream",
     "text": [
      " 10%|▉         | 49/498 [15:41<2:21:40, 18.93s/it]"
     ]
    },
    {
     "name": "stdout",
     "output_type": "stream",
     "text": [
      "Data download stopped at page 7 for site 5814\n"
     ]
    },
    {
     "name": "stderr",
     "output_type": "stream",
     "text": [
      " 10%|█         | 50/498 [15:59<2:18:53, 18.60s/it]"
     ]
    },
    {
     "name": "stdout",
     "output_type": "stream",
     "text": [
      "Data download stopped at page 7 for site 1807\n"
     ]
    },
    {
     "name": "stderr",
     "output_type": "stream",
     "text": [
      "C:\\Users\\yueli\\AppData\\Local\\Temp\\ipykernel_24428\\919805980.py:37: RuntimeWarning: Mean of empty slice\n",
      "  'Avg mph': lambda x: np.nanmean(x.astype(float)),\n",
      "C:\\Users\\yueli\\AppData\\Local\\Temp\\ipykernel_24428\\919805980.py:37: RuntimeWarning: Mean of empty slice\n",
      "  'Avg mph': lambda x: np.nanmean(x.astype(float)),\n",
      "C:\\Users\\yueli\\AppData\\Local\\Temp\\ipykernel_24428\\919805980.py:37: RuntimeWarning: Mean of empty slice\n",
      "  'Avg mph': lambda x: np.nanmean(x.astype(float)),\n",
      "C:\\Users\\yueli\\AppData\\Local\\Temp\\ipykernel_24428\\919805980.py:37: RuntimeWarning: Mean of empty slice\n",
      "  'Avg mph': lambda x: np.nanmean(x.astype(float)),\n",
      "C:\\Users\\yueli\\AppData\\Local\\Temp\\ipykernel_24428\\919805980.py:38: RuntimeWarning: Mean of empty slice\n",
      "  'Total Volume': lambda x: np.nanmean(x.astype(float)),\n",
      "C:\\Users\\yueli\\AppData\\Local\\Temp\\ipykernel_24428\\919805980.py:38: RuntimeWarning: Mean of empty slice\n",
      "  'Total Volume': lambda x: np.nanmean(x.astype(float)),\n",
      "C:\\Users\\yueli\\AppData\\Local\\Temp\\ipykernel_24428\\919805980.py:38: RuntimeWarning: Mean of empty slice\n",
      "  'Total Volume': lambda x: np.nanmean(x.astype(float)),\n",
      "C:\\Users\\yueli\\AppData\\Local\\Temp\\ipykernel_24428\\919805980.py:38: RuntimeWarning: Mean of empty slice\n",
      "  'Total Volume': lambda x: np.nanmean(x.astype(float)),\n",
      " 10%|█         | 51/498 [16:15<2:13:53, 17.97s/it]"
     ]
    },
    {
     "name": "stdout",
     "output_type": "stream",
     "text": [
      "Data download stopped at page 7 for site 5112\n",
      "5112 has no valid data.\n"
     ]
    },
    {
     "name": "stderr",
     "output_type": "stream",
     "text": [
      "C:\\Users\\yueli\\AppData\\Local\\Temp\\ipykernel_24428\\919805980.py:37: RuntimeWarning: Mean of empty slice\n",
      "  'Avg mph': lambda x: np.nanmean(x.astype(float)),\n",
      "C:\\Users\\yueli\\AppData\\Local\\Temp\\ipykernel_24428\\919805980.py:37: RuntimeWarning: Mean of empty slice\n",
      "  'Avg mph': lambda x: np.nanmean(x.astype(float)),\n",
      "C:\\Users\\yueli\\AppData\\Local\\Temp\\ipykernel_24428\\919805980.py:37: RuntimeWarning: Mean of empty slice\n",
      "  'Avg mph': lambda x: np.nanmean(x.astype(float)),\n",
      "C:\\Users\\yueli\\AppData\\Local\\Temp\\ipykernel_24428\\919805980.py:37: RuntimeWarning: Mean of empty slice\n",
      "  'Avg mph': lambda x: np.nanmean(x.astype(float)),\n",
      "C:\\Users\\yueli\\AppData\\Local\\Temp\\ipykernel_24428\\919805980.py:38: RuntimeWarning: Mean of empty slice\n",
      "  'Total Volume': lambda x: np.nanmean(x.astype(float)),\n",
      "C:\\Users\\yueli\\AppData\\Local\\Temp\\ipykernel_24428\\919805980.py:38: RuntimeWarning: Mean of empty slice\n",
      "  'Total Volume': lambda x: np.nanmean(x.astype(float)),\n",
      "C:\\Users\\yueli\\AppData\\Local\\Temp\\ipykernel_24428\\919805980.py:38: RuntimeWarning: Mean of empty slice\n",
      "  'Total Volume': lambda x: np.nanmean(x.astype(float)),\n",
      "C:\\Users\\yueli\\AppData\\Local\\Temp\\ipykernel_24428\\919805980.py:38: RuntimeWarning: Mean of empty slice\n",
      "  'Total Volume': lambda x: np.nanmean(x.astype(float)),\n",
      " 10%|█         | 52/498 [16:32<2:10:08, 17.51s/it]"
     ]
    },
    {
     "name": "stdout",
     "output_type": "stream",
     "text": [
      "Data download stopped at page 7 for site 1259\n",
      "1259 has no valid data.\n"
     ]
    },
    {
     "name": "stderr",
     "output_type": "stream",
     "text": [
      " 11%|█         | 53/498 [16:51<2:14:27, 18.13s/it]"
     ]
    },
    {
     "name": "stdout",
     "output_type": "stream",
     "text": [
      "Data download stopped at page 8 for site 9087\n"
     ]
    },
    {
     "name": "stderr",
     "output_type": "stream",
     "text": [
      " 11%|█         | 54/498 [17:11<2:16:35, 18.46s/it]"
     ]
    },
    {
     "name": "stdout",
     "output_type": "stream",
     "text": [
      "Data download stopped at page 8 for site 9086\n"
     ]
    },
    {
     "name": "stderr",
     "output_type": "stream",
     "text": [
      " 11%|█         | 55/498 [17:30<2:19:02, 18.83s/it]"
     ]
    },
    {
     "name": "stdout",
     "output_type": "stream",
     "text": [
      "Data download stopped at page 8 for site 8266\n"
     ]
    },
    {
     "name": "stderr",
     "output_type": "stream",
     "text": [
      " 11%|█         | 56/498 [17:49<2:19:27, 18.93s/it]"
     ]
    },
    {
     "name": "stdout",
     "output_type": "stream",
     "text": [
      "Data download stopped at page 8 for site 8268\n"
     ]
    },
    {
     "name": "stderr",
     "output_type": "stream",
     "text": [
      "C:\\Users\\yueli\\AppData\\Local\\Temp\\ipykernel_24428\\919805980.py:37: RuntimeWarning: Mean of empty slice\n",
      "  'Avg mph': lambda x: np.nanmean(x.astype(float)),\n",
      "C:\\Users\\yueli\\AppData\\Local\\Temp\\ipykernel_24428\\919805980.py:37: RuntimeWarning: Mean of empty slice\n",
      "  'Avg mph': lambda x: np.nanmean(x.astype(float)),\n",
      "C:\\Users\\yueli\\AppData\\Local\\Temp\\ipykernel_24428\\919805980.py:37: RuntimeWarning: Mean of empty slice\n",
      "  'Avg mph': lambda x: np.nanmean(x.astype(float)),\n",
      "C:\\Users\\yueli\\AppData\\Local\\Temp\\ipykernel_24428\\919805980.py:37: RuntimeWarning: Mean of empty slice\n",
      "  'Avg mph': lambda x: np.nanmean(x.astype(float)),\n",
      "C:\\Users\\yueli\\AppData\\Local\\Temp\\ipykernel_24428\\919805980.py:38: RuntimeWarning: Mean of empty slice\n",
      "  'Total Volume': lambda x: np.nanmean(x.astype(float)),\n",
      "C:\\Users\\yueli\\AppData\\Local\\Temp\\ipykernel_24428\\919805980.py:38: RuntimeWarning: Mean of empty slice\n",
      "  'Total Volume': lambda x: np.nanmean(x.astype(float)),\n",
      "C:\\Users\\yueli\\AppData\\Local\\Temp\\ipykernel_24428\\919805980.py:38: RuntimeWarning: Mean of empty slice\n",
      "  'Total Volume': lambda x: np.nanmean(x.astype(float)),\n",
      "C:\\Users\\yueli\\AppData\\Local\\Temp\\ipykernel_24428\\919805980.py:38: RuntimeWarning: Mean of empty slice\n",
      "  'Total Volume': lambda x: np.nanmean(x.astype(float)),\n",
      " 11%|█▏        | 57/498 [18:07<2:16:19, 18.55s/it]"
     ]
    },
    {
     "name": "stdout",
     "output_type": "stream",
     "text": [
      "Data download stopped at page 7 for site 4142\n"
     ]
    },
    {
     "name": "stderr",
     "output_type": "stream",
     "text": [
      " 12%|█▏        | 58/498 [18:27<2:17:58, 18.81s/it]"
     ]
    },
    {
     "name": "stdout",
     "output_type": "stream",
     "text": [
      "Data download stopped at page 7 for site 2196\n"
     ]
    },
    {
     "name": "stderr",
     "output_type": "stream",
     "text": [
      " 12%|█▏        | 59/498 [18:46<2:19:48, 19.11s/it]"
     ]
    },
    {
     "name": "stdout",
     "output_type": "stream",
     "text": [
      "Data download stopped at page 8 for site 8526\n"
     ]
    },
    {
     "name": "stderr",
     "output_type": "stream",
     "text": [
      "C:\\Users\\yueli\\AppData\\Local\\Temp\\ipykernel_24428\\919805980.py:37: RuntimeWarning: Mean of empty slice\n",
      "  'Avg mph': lambda x: np.nanmean(x.astype(float)),\n",
      "C:\\Users\\yueli\\AppData\\Local\\Temp\\ipykernel_24428\\919805980.py:37: RuntimeWarning: Mean of empty slice\n",
      "  'Avg mph': lambda x: np.nanmean(x.astype(float)),\n",
      "C:\\Users\\yueli\\AppData\\Local\\Temp\\ipykernel_24428\\919805980.py:37: RuntimeWarning: Mean of empty slice\n",
      "  'Avg mph': lambda x: np.nanmean(x.astype(float)),\n",
      "C:\\Users\\yueli\\AppData\\Local\\Temp\\ipykernel_24428\\919805980.py:37: RuntimeWarning: Mean of empty slice\n",
      "  'Avg mph': lambda x: np.nanmean(x.astype(float)),\n",
      "C:\\Users\\yueli\\AppData\\Local\\Temp\\ipykernel_24428\\919805980.py:38: RuntimeWarning: Mean of empty slice\n",
      "  'Total Volume': lambda x: np.nanmean(x.astype(float)),\n",
      "C:\\Users\\yueli\\AppData\\Local\\Temp\\ipykernel_24428\\919805980.py:38: RuntimeWarning: Mean of empty slice\n",
      "  'Total Volume': lambda x: np.nanmean(x.astype(float)),\n",
      "C:\\Users\\yueli\\AppData\\Local\\Temp\\ipykernel_24428\\919805980.py:38: RuntimeWarning: Mean of empty slice\n",
      "  'Total Volume': lambda x: np.nanmean(x.astype(float)),\n",
      "C:\\Users\\yueli\\AppData\\Local\\Temp\\ipykernel_24428\\919805980.py:38: RuntimeWarning: Mean of empty slice\n",
      "  'Total Volume': lambda x: np.nanmean(x.astype(float)),\n",
      " 12%|█▏        | 60/498 [19:06<2:19:45, 19.15s/it]"
     ]
    },
    {
     "name": "stdout",
     "output_type": "stream",
     "text": [
      "Data download stopped at page 8 for site 8525\n"
     ]
    },
    {
     "name": "stderr",
     "output_type": "stream",
     "text": [
      " 12%|█▏        | 61/498 [19:24<2:17:30, 18.88s/it]"
     ]
    },
    {
     "name": "stdout",
     "output_type": "stream",
     "text": [
      "Data download stopped at page 7 for site 18134\n"
     ]
    },
    {
     "name": "stderr",
     "output_type": "stream",
     "text": [
      " 12%|█▏        | 62/498 [19:42<2:15:25, 18.64s/it]"
     ]
    },
    {
     "name": "stdout",
     "output_type": "stream",
     "text": [
      "Data download stopped at page 7 for site 18125\n"
     ]
    },
    {
     "name": "stderr",
     "output_type": "stream",
     "text": [
      " 13%|█▎        | 63/498 [20:02<2:18:36, 19.12s/it]"
     ]
    },
    {
     "name": "stdout",
     "output_type": "stream",
     "text": [
      "Data download stopped at page 8 for site 8540\n"
     ]
    },
    {
     "name": "stderr",
     "output_type": "stream",
     "text": [
      "C:\\Users\\yueli\\AppData\\Local\\Temp\\ipykernel_24428\\919805980.py:37: RuntimeWarning: Mean of empty slice\n",
      "  'Avg mph': lambda x: np.nanmean(x.astype(float)),\n",
      "C:\\Users\\yueli\\AppData\\Local\\Temp\\ipykernel_24428\\919805980.py:37: RuntimeWarning: Mean of empty slice\n",
      "  'Avg mph': lambda x: np.nanmean(x.astype(float)),\n",
      "C:\\Users\\yueli\\AppData\\Local\\Temp\\ipykernel_24428\\919805980.py:37: RuntimeWarning: Mean of empty slice\n",
      "  'Avg mph': lambda x: np.nanmean(x.astype(float)),\n",
      "C:\\Users\\yueli\\AppData\\Local\\Temp\\ipykernel_24428\\919805980.py:37: RuntimeWarning: Mean of empty slice\n",
      "  'Avg mph': lambda x: np.nanmean(x.astype(float)),\n",
      "C:\\Users\\yueli\\AppData\\Local\\Temp\\ipykernel_24428\\919805980.py:38: RuntimeWarning: Mean of empty slice\n",
      "  'Total Volume': lambda x: np.nanmean(x.astype(float)),\n",
      "C:\\Users\\yueli\\AppData\\Local\\Temp\\ipykernel_24428\\919805980.py:38: RuntimeWarning: Mean of empty slice\n",
      "  'Total Volume': lambda x: np.nanmean(x.astype(float)),\n",
      "C:\\Users\\yueli\\AppData\\Local\\Temp\\ipykernel_24428\\919805980.py:38: RuntimeWarning: Mean of empty slice\n",
      "  'Total Volume': lambda x: np.nanmean(x.astype(float)),\n",
      "C:\\Users\\yueli\\AppData\\Local\\Temp\\ipykernel_24428\\919805980.py:38: RuntimeWarning: Mean of empty slice\n",
      "  'Total Volume': lambda x: np.nanmean(x.astype(float)),\n",
      " 13%|█▎        | 64/498 [20:21<2:18:26, 19.14s/it]"
     ]
    },
    {
     "name": "stdout",
     "output_type": "stream",
     "text": [
      "Data download stopped at page 8 for site 8539\n"
     ]
    },
    {
     "name": "stderr",
     "output_type": "stream",
     "text": [
      " 13%|█▎        | 65/498 [20:39<2:15:04, 18.72s/it]"
     ]
    },
    {
     "name": "stdout",
     "output_type": "stream",
     "text": [
      "Data download stopped at page 7 for site 5688\n"
     ]
    },
    {
     "name": "stderr",
     "output_type": "stream",
     "text": [
      " 13%|█▎        | 66/498 [20:57<2:12:50, 18.45s/it]"
     ]
    },
    {
     "name": "stdout",
     "output_type": "stream",
     "text": [
      "Data download stopped at page 7 for site 4512\n"
     ]
    },
    {
     "name": "stderr",
     "output_type": "stream",
     "text": [
      " 13%|█▎        | 67/498 [21:15<2:11:05, 18.25s/it]"
     ]
    },
    {
     "name": "stdout",
     "output_type": "stream",
     "text": [
      "Data download stopped at page 7 for site 17661\n"
     ]
    },
    {
     "name": "stderr",
     "output_type": "stream",
     "text": [
      " 14%|█▎        | 68/498 [21:33<2:11:43, 18.38s/it]"
     ]
    },
    {
     "name": "stdout",
     "output_type": "stream",
     "text": [
      "Data download stopped at page 7 for site 17622\n"
     ]
    },
    {
     "name": "stderr",
     "output_type": "stream",
     "text": [
      " 14%|█▍        | 69/498 [21:51<2:10:07, 18.20s/it]"
     ]
    },
    {
     "name": "stdout",
     "output_type": "stream",
     "text": [
      "Data download stopped at page 7 for site 17574\n"
     ]
    },
    {
     "name": "stderr",
     "output_type": "stream",
     "text": [
      " 14%|█▍        | 70/498 [22:09<2:08:38, 18.03s/it]"
     ]
    },
    {
     "name": "stdout",
     "output_type": "stream",
     "text": [
      "Data download stopped at page 7 for site 17592\n"
     ]
    },
    {
     "name": "stderr",
     "output_type": "stream",
     "text": [
      " 14%|█▍        | 71/498 [22:26<2:06:11, 17.73s/it]"
     ]
    },
    {
     "name": "stdout",
     "output_type": "stream",
     "text": [
      "Data download stopped at page 7 for site 851\n"
     ]
    },
    {
     "name": "stderr",
     "output_type": "stream",
     "text": [
      " 14%|█▍        | 72/498 [22:44<2:06:09, 17.77s/it]"
     ]
    },
    {
     "name": "stdout",
     "output_type": "stream",
     "text": [
      "Data download stopped at page 7 for site 827\n"
     ]
    },
    {
     "name": "stderr",
     "output_type": "stream",
     "text": [
      " 15%|█▍        | 73/498 [23:03<2:08:55, 18.20s/it]"
     ]
    },
    {
     "name": "stdout",
     "output_type": "stream",
     "text": [
      "Data download stopped at page 8 for site 14417\n"
     ]
    },
    {
     "name": "stderr",
     "output_type": "stream",
     "text": [
      " 15%|█▍        | 74/498 [23:22<2:11:07, 18.55s/it]"
     ]
    },
    {
     "name": "stdout",
     "output_type": "stream",
     "text": [
      "Data download stopped at page 8 for site 14415\n"
     ]
    },
    {
     "name": "stderr",
     "output_type": "stream",
     "text": [
      "C:\\Users\\yueli\\AppData\\Local\\Temp\\ipykernel_24428\\919805980.py:37: RuntimeWarning: Mean of empty slice\n",
      "  'Avg mph': lambda x: np.nanmean(x.astype(float)),\n",
      "C:\\Users\\yueli\\AppData\\Local\\Temp\\ipykernel_24428\\919805980.py:37: RuntimeWarning: Mean of empty slice\n",
      "  'Avg mph': lambda x: np.nanmean(x.astype(float)),\n",
      "C:\\Users\\yueli\\AppData\\Local\\Temp\\ipykernel_24428\\919805980.py:37: RuntimeWarning: Mean of empty slice\n",
      "  'Avg mph': lambda x: np.nanmean(x.astype(float)),\n",
      "C:\\Users\\yueli\\AppData\\Local\\Temp\\ipykernel_24428\\919805980.py:37: RuntimeWarning: Mean of empty slice\n",
      "  'Avg mph': lambda x: np.nanmean(x.astype(float)),\n",
      "C:\\Users\\yueli\\AppData\\Local\\Temp\\ipykernel_24428\\919805980.py:38: RuntimeWarning: Mean of empty slice\n",
      "  'Total Volume': lambda x: np.nanmean(x.astype(float)),\n",
      "C:\\Users\\yueli\\AppData\\Local\\Temp\\ipykernel_24428\\919805980.py:38: RuntimeWarning: Mean of empty slice\n",
      "  'Total Volume': lambda x: np.nanmean(x.astype(float)),\n",
      "C:\\Users\\yueli\\AppData\\Local\\Temp\\ipykernel_24428\\919805980.py:38: RuntimeWarning: Mean of empty slice\n",
      "  'Total Volume': lambda x: np.nanmean(x.astype(float)),\n",
      "C:\\Users\\yueli\\AppData\\Local\\Temp\\ipykernel_24428\\919805980.py:38: RuntimeWarning: Mean of empty slice\n",
      "  'Total Volume': lambda x: np.nanmean(x.astype(float)),\n",
      " 15%|█▌        | 75/498 [23:40<2:08:59, 18.30s/it]"
     ]
    },
    {
     "name": "stdout",
     "output_type": "stream",
     "text": [
      "Data download stopped at page 7 for site 5092\n"
     ]
    },
    {
     "name": "stderr",
     "output_type": "stream",
     "text": [
      "C:\\Users\\yueli\\AppData\\Local\\Temp\\ipykernel_24428\\919805980.py:37: RuntimeWarning: Mean of empty slice\n",
      "  'Avg mph': lambda x: np.nanmean(x.astype(float)),\n",
      "C:\\Users\\yueli\\AppData\\Local\\Temp\\ipykernel_24428\\919805980.py:37: RuntimeWarning: Mean of empty slice\n",
      "  'Avg mph': lambda x: np.nanmean(x.astype(float)),\n",
      "C:\\Users\\yueli\\AppData\\Local\\Temp\\ipykernel_24428\\919805980.py:37: RuntimeWarning: Mean of empty slice\n",
      "  'Avg mph': lambda x: np.nanmean(x.astype(float)),\n",
      "C:\\Users\\yueli\\AppData\\Local\\Temp\\ipykernel_24428\\919805980.py:37: RuntimeWarning: Mean of empty slice\n",
      "  'Avg mph': lambda x: np.nanmean(x.astype(float)),\n",
      "C:\\Users\\yueli\\AppData\\Local\\Temp\\ipykernel_24428\\919805980.py:38: RuntimeWarning: Mean of empty slice\n",
      "  'Total Volume': lambda x: np.nanmean(x.astype(float)),\n",
      "C:\\Users\\yueli\\AppData\\Local\\Temp\\ipykernel_24428\\919805980.py:38: RuntimeWarning: Mean of empty slice\n",
      "  'Total Volume': lambda x: np.nanmean(x.astype(float)),\n",
      "C:\\Users\\yueli\\AppData\\Local\\Temp\\ipykernel_24428\\919805980.py:38: RuntimeWarning: Mean of empty slice\n",
      "  'Total Volume': lambda x: np.nanmean(x.astype(float)),\n",
      "C:\\Users\\yueli\\AppData\\Local\\Temp\\ipykernel_24428\\919805980.py:38: RuntimeWarning: Mean of empty slice\n",
      "  'Total Volume': lambda x: np.nanmean(x.astype(float)),\n",
      " 15%|█▌        | 76/498 [23:59<2:10:19, 18.53s/it]"
     ]
    },
    {
     "name": "stdout",
     "output_type": "stream",
     "text": [
      "Data download stopped at page 7 for site 3054\n"
     ]
    },
    {
     "name": "stderr",
     "output_type": "stream",
     "text": [
      "C:\\Users\\yueli\\AppData\\Local\\Temp\\ipykernel_24428\\919805980.py:37: RuntimeWarning: Mean of empty slice\n",
      "  'Avg mph': lambda x: np.nanmean(x.astype(float)),\n",
      "C:\\Users\\yueli\\AppData\\Local\\Temp\\ipykernel_24428\\919805980.py:37: RuntimeWarning: Mean of empty slice\n",
      "  'Avg mph': lambda x: np.nanmean(x.astype(float)),\n",
      "C:\\Users\\yueli\\AppData\\Local\\Temp\\ipykernel_24428\\919805980.py:37: RuntimeWarning: Mean of empty slice\n",
      "  'Avg mph': lambda x: np.nanmean(x.astype(float)),\n",
      "C:\\Users\\yueli\\AppData\\Local\\Temp\\ipykernel_24428\\919805980.py:37: RuntimeWarning: Mean of empty slice\n",
      "  'Avg mph': lambda x: np.nanmean(x.astype(float)),\n",
      "C:\\Users\\yueli\\AppData\\Local\\Temp\\ipykernel_24428\\919805980.py:38: RuntimeWarning: Mean of empty slice\n",
      "  'Total Volume': lambda x: np.nanmean(x.astype(float)),\n",
      "C:\\Users\\yueli\\AppData\\Local\\Temp\\ipykernel_24428\\919805980.py:38: RuntimeWarning: Mean of empty slice\n",
      "  'Total Volume': lambda x: np.nanmean(x.astype(float)),\n",
      "C:\\Users\\yueli\\AppData\\Local\\Temp\\ipykernel_24428\\919805980.py:38: RuntimeWarning: Mean of empty slice\n",
      "  'Total Volume': lambda x: np.nanmean(x.astype(float)),\n",
      "C:\\Users\\yueli\\AppData\\Local\\Temp\\ipykernel_24428\\919805980.py:38: RuntimeWarning: Mean of empty slice\n",
      "  'Total Volume': lambda x: np.nanmean(x.astype(float)),\n",
      " 15%|█▌        | 77/498 [24:17<2:09:04, 18.40s/it]"
     ]
    },
    {
     "name": "stdout",
     "output_type": "stream",
     "text": [
      "Data download stopped at page 7 for site 5926\n"
     ]
    },
    {
     "name": "stderr",
     "output_type": "stream",
     "text": [
      "C:\\Users\\yueli\\AppData\\Local\\Temp\\ipykernel_24428\\919805980.py:37: RuntimeWarning: Mean of empty slice\n",
      "  'Avg mph': lambda x: np.nanmean(x.astype(float)),\n",
      "C:\\Users\\yueli\\AppData\\Local\\Temp\\ipykernel_24428\\919805980.py:37: RuntimeWarning: Mean of empty slice\n",
      "  'Avg mph': lambda x: np.nanmean(x.astype(float)),\n",
      "C:\\Users\\yueli\\AppData\\Local\\Temp\\ipykernel_24428\\919805980.py:37: RuntimeWarning: Mean of empty slice\n",
      "  'Avg mph': lambda x: np.nanmean(x.astype(float)),\n",
      "C:\\Users\\yueli\\AppData\\Local\\Temp\\ipykernel_24428\\919805980.py:37: RuntimeWarning: Mean of empty slice\n",
      "  'Avg mph': lambda x: np.nanmean(x.astype(float)),\n",
      "C:\\Users\\yueli\\AppData\\Local\\Temp\\ipykernel_24428\\919805980.py:38: RuntimeWarning: Mean of empty slice\n",
      "  'Total Volume': lambda x: np.nanmean(x.astype(float)),\n",
      "C:\\Users\\yueli\\AppData\\Local\\Temp\\ipykernel_24428\\919805980.py:38: RuntimeWarning: Mean of empty slice\n",
      "  'Total Volume': lambda x: np.nanmean(x.astype(float)),\n",
      "C:\\Users\\yueli\\AppData\\Local\\Temp\\ipykernel_24428\\919805980.py:38: RuntimeWarning: Mean of empty slice\n",
      "  'Total Volume': lambda x: np.nanmean(x.astype(float)),\n",
      "C:\\Users\\yueli\\AppData\\Local\\Temp\\ipykernel_24428\\919805980.py:38: RuntimeWarning: Mean of empty slice\n",
      "  'Total Volume': lambda x: np.nanmean(x.astype(float)),\n",
      " 16%|█▌        | 78/498 [24:35<2:06:51, 18.12s/it]"
     ]
    },
    {
     "name": "stdout",
     "output_type": "stream",
     "text": [
      "Data download stopped at page 7 for site 3929\n",
      "3929 has no valid data.\n"
     ]
    },
    {
     "name": "stderr",
     "output_type": "stream",
     "text": [
      " 16%|█▌        | 79/498 [24:53<2:06:12, 18.07s/it]"
     ]
    },
    {
     "name": "stdout",
     "output_type": "stream",
     "text": [
      "Data download stopped at page 7 for site 4911\n"
     ]
    },
    {
     "name": "stderr",
     "output_type": "stream",
     "text": [
      " 16%|█▌        | 80/498 [25:11<2:06:54, 18.22s/it]"
     ]
    },
    {
     "name": "stdout",
     "output_type": "stream",
     "text": [
      "Data download stopped at page 7 for site 1319\n"
     ]
    },
    {
     "name": "stderr",
     "output_type": "stream",
     "text": [
      " 16%|█▋        | 81/498 [25:30<2:07:17, 18.32s/it]"
     ]
    },
    {
     "name": "stdout",
     "output_type": "stream",
     "text": [
      "Data download stopped at page 7 for site 14625\n"
     ]
    },
    {
     "name": "stderr",
     "output_type": "stream",
     "text": [
      " 16%|█▋        | 82/498 [25:48<2:06:21, 18.22s/it]"
     ]
    },
    {
     "name": "stdout",
     "output_type": "stream",
     "text": [
      "Data download stopped at page 7 for site 14727\n"
     ]
    },
    {
     "name": "stderr",
     "output_type": "stream",
     "text": [
      " 17%|█▋        | 83/498 [26:06<2:05:37, 18.16s/it]"
     ]
    },
    {
     "name": "stdout",
     "output_type": "stream",
     "text": [
      "Data download stopped at page 7 for site 2321\n"
     ]
    },
    {
     "name": "stderr",
     "output_type": "stream",
     "text": [
      " 17%|█▋        | 84/498 [26:24<2:05:08, 18.14s/it]"
     ]
    },
    {
     "name": "stdout",
     "output_type": "stream",
     "text": [
      "Data download stopped at page 7 for site 5335\n"
     ]
    },
    {
     "name": "stderr",
     "output_type": "stream",
     "text": [
      " 17%|█▋        | 85/498 [26:42<2:04:13, 18.05s/it]"
     ]
    },
    {
     "name": "stdout",
     "output_type": "stream",
     "text": [
      "Data download stopped at page 7 for site 1652\n"
     ]
    },
    {
     "name": "stderr",
     "output_type": "stream",
     "text": [
      " 17%|█▋        | 86/498 [26:59<2:03:39, 18.01s/it]"
     ]
    },
    {
     "name": "stdout",
     "output_type": "stream",
     "text": [
      "Data download stopped at page 7 for site 1978\n"
     ]
    },
    {
     "name": "stderr",
     "output_type": "stream",
     "text": [
      " 17%|█▋        | 87/498 [27:17<2:03:03, 17.97s/it]"
     ]
    },
    {
     "name": "stdout",
     "output_type": "stream",
     "text": [
      "Data download stopped at page 7 for site 3127\n"
     ]
    },
    {
     "name": "stderr",
     "output_type": "stream",
     "text": [
      " 18%|█▊        | 88/498 [27:35<2:02:33, 17.93s/it]"
     ]
    },
    {
     "name": "stdout",
     "output_type": "stream",
     "text": [
      "Data download stopped at page 7 for site 4143\n"
     ]
    },
    {
     "name": "stderr",
     "output_type": "stream",
     "text": [
      "C:\\Users\\yueli\\AppData\\Local\\Temp\\ipykernel_24428\\919805980.py:37: RuntimeWarning: Mean of empty slice\n",
      "  'Avg mph': lambda x: np.nanmean(x.astype(float)),\n",
      "C:\\Users\\yueli\\AppData\\Local\\Temp\\ipykernel_24428\\919805980.py:37: RuntimeWarning: Mean of empty slice\n",
      "  'Avg mph': lambda x: np.nanmean(x.astype(float)),\n",
      "C:\\Users\\yueli\\AppData\\Local\\Temp\\ipykernel_24428\\919805980.py:37: RuntimeWarning: Mean of empty slice\n",
      "  'Avg mph': lambda x: np.nanmean(x.astype(float)),\n",
      "C:\\Users\\yueli\\AppData\\Local\\Temp\\ipykernel_24428\\919805980.py:37: RuntimeWarning: Mean of empty slice\n",
      "  'Avg mph': lambda x: np.nanmean(x.astype(float)),\n",
      "C:\\Users\\yueli\\AppData\\Local\\Temp\\ipykernel_24428\\919805980.py:38: RuntimeWarning: Mean of empty slice\n",
      "  'Total Volume': lambda x: np.nanmean(x.astype(float)),\n",
      "C:\\Users\\yueli\\AppData\\Local\\Temp\\ipykernel_24428\\919805980.py:38: RuntimeWarning: Mean of empty slice\n",
      "  'Total Volume': lambda x: np.nanmean(x.astype(float)),\n",
      "C:\\Users\\yueli\\AppData\\Local\\Temp\\ipykernel_24428\\919805980.py:38: RuntimeWarning: Mean of empty slice\n",
      "  'Total Volume': lambda x: np.nanmean(x.astype(float)),\n",
      "C:\\Users\\yueli\\AppData\\Local\\Temp\\ipykernel_24428\\919805980.py:38: RuntimeWarning: Mean of empty slice\n",
      "  'Total Volume': lambda x: np.nanmean(x.astype(float)),\n",
      " 18%|█▊        | 89/498 [27:53<2:01:29, 17.82s/it]"
     ]
    },
    {
     "name": "stdout",
     "output_type": "stream",
     "text": [
      "Data download stopped at page 7 for site 1875\n"
     ]
    },
    {
     "name": "stderr",
     "output_type": "stream",
     "text": [
      " 18%|█▊        | 90/498 [28:12<2:03:35, 18.17s/it]"
     ]
    },
    {
     "name": "stdout",
     "output_type": "stream",
     "text": [
      "Data download stopped at page 7 for site 3289\n"
     ]
    },
    {
     "name": "stderr",
     "output_type": "stream",
     "text": [
      " 18%|█▊        | 91/498 [28:33<2:09:00, 19.02s/it]"
     ]
    },
    {
     "name": "stdout",
     "output_type": "stream",
     "text": [
      "Data download stopped at page 8 for site 6870\n"
     ]
    },
    {
     "name": "stderr",
     "output_type": "stream",
     "text": [
      "C:\\Users\\yueli\\AppData\\Local\\Temp\\ipykernel_24428\\919805980.py:37: RuntimeWarning: Mean of empty slice\n",
      "  'Avg mph': lambda x: np.nanmean(x.astype(float)),\n",
      "C:\\Users\\yueli\\AppData\\Local\\Temp\\ipykernel_24428\\919805980.py:37: RuntimeWarning: Mean of empty slice\n",
      "  'Avg mph': lambda x: np.nanmean(x.astype(float)),\n",
      "C:\\Users\\yueli\\AppData\\Local\\Temp\\ipykernel_24428\\919805980.py:37: RuntimeWarning: Mean of empty slice\n",
      "  'Avg mph': lambda x: np.nanmean(x.astype(float)),\n",
      "C:\\Users\\yueli\\AppData\\Local\\Temp\\ipykernel_24428\\919805980.py:37: RuntimeWarning: Mean of empty slice\n",
      "  'Avg mph': lambda x: np.nanmean(x.astype(float)),\n",
      "C:\\Users\\yueli\\AppData\\Local\\Temp\\ipykernel_24428\\919805980.py:38: RuntimeWarning: Mean of empty slice\n",
      "  'Total Volume': lambda x: np.nanmean(x.astype(float)),\n",
      "C:\\Users\\yueli\\AppData\\Local\\Temp\\ipykernel_24428\\919805980.py:38: RuntimeWarning: Mean of empty slice\n",
      "  'Total Volume': lambda x: np.nanmean(x.astype(float)),\n",
      "C:\\Users\\yueli\\AppData\\Local\\Temp\\ipykernel_24428\\919805980.py:38: RuntimeWarning: Mean of empty slice\n",
      "  'Total Volume': lambda x: np.nanmean(x.astype(float)),\n",
      "C:\\Users\\yueli\\AppData\\Local\\Temp\\ipykernel_24428\\919805980.py:38: RuntimeWarning: Mean of empty slice\n",
      "  'Total Volume': lambda x: np.nanmean(x.astype(float)),\n",
      " 18%|█▊        | 92/498 [28:55<2:14:33, 19.89s/it]"
     ]
    },
    {
     "name": "stdout",
     "output_type": "stream",
     "text": [
      "Data download stopped at page 8 for site 6869\n"
     ]
    },
    {
     "name": "stderr",
     "output_type": "stream",
     "text": [
      " 19%|█▊        | 93/498 [29:13<2:10:41, 19.36s/it]"
     ]
    },
    {
     "name": "stdout",
     "output_type": "stream",
     "text": [
      "Data download stopped at page 7 for site 5392\n"
     ]
    },
    {
     "name": "stderr",
     "output_type": "stream",
     "text": [
      " 19%|█▉        | 94/498 [29:31<2:07:55, 19.00s/it]"
     ]
    },
    {
     "name": "stdout",
     "output_type": "stream",
     "text": [
      "Data download stopped at page 7 for site 666\n"
     ]
    },
    {
     "name": "stderr",
     "output_type": "stream",
     "text": [
      "C:\\Users\\yueli\\AppData\\Local\\Temp\\ipykernel_24428\\919805980.py:37: RuntimeWarning: Mean of empty slice\n",
      "  'Avg mph': lambda x: np.nanmean(x.astype(float)),\n",
      "C:\\Users\\yueli\\AppData\\Local\\Temp\\ipykernel_24428\\919805980.py:37: RuntimeWarning: Mean of empty slice\n",
      "  'Avg mph': lambda x: np.nanmean(x.astype(float)),\n",
      "C:\\Users\\yueli\\AppData\\Local\\Temp\\ipykernel_24428\\919805980.py:37: RuntimeWarning: Mean of empty slice\n",
      "  'Avg mph': lambda x: np.nanmean(x.astype(float)),\n",
      "C:\\Users\\yueli\\AppData\\Local\\Temp\\ipykernel_24428\\919805980.py:37: RuntimeWarning: Mean of empty slice\n",
      "  'Avg mph': lambda x: np.nanmean(x.astype(float)),\n",
      "C:\\Users\\yueli\\AppData\\Local\\Temp\\ipykernel_24428\\919805980.py:38: RuntimeWarning: Mean of empty slice\n",
      "  'Total Volume': lambda x: np.nanmean(x.astype(float)),\n",
      "C:\\Users\\yueli\\AppData\\Local\\Temp\\ipykernel_24428\\919805980.py:38: RuntimeWarning: Mean of empty slice\n",
      "  'Total Volume': lambda x: np.nanmean(x.astype(float)),\n",
      "C:\\Users\\yueli\\AppData\\Local\\Temp\\ipykernel_24428\\919805980.py:38: RuntimeWarning: Mean of empty slice\n",
      "  'Total Volume': lambda x: np.nanmean(x.astype(float)),\n",
      "C:\\Users\\yueli\\AppData\\Local\\Temp\\ipykernel_24428\\919805980.py:38: RuntimeWarning: Mean of empty slice\n",
      "  'Total Volume': lambda x: np.nanmean(x.astype(float)),\n",
      " 19%|█▉        | 95/498 [29:49<2:04:50, 18.59s/it]"
     ]
    },
    {
     "name": "stdout",
     "output_type": "stream",
     "text": [
      "Data download stopped at page 7 for site 3403\n"
     ]
    },
    {
     "name": "stderr",
     "output_type": "stream",
     "text": [
      "C:\\Users\\yueli\\AppData\\Local\\Temp\\ipykernel_24428\\919805980.py:37: RuntimeWarning: Mean of empty slice\n",
      "  'Avg mph': lambda x: np.nanmean(x.astype(float)),\n",
      "C:\\Users\\yueli\\AppData\\Local\\Temp\\ipykernel_24428\\919805980.py:37: RuntimeWarning: Mean of empty slice\n",
      "  'Avg mph': lambda x: np.nanmean(x.astype(float)),\n",
      "C:\\Users\\yueli\\AppData\\Local\\Temp\\ipykernel_24428\\919805980.py:37: RuntimeWarning: Mean of empty slice\n",
      "  'Avg mph': lambda x: np.nanmean(x.astype(float)),\n",
      "C:\\Users\\yueli\\AppData\\Local\\Temp\\ipykernel_24428\\919805980.py:37: RuntimeWarning: Mean of empty slice\n",
      "  'Avg mph': lambda x: np.nanmean(x.astype(float)),\n",
      "C:\\Users\\yueli\\AppData\\Local\\Temp\\ipykernel_24428\\919805980.py:38: RuntimeWarning: Mean of empty slice\n",
      "  'Total Volume': lambda x: np.nanmean(x.astype(float)),\n",
      "C:\\Users\\yueli\\AppData\\Local\\Temp\\ipykernel_24428\\919805980.py:38: RuntimeWarning: Mean of empty slice\n",
      "  'Total Volume': lambda x: np.nanmean(x.astype(float)),\n",
      "C:\\Users\\yueli\\AppData\\Local\\Temp\\ipykernel_24428\\919805980.py:38: RuntimeWarning: Mean of empty slice\n",
      "  'Total Volume': lambda x: np.nanmean(x.astype(float)),\n",
      "C:\\Users\\yueli\\AppData\\Local\\Temp\\ipykernel_24428\\919805980.py:38: RuntimeWarning: Mean of empty slice\n",
      "  'Total Volume': lambda x: np.nanmean(x.astype(float)),\n",
      " 19%|█▉        | 96/498 [30:06<2:02:14, 18.24s/it]"
     ]
    },
    {
     "name": "stdout",
     "output_type": "stream",
     "text": [
      "Data download stopped at page 7 for site 3504\n"
     ]
    },
    {
     "name": "stderr",
     "output_type": "stream",
     "text": [
      " 19%|█▉        | 97/498 [30:24<2:01:50, 18.23s/it]"
     ]
    },
    {
     "name": "stdout",
     "output_type": "stream",
     "text": [
      "Data download stopped at page 7 for site 812\n"
     ]
    },
    {
     "name": "stderr",
     "output_type": "stream",
     "text": [
      " 20%|█▉        | 98/498 [30:45<2:05:57, 18.89s/it]"
     ]
    },
    {
     "name": "stdout",
     "output_type": "stream",
     "text": [
      "Data download stopped at page 7 for site 6045\n"
     ]
    },
    {
     "name": "stderr",
     "output_type": "stream",
     "text": [
      " 20%|█▉        | 99/498 [31:06<2:10:42, 19.65s/it]"
     ]
    },
    {
     "name": "stdout",
     "output_type": "stream",
     "text": [
      "Data download stopped at page 8 for site 7137\n"
     ]
    },
    {
     "name": "stderr",
     "output_type": "stream",
     "text": [
      " 20%|██        | 100/498 [31:28<2:13:55, 20.19s/it]"
     ]
    },
    {
     "name": "stdout",
     "output_type": "stream",
     "text": [
      "Data download stopped at page 8 for site 7138\n"
     ]
    },
    {
     "name": "stderr",
     "output_type": "stream",
     "text": [
      " 20%|██        | 101/498 [31:46<2:10:12, 19.68s/it]"
     ]
    },
    {
     "name": "stdout",
     "output_type": "stream",
     "text": [
      "Data download stopped at page 7 for site 5864\n"
     ]
    },
    {
     "name": "stderr",
     "output_type": "stream",
     "text": [
      " 20%|██        | 102/498 [32:05<2:07:51, 19.37s/it]"
     ]
    },
    {
     "name": "stdout",
     "output_type": "stream",
     "text": [
      "Data download stopped at page 7 for site 4827\n"
     ]
    },
    {
     "name": "stderr",
     "output_type": "stream",
     "text": [
      " 21%|██        | 103/498 [32:24<2:07:50, 19.42s/it]"
     ]
    },
    {
     "name": "stdout",
     "output_type": "stream",
     "text": [
      "Data download stopped at page 8 for site 8695\n"
     ]
    },
    {
     "name": "stderr",
     "output_type": "stream",
     "text": [
      " 21%|██        | 104/498 [32:43<2:07:03, 19.35s/it]"
     ]
    },
    {
     "name": "stdout",
     "output_type": "stream",
     "text": [
      "Data download stopped at page 8 for site 8694\n"
     ]
    },
    {
     "name": "stderr",
     "output_type": "stream",
     "text": [
      " 21%|██        | 105/498 [33:03<2:07:58, 19.54s/it]"
     ]
    },
    {
     "name": "stdout",
     "output_type": "stream",
     "text": [
      "Data download stopped at page 8 for site 8701\n"
     ]
    },
    {
     "name": "stderr",
     "output_type": "stream",
     "text": [
      " 21%|██▏       | 106/498 [33:23<2:06:56, 19.43s/it]"
     ]
    },
    {
     "name": "stdout",
     "output_type": "stream",
     "text": [
      "Data download stopped at page 8 for site 8700\n"
     ]
    },
    {
     "name": "stderr",
     "output_type": "stream",
     "text": [
      "C:\\Users\\yueli\\AppData\\Local\\Temp\\ipykernel_24428\\919805980.py:37: RuntimeWarning: Mean of empty slice\n",
      "  'Avg mph': lambda x: np.nanmean(x.astype(float)),\n",
      "C:\\Users\\yueli\\AppData\\Local\\Temp\\ipykernel_24428\\919805980.py:37: RuntimeWarning: Mean of empty slice\n",
      "  'Avg mph': lambda x: np.nanmean(x.astype(float)),\n",
      "C:\\Users\\yueli\\AppData\\Local\\Temp\\ipykernel_24428\\919805980.py:37: RuntimeWarning: Mean of empty slice\n",
      "  'Avg mph': lambda x: np.nanmean(x.astype(float)),\n",
      "C:\\Users\\yueli\\AppData\\Local\\Temp\\ipykernel_24428\\919805980.py:37: RuntimeWarning: Mean of empty slice\n",
      "  'Avg mph': lambda x: np.nanmean(x.astype(float)),\n",
      "C:\\Users\\yueli\\AppData\\Local\\Temp\\ipykernel_24428\\919805980.py:38: RuntimeWarning: Mean of empty slice\n",
      "  'Total Volume': lambda x: np.nanmean(x.astype(float)),\n",
      "C:\\Users\\yueli\\AppData\\Local\\Temp\\ipykernel_24428\\919805980.py:38: RuntimeWarning: Mean of empty slice\n",
      "  'Total Volume': lambda x: np.nanmean(x.astype(float)),\n",
      "C:\\Users\\yueli\\AppData\\Local\\Temp\\ipykernel_24428\\919805980.py:38: RuntimeWarning: Mean of empty slice\n",
      "  'Total Volume': lambda x: np.nanmean(x.astype(float)),\n",
      "C:\\Users\\yueli\\AppData\\Local\\Temp\\ipykernel_24428\\919805980.py:38: RuntimeWarning: Mean of empty slice\n",
      "  'Total Volume': lambda x: np.nanmean(x.astype(float)),\n",
      " 21%|██▏       | 107/498 [33:40<2:01:58, 18.72s/it]"
     ]
    },
    {
     "name": "stdout",
     "output_type": "stream",
     "text": [
      "Data download stopped at page 7 for site 6292\n"
     ]
    },
    {
     "name": "stderr",
     "output_type": "stream",
     "text": [
      "C:\\Users\\yueli\\AppData\\Local\\Temp\\ipykernel_24428\\919805980.py:37: RuntimeWarning: Mean of empty slice\n",
      "  'Avg mph': lambda x: np.nanmean(x.astype(float)),\n",
      "C:\\Users\\yueli\\AppData\\Local\\Temp\\ipykernel_24428\\919805980.py:37: RuntimeWarning: Mean of empty slice\n",
      "  'Avg mph': lambda x: np.nanmean(x.astype(float)),\n",
      "C:\\Users\\yueli\\AppData\\Local\\Temp\\ipykernel_24428\\919805980.py:37: RuntimeWarning: Mean of empty slice\n",
      "  'Avg mph': lambda x: np.nanmean(x.astype(float)),\n",
      "C:\\Users\\yueli\\AppData\\Local\\Temp\\ipykernel_24428\\919805980.py:37: RuntimeWarning: Mean of empty slice\n",
      "  'Avg mph': lambda x: np.nanmean(x.astype(float)),\n",
      "C:\\Users\\yueli\\AppData\\Local\\Temp\\ipykernel_24428\\919805980.py:38: RuntimeWarning: Mean of empty slice\n",
      "  'Total Volume': lambda x: np.nanmean(x.astype(float)),\n",
      "C:\\Users\\yueli\\AppData\\Local\\Temp\\ipykernel_24428\\919805980.py:38: RuntimeWarning: Mean of empty slice\n",
      "  'Total Volume': lambda x: np.nanmean(x.astype(float)),\n",
      "C:\\Users\\yueli\\AppData\\Local\\Temp\\ipykernel_24428\\919805980.py:38: RuntimeWarning: Mean of empty slice\n",
      "  'Total Volume': lambda x: np.nanmean(x.astype(float)),\n",
      "C:\\Users\\yueli\\AppData\\Local\\Temp\\ipykernel_24428\\919805980.py:38: RuntimeWarning: Mean of empty slice\n",
      "  'Total Volume': lambda x: np.nanmean(x.astype(float)),\n",
      " 22%|██▏       | 108/498 [33:56<1:57:10, 18.03s/it]"
     ]
    },
    {
     "name": "stdout",
     "output_type": "stream",
     "text": [
      "Data download stopped at page 7 for site 1680\n"
     ]
    },
    {
     "name": "stderr",
     "output_type": "stream",
     "text": [
      " 22%|██▏       | 109/498 [34:14<1:57:23, 18.11s/it]"
     ]
    },
    {
     "name": "stdout",
     "output_type": "stream",
     "text": [
      "Data download stopped at page 7 for site 2327\n"
     ]
    },
    {
     "name": "stderr",
     "output_type": "stream",
     "text": [
      " 22%|██▏       | 110/498 [34:33<1:58:30, 18.33s/it]"
     ]
    },
    {
     "name": "stdout",
     "output_type": "stream",
     "text": [
      "Data download stopped at page 7 for site 1879\n"
     ]
    },
    {
     "name": "stderr",
     "output_type": "stream",
     "text": [
      "C:\\Users\\yueli\\AppData\\Local\\Temp\\ipykernel_24428\\919805980.py:37: RuntimeWarning: Mean of empty slice\n",
      "  'Avg mph': lambda x: np.nanmean(x.astype(float)),\n",
      "C:\\Users\\yueli\\AppData\\Local\\Temp\\ipykernel_24428\\919805980.py:37: RuntimeWarning: Mean of empty slice\n",
      "  'Avg mph': lambda x: np.nanmean(x.astype(float)),\n",
      "C:\\Users\\yueli\\AppData\\Local\\Temp\\ipykernel_24428\\919805980.py:37: RuntimeWarning: Mean of empty slice\n",
      "  'Avg mph': lambda x: np.nanmean(x.astype(float)),\n",
      "C:\\Users\\yueli\\AppData\\Local\\Temp\\ipykernel_24428\\919805980.py:37: RuntimeWarning: Mean of empty slice\n",
      "  'Avg mph': lambda x: np.nanmean(x.astype(float)),\n",
      "C:\\Users\\yueli\\AppData\\Local\\Temp\\ipykernel_24428\\919805980.py:38: RuntimeWarning: Mean of empty slice\n",
      "  'Total Volume': lambda x: np.nanmean(x.astype(float)),\n",
      "C:\\Users\\yueli\\AppData\\Local\\Temp\\ipykernel_24428\\919805980.py:38: RuntimeWarning: Mean of empty slice\n",
      "  'Total Volume': lambda x: np.nanmean(x.astype(float)),\n",
      "C:\\Users\\yueli\\AppData\\Local\\Temp\\ipykernel_24428\\919805980.py:38: RuntimeWarning: Mean of empty slice\n",
      "  'Total Volume': lambda x: np.nanmean(x.astype(float)),\n",
      "C:\\Users\\yueli\\AppData\\Local\\Temp\\ipykernel_24428\\919805980.py:38: RuntimeWarning: Mean of empty slice\n",
      "  'Total Volume': lambda x: np.nanmean(x.astype(float)),\n",
      " 22%|██▏       | 111/498 [34:50<1:54:47, 17.80s/it]"
     ]
    },
    {
     "name": "stdout",
     "output_type": "stream",
     "text": [
      "Data download stopped at page 7 for site 3841\n"
     ]
    },
    {
     "name": "stderr",
     "output_type": "stream",
     "text": [
      "C:\\Users\\yueli\\AppData\\Local\\Temp\\ipykernel_24428\\919805980.py:37: RuntimeWarning: Mean of empty slice\n",
      "  'Avg mph': lambda x: np.nanmean(x.astype(float)),\n",
      "C:\\Users\\yueli\\AppData\\Local\\Temp\\ipykernel_24428\\919805980.py:37: RuntimeWarning: Mean of empty slice\n",
      "  'Avg mph': lambda x: np.nanmean(x.astype(float)),\n",
      "C:\\Users\\yueli\\AppData\\Local\\Temp\\ipykernel_24428\\919805980.py:37: RuntimeWarning: Mean of empty slice\n",
      "  'Avg mph': lambda x: np.nanmean(x.astype(float)),\n",
      "C:\\Users\\yueli\\AppData\\Local\\Temp\\ipykernel_24428\\919805980.py:37: RuntimeWarning: Mean of empty slice\n",
      "  'Avg mph': lambda x: np.nanmean(x.astype(float)),\n",
      "C:\\Users\\yueli\\AppData\\Local\\Temp\\ipykernel_24428\\919805980.py:38: RuntimeWarning: Mean of empty slice\n",
      "  'Total Volume': lambda x: np.nanmean(x.astype(float)),\n",
      "C:\\Users\\yueli\\AppData\\Local\\Temp\\ipykernel_24428\\919805980.py:38: RuntimeWarning: Mean of empty slice\n",
      "  'Total Volume': lambda x: np.nanmean(x.astype(float)),\n",
      "C:\\Users\\yueli\\AppData\\Local\\Temp\\ipykernel_24428\\919805980.py:38: RuntimeWarning: Mean of empty slice\n",
      "  'Total Volume': lambda x: np.nanmean(x.astype(float)),\n",
      "C:\\Users\\yueli\\AppData\\Local\\Temp\\ipykernel_24428\\919805980.py:38: RuntimeWarning: Mean of empty slice\n",
      "  'Total Volume': lambda x: np.nanmean(x.astype(float)),\n",
      " 22%|██▏       | 112/498 [35:07<1:52:40, 17.51s/it]"
     ]
    },
    {
     "name": "stdout",
     "output_type": "stream",
     "text": [
      "Data download stopped at page 7 for site 4646\n"
     ]
    },
    {
     "name": "stderr",
     "output_type": "stream",
     "text": [
      "C:\\Users\\yueli\\AppData\\Local\\Temp\\ipykernel_24428\\919805980.py:37: RuntimeWarning: Mean of empty slice\n",
      "  'Avg mph': lambda x: np.nanmean(x.astype(float)),\n",
      "C:\\Users\\yueli\\AppData\\Local\\Temp\\ipykernel_24428\\919805980.py:37: RuntimeWarning: Mean of empty slice\n",
      "  'Avg mph': lambda x: np.nanmean(x.astype(float)),\n",
      "C:\\Users\\yueli\\AppData\\Local\\Temp\\ipykernel_24428\\919805980.py:37: RuntimeWarning: Mean of empty slice\n",
      "  'Avg mph': lambda x: np.nanmean(x.astype(float)),\n",
      "C:\\Users\\yueli\\AppData\\Local\\Temp\\ipykernel_24428\\919805980.py:37: RuntimeWarning: Mean of empty slice\n",
      "  'Avg mph': lambda x: np.nanmean(x.astype(float)),\n",
      "C:\\Users\\yueli\\AppData\\Local\\Temp\\ipykernel_24428\\919805980.py:38: RuntimeWarning: Mean of empty slice\n",
      "  'Total Volume': lambda x: np.nanmean(x.astype(float)),\n",
      "C:\\Users\\yueli\\AppData\\Local\\Temp\\ipykernel_24428\\919805980.py:38: RuntimeWarning: Mean of empty slice\n",
      "  'Total Volume': lambda x: np.nanmean(x.astype(float)),\n",
      "C:\\Users\\yueli\\AppData\\Local\\Temp\\ipykernel_24428\\919805980.py:38: RuntimeWarning: Mean of empty slice\n",
      "  'Total Volume': lambda x: np.nanmean(x.astype(float)),\n",
      "C:\\Users\\yueli\\AppData\\Local\\Temp\\ipykernel_24428\\919805980.py:38: RuntimeWarning: Mean of empty slice\n",
      "  'Total Volume': lambda x: np.nanmean(x.astype(float)),\n",
      " 23%|██▎       | 113/498 [35:23<1:49:50, 17.12s/it]"
     ]
    },
    {
     "name": "stdout",
     "output_type": "stream",
     "text": [
      "Data download stopped at page 7 for site 184\n"
     ]
    },
    {
     "name": "stderr",
     "output_type": "stream",
     "text": [
      "C:\\Users\\yueli\\AppData\\Local\\Temp\\ipykernel_24428\\919805980.py:37: RuntimeWarning: Mean of empty slice\n",
      "  'Avg mph': lambda x: np.nanmean(x.astype(float)),\n",
      "C:\\Users\\yueli\\AppData\\Local\\Temp\\ipykernel_24428\\919805980.py:37: RuntimeWarning: Mean of empty slice\n",
      "  'Avg mph': lambda x: np.nanmean(x.astype(float)),\n",
      "C:\\Users\\yueli\\AppData\\Local\\Temp\\ipykernel_24428\\919805980.py:37: RuntimeWarning: Mean of empty slice\n",
      "  'Avg mph': lambda x: np.nanmean(x.astype(float)),\n",
      "C:\\Users\\yueli\\AppData\\Local\\Temp\\ipykernel_24428\\919805980.py:37: RuntimeWarning: Mean of empty slice\n",
      "  'Avg mph': lambda x: np.nanmean(x.astype(float)),\n",
      "C:\\Users\\yueli\\AppData\\Local\\Temp\\ipykernel_24428\\919805980.py:38: RuntimeWarning: Mean of empty slice\n",
      "  'Total Volume': lambda x: np.nanmean(x.astype(float)),\n",
      "C:\\Users\\yueli\\AppData\\Local\\Temp\\ipykernel_24428\\919805980.py:38: RuntimeWarning: Mean of empty slice\n",
      "  'Total Volume': lambda x: np.nanmean(x.astype(float)),\n",
      "C:\\Users\\yueli\\AppData\\Local\\Temp\\ipykernel_24428\\919805980.py:38: RuntimeWarning: Mean of empty slice\n",
      "  'Total Volume': lambda x: np.nanmean(x.astype(float)),\n",
      "C:\\Users\\yueli\\AppData\\Local\\Temp\\ipykernel_24428\\919805980.py:38: RuntimeWarning: Mean of empty slice\n",
      "  'Total Volume': lambda x: np.nanmean(x.astype(float)),\n",
      " 23%|██▎       | 114/498 [35:40<1:49:13, 17.07s/it]"
     ]
    },
    {
     "name": "stdout",
     "output_type": "stream",
     "text": [
      "Data download stopped at page 7 for site 1048\n"
     ]
    },
    {
     "name": "stderr",
     "output_type": "stream",
     "text": [
      "C:\\Users\\yueli\\AppData\\Local\\Temp\\ipykernel_24428\\919805980.py:37: RuntimeWarning: Mean of empty slice\n",
      "  'Avg mph': lambda x: np.nanmean(x.astype(float)),\n",
      "C:\\Users\\yueli\\AppData\\Local\\Temp\\ipykernel_24428\\919805980.py:37: RuntimeWarning: Mean of empty slice\n",
      "  'Avg mph': lambda x: np.nanmean(x.astype(float)),\n",
      "C:\\Users\\yueli\\AppData\\Local\\Temp\\ipykernel_24428\\919805980.py:37: RuntimeWarning: Mean of empty slice\n",
      "  'Avg mph': lambda x: np.nanmean(x.astype(float)),\n",
      "C:\\Users\\yueli\\AppData\\Local\\Temp\\ipykernel_24428\\919805980.py:37: RuntimeWarning: Mean of empty slice\n",
      "  'Avg mph': lambda x: np.nanmean(x.astype(float)),\n",
      "C:\\Users\\yueli\\AppData\\Local\\Temp\\ipykernel_24428\\919805980.py:38: RuntimeWarning: Mean of empty slice\n",
      "  'Total Volume': lambda x: np.nanmean(x.astype(float)),\n",
      "C:\\Users\\yueli\\AppData\\Local\\Temp\\ipykernel_24428\\919805980.py:38: RuntimeWarning: Mean of empty slice\n",
      "  'Total Volume': lambda x: np.nanmean(x.astype(float)),\n",
      "C:\\Users\\yueli\\AppData\\Local\\Temp\\ipykernel_24428\\919805980.py:38: RuntimeWarning: Mean of empty slice\n",
      "  'Total Volume': lambda x: np.nanmean(x.astype(float)),\n",
      "C:\\Users\\yueli\\AppData\\Local\\Temp\\ipykernel_24428\\919805980.py:38: RuntimeWarning: Mean of empty slice\n",
      "  'Total Volume': lambda x: np.nanmean(x.astype(float)),\n",
      " 23%|██▎       | 115/498 [35:58<1:50:30, 17.31s/it]"
     ]
    },
    {
     "name": "stdout",
     "output_type": "stream",
     "text": [
      "Data download stopped at page 7 for site 5422\n"
     ]
    },
    {
     "name": "stderr",
     "output_type": "stream",
     "text": [
      "C:\\Users\\yueli\\AppData\\Local\\Temp\\ipykernel_24428\\919805980.py:37: RuntimeWarning: Mean of empty slice\n",
      "  'Avg mph': lambda x: np.nanmean(x.astype(float)),\n",
      "C:\\Users\\yueli\\AppData\\Local\\Temp\\ipykernel_24428\\919805980.py:37: RuntimeWarning: Mean of empty slice\n",
      "  'Avg mph': lambda x: np.nanmean(x.astype(float)),\n",
      "C:\\Users\\yueli\\AppData\\Local\\Temp\\ipykernel_24428\\919805980.py:37: RuntimeWarning: Mean of empty slice\n",
      "  'Avg mph': lambda x: np.nanmean(x.astype(float)),\n",
      "C:\\Users\\yueli\\AppData\\Local\\Temp\\ipykernel_24428\\919805980.py:37: RuntimeWarning: Mean of empty slice\n",
      "  'Avg mph': lambda x: np.nanmean(x.astype(float)),\n",
      "C:\\Users\\yueli\\AppData\\Local\\Temp\\ipykernel_24428\\919805980.py:38: RuntimeWarning: Mean of empty slice\n",
      "  'Total Volume': lambda x: np.nanmean(x.astype(float)),\n",
      "C:\\Users\\yueli\\AppData\\Local\\Temp\\ipykernel_24428\\919805980.py:38: RuntimeWarning: Mean of empty slice\n",
      "  'Total Volume': lambda x: np.nanmean(x.astype(float)),\n",
      "C:\\Users\\yueli\\AppData\\Local\\Temp\\ipykernel_24428\\919805980.py:38: RuntimeWarning: Mean of empty slice\n",
      "  'Total Volume': lambda x: np.nanmean(x.astype(float)),\n",
      "C:\\Users\\yueli\\AppData\\Local\\Temp\\ipykernel_24428\\919805980.py:38: RuntimeWarning: Mean of empty slice\n",
      "  'Total Volume': lambda x: np.nanmean(x.astype(float)),\n",
      " 23%|██▎       | 116/498 [36:15<1:49:29, 17.20s/it]"
     ]
    },
    {
     "name": "stdout",
     "output_type": "stream",
     "text": [
      "Data download stopped at page 7 for site 4690\n"
     ]
    },
    {
     "name": "stderr",
     "output_type": "stream",
     "text": [
      "C:\\Users\\yueli\\AppData\\Local\\Temp\\ipykernel_24428\\919805980.py:37: RuntimeWarning: Mean of empty slice\n",
      "  'Avg mph': lambda x: np.nanmean(x.astype(float)),\n",
      "C:\\Users\\yueli\\AppData\\Local\\Temp\\ipykernel_24428\\919805980.py:37: RuntimeWarning: Mean of empty slice\n",
      "  'Avg mph': lambda x: np.nanmean(x.astype(float)),\n",
      "C:\\Users\\yueli\\AppData\\Local\\Temp\\ipykernel_24428\\919805980.py:37: RuntimeWarning: Mean of empty slice\n",
      "  'Avg mph': lambda x: np.nanmean(x.astype(float)),\n",
      "C:\\Users\\yueli\\AppData\\Local\\Temp\\ipykernel_24428\\919805980.py:37: RuntimeWarning: Mean of empty slice\n",
      "  'Avg mph': lambda x: np.nanmean(x.astype(float)),\n",
      "C:\\Users\\yueli\\AppData\\Local\\Temp\\ipykernel_24428\\919805980.py:38: RuntimeWarning: Mean of empty slice\n",
      "  'Total Volume': lambda x: np.nanmean(x.astype(float)),\n",
      "C:\\Users\\yueli\\AppData\\Local\\Temp\\ipykernel_24428\\919805980.py:38: RuntimeWarning: Mean of empty slice\n",
      "  'Total Volume': lambda x: np.nanmean(x.astype(float)),\n",
      "C:\\Users\\yueli\\AppData\\Local\\Temp\\ipykernel_24428\\919805980.py:38: RuntimeWarning: Mean of empty slice\n",
      "  'Total Volume': lambda x: np.nanmean(x.astype(float)),\n",
      "C:\\Users\\yueli\\AppData\\Local\\Temp\\ipykernel_24428\\919805980.py:38: RuntimeWarning: Mean of empty slice\n",
      "  'Total Volume': lambda x: np.nanmean(x.astype(float)),\n",
      " 23%|██▎       | 117/498 [36:33<1:51:32, 17.57s/it]"
     ]
    },
    {
     "name": "stdout",
     "output_type": "stream",
     "text": [
      "Data download stopped at page 8 for site 8600\n"
     ]
    },
    {
     "name": "stderr",
     "output_type": "stream",
     "text": [
      " 24%|██▎       | 118/498 [36:52<1:54:16, 18.04s/it]"
     ]
    },
    {
     "name": "stdout",
     "output_type": "stream",
     "text": [
      "Data download stopped at page 8 for site 8602\n"
     ]
    },
    {
     "name": "stderr",
     "output_type": "stream",
     "text": [
      "C:\\Users\\yueli\\AppData\\Local\\Temp\\ipykernel_24428\\919805980.py:37: RuntimeWarning: Mean of empty slice\n",
      "  'Avg mph': lambda x: np.nanmean(x.astype(float)),\n",
      "C:\\Users\\yueli\\AppData\\Local\\Temp\\ipykernel_24428\\919805980.py:37: RuntimeWarning: Mean of empty slice\n",
      "  'Avg mph': lambda x: np.nanmean(x.astype(float)),\n",
      "C:\\Users\\yueli\\AppData\\Local\\Temp\\ipykernel_24428\\919805980.py:37: RuntimeWarning: Mean of empty slice\n",
      "  'Avg mph': lambda x: np.nanmean(x.astype(float)),\n",
      "C:\\Users\\yueli\\AppData\\Local\\Temp\\ipykernel_24428\\919805980.py:37: RuntimeWarning: Mean of empty slice\n",
      "  'Avg mph': lambda x: np.nanmean(x.astype(float)),\n",
      "C:\\Users\\yueli\\AppData\\Local\\Temp\\ipykernel_24428\\919805980.py:38: RuntimeWarning: Mean of empty slice\n",
      "  'Total Volume': lambda x: np.nanmean(x.astype(float)),\n",
      "C:\\Users\\yueli\\AppData\\Local\\Temp\\ipykernel_24428\\919805980.py:38: RuntimeWarning: Mean of empty slice\n",
      "  'Total Volume': lambda x: np.nanmean(x.astype(float)),\n",
      "C:\\Users\\yueli\\AppData\\Local\\Temp\\ipykernel_24428\\919805980.py:38: RuntimeWarning: Mean of empty slice\n",
      "  'Total Volume': lambda x: np.nanmean(x.astype(float)),\n",
      "C:\\Users\\yueli\\AppData\\Local\\Temp\\ipykernel_24428\\919805980.py:38: RuntimeWarning: Mean of empty slice\n",
      "  'Total Volume': lambda x: np.nanmean(x.astype(float)),\n",
      " 24%|██▍       | 119/498 [37:09<1:51:55, 17.72s/it]"
     ]
    },
    {
     "name": "stdout",
     "output_type": "stream",
     "text": [
      "Data download stopped at page 7 for site 3227\n"
     ]
    },
    {
     "name": "stderr",
     "output_type": "stream",
     "text": [
      "C:\\Users\\yueli\\AppData\\Local\\Temp\\ipykernel_24428\\919805980.py:37: RuntimeWarning: Mean of empty slice\n",
      "  'Avg mph': lambda x: np.nanmean(x.astype(float)),\n",
      "C:\\Users\\yueli\\AppData\\Local\\Temp\\ipykernel_24428\\919805980.py:37: RuntimeWarning: Mean of empty slice\n",
      "  'Avg mph': lambda x: np.nanmean(x.astype(float)),\n",
      "C:\\Users\\yueli\\AppData\\Local\\Temp\\ipykernel_24428\\919805980.py:37: RuntimeWarning: Mean of empty slice\n",
      "  'Avg mph': lambda x: np.nanmean(x.astype(float)),\n",
      "C:\\Users\\yueli\\AppData\\Local\\Temp\\ipykernel_24428\\919805980.py:37: RuntimeWarning: Mean of empty slice\n",
      "  'Avg mph': lambda x: np.nanmean(x.astype(float)),\n",
      "C:\\Users\\yueli\\AppData\\Local\\Temp\\ipykernel_24428\\919805980.py:38: RuntimeWarning: Mean of empty slice\n",
      "  'Total Volume': lambda x: np.nanmean(x.astype(float)),\n",
      "C:\\Users\\yueli\\AppData\\Local\\Temp\\ipykernel_24428\\919805980.py:38: RuntimeWarning: Mean of empty slice\n",
      "  'Total Volume': lambda x: np.nanmean(x.astype(float)),\n",
      "C:\\Users\\yueli\\AppData\\Local\\Temp\\ipykernel_24428\\919805980.py:38: RuntimeWarning: Mean of empty slice\n",
      "  'Total Volume': lambda x: np.nanmean(x.astype(float)),\n",
      "C:\\Users\\yueli\\AppData\\Local\\Temp\\ipykernel_24428\\919805980.py:38: RuntimeWarning: Mean of empty slice\n",
      "  'Total Volume': lambda x: np.nanmean(x.astype(float)),\n",
      " 24%|██▍       | 120/498 [37:26<1:49:57, 17.45s/it]"
     ]
    },
    {
     "name": "stdout",
     "output_type": "stream",
     "text": [
      "Data download stopped at page 7 for site 4744\n"
     ]
    },
    {
     "name": "stderr",
     "output_type": "stream",
     "text": [
      "C:\\Users\\yueli\\AppData\\Local\\Temp\\ipykernel_24428\\919805980.py:37: RuntimeWarning: Mean of empty slice\n",
      "  'Avg mph': lambda x: np.nanmean(x.astype(float)),\n",
      "C:\\Users\\yueli\\AppData\\Local\\Temp\\ipykernel_24428\\919805980.py:37: RuntimeWarning: Mean of empty slice\n",
      "  'Avg mph': lambda x: np.nanmean(x.astype(float)),\n",
      "C:\\Users\\yueli\\AppData\\Local\\Temp\\ipykernel_24428\\919805980.py:37: RuntimeWarning: Mean of empty slice\n",
      "  'Avg mph': lambda x: np.nanmean(x.astype(float)),\n",
      "C:\\Users\\yueli\\AppData\\Local\\Temp\\ipykernel_24428\\919805980.py:37: RuntimeWarning: Mean of empty slice\n",
      "  'Avg mph': lambda x: np.nanmean(x.astype(float)),\n",
      "C:\\Users\\yueli\\AppData\\Local\\Temp\\ipykernel_24428\\919805980.py:38: RuntimeWarning: Mean of empty slice\n",
      "  'Total Volume': lambda x: np.nanmean(x.astype(float)),\n",
      "C:\\Users\\yueli\\AppData\\Local\\Temp\\ipykernel_24428\\919805980.py:38: RuntimeWarning: Mean of empty slice\n",
      "  'Total Volume': lambda x: np.nanmean(x.astype(float)),\n",
      "C:\\Users\\yueli\\AppData\\Local\\Temp\\ipykernel_24428\\919805980.py:38: RuntimeWarning: Mean of empty slice\n",
      "  'Total Volume': lambda x: np.nanmean(x.astype(float)),\n",
      "C:\\Users\\yueli\\AppData\\Local\\Temp\\ipykernel_24428\\919805980.py:38: RuntimeWarning: Mean of empty slice\n",
      "  'Total Volume': lambda x: np.nanmean(x.astype(float)),\n",
      " 24%|██▍       | 121/498 [37:44<1:50:09, 17.53s/it]"
     ]
    },
    {
     "name": "stdout",
     "output_type": "stream",
     "text": [
      "Data download stopped at page 8 for site 9185\n"
     ]
    },
    {
     "name": "stderr",
     "output_type": "stream",
     "text": [
      "C:\\Users\\yueli\\AppData\\Local\\Temp\\ipykernel_24428\\919805980.py:37: RuntimeWarning: Mean of empty slice\n",
      "  'Avg mph': lambda x: np.nanmean(x.astype(float)),\n",
      "C:\\Users\\yueli\\AppData\\Local\\Temp\\ipykernel_24428\\919805980.py:37: RuntimeWarning: Mean of empty slice\n",
      "  'Avg mph': lambda x: np.nanmean(x.astype(float)),\n",
      "C:\\Users\\yueli\\AppData\\Local\\Temp\\ipykernel_24428\\919805980.py:37: RuntimeWarning: Mean of empty slice\n",
      "  'Avg mph': lambda x: np.nanmean(x.astype(float)),\n",
      "C:\\Users\\yueli\\AppData\\Local\\Temp\\ipykernel_24428\\919805980.py:37: RuntimeWarning: Mean of empty slice\n",
      "  'Avg mph': lambda x: np.nanmean(x.astype(float)),\n",
      "C:\\Users\\yueli\\AppData\\Local\\Temp\\ipykernel_24428\\919805980.py:38: RuntimeWarning: Mean of empty slice\n",
      "  'Total Volume': lambda x: np.nanmean(x.astype(float)),\n",
      "C:\\Users\\yueli\\AppData\\Local\\Temp\\ipykernel_24428\\919805980.py:38: RuntimeWarning: Mean of empty slice\n",
      "  'Total Volume': lambda x: np.nanmean(x.astype(float)),\n",
      "C:\\Users\\yueli\\AppData\\Local\\Temp\\ipykernel_24428\\919805980.py:38: RuntimeWarning: Mean of empty slice\n",
      "  'Total Volume': lambda x: np.nanmean(x.astype(float)),\n",
      "C:\\Users\\yueli\\AppData\\Local\\Temp\\ipykernel_24428\\919805980.py:38: RuntimeWarning: Mean of empty slice\n",
      "  'Total Volume': lambda x: np.nanmean(x.astype(float)),\n",
      " 24%|██▍       | 122/498 [38:02<1:52:10, 17.90s/it]"
     ]
    },
    {
     "name": "stdout",
     "output_type": "stream",
     "text": [
      "Data download stopped at page 8 for site 9187\n"
     ]
    },
    {
     "name": "stderr",
     "output_type": "stream",
     "text": [
      " 25%|██▍       | 123/498 [38:22<1:54:44, 18.36s/it]"
     ]
    },
    {
     "name": "stdout",
     "output_type": "stream",
     "text": [
      "Data download stopped at page 8 for site 8551\n"
     ]
    },
    {
     "name": "stderr",
     "output_type": "stream",
     "text": [
      " 25%|██▍       | 124/498 [38:41<1:55:54, 18.59s/it]"
     ]
    },
    {
     "name": "stdout",
     "output_type": "stream",
     "text": [
      "Data download stopped at page 8 for site 8549\n"
     ]
    },
    {
     "name": "stderr",
     "output_type": "stream",
     "text": [
      "C:\\Users\\yueli\\AppData\\Local\\Temp\\ipykernel_24428\\919805980.py:37: RuntimeWarning: Mean of empty slice\n",
      "  'Avg mph': lambda x: np.nanmean(x.astype(float)),\n",
      "C:\\Users\\yueli\\AppData\\Local\\Temp\\ipykernel_24428\\919805980.py:37: RuntimeWarning: Mean of empty slice\n",
      "  'Avg mph': lambda x: np.nanmean(x.astype(float)),\n",
      "C:\\Users\\yueli\\AppData\\Local\\Temp\\ipykernel_24428\\919805980.py:37: RuntimeWarning: Mean of empty slice\n",
      "  'Avg mph': lambda x: np.nanmean(x.astype(float)),\n",
      "C:\\Users\\yueli\\AppData\\Local\\Temp\\ipykernel_24428\\919805980.py:37: RuntimeWarning: Mean of empty slice\n",
      "  'Avg mph': lambda x: np.nanmean(x.astype(float)),\n",
      "C:\\Users\\yueli\\AppData\\Local\\Temp\\ipykernel_24428\\919805980.py:38: RuntimeWarning: Mean of empty slice\n",
      "  'Total Volume': lambda x: np.nanmean(x.astype(float)),\n",
      "C:\\Users\\yueli\\AppData\\Local\\Temp\\ipykernel_24428\\919805980.py:38: RuntimeWarning: Mean of empty slice\n",
      "  'Total Volume': lambda x: np.nanmean(x.astype(float)),\n",
      "C:\\Users\\yueli\\AppData\\Local\\Temp\\ipykernel_24428\\919805980.py:38: RuntimeWarning: Mean of empty slice\n",
      "  'Total Volume': lambda x: np.nanmean(x.astype(float)),\n",
      "C:\\Users\\yueli\\AppData\\Local\\Temp\\ipykernel_24428\\919805980.py:38: RuntimeWarning: Mean of empty slice\n",
      "  'Total Volume': lambda x: np.nanmean(x.astype(float)),\n",
      " 25%|██▌       | 125/498 [38:59<1:54:26, 18.41s/it]"
     ]
    },
    {
     "name": "stdout",
     "output_type": "stream",
     "text": [
      "Data download stopped at page 8 for site 9183\n",
      "9183 has no valid data.\n"
     ]
    },
    {
     "name": "stderr",
     "output_type": "stream",
     "text": [
      "C:\\Users\\yueli\\AppData\\Local\\Temp\\ipykernel_24428\\919805980.py:37: RuntimeWarning: Mean of empty slice\n",
      "  'Avg mph': lambda x: np.nanmean(x.astype(float)),\n",
      "C:\\Users\\yueli\\AppData\\Local\\Temp\\ipykernel_24428\\919805980.py:37: RuntimeWarning: Mean of empty slice\n",
      "  'Avg mph': lambda x: np.nanmean(x.astype(float)),\n",
      "C:\\Users\\yueli\\AppData\\Local\\Temp\\ipykernel_24428\\919805980.py:37: RuntimeWarning: Mean of empty slice\n",
      "  'Avg mph': lambda x: np.nanmean(x.astype(float)),\n",
      "C:\\Users\\yueli\\AppData\\Local\\Temp\\ipykernel_24428\\919805980.py:37: RuntimeWarning: Mean of empty slice\n",
      "  'Avg mph': lambda x: np.nanmean(x.astype(float)),\n",
      "C:\\Users\\yueli\\AppData\\Local\\Temp\\ipykernel_24428\\919805980.py:38: RuntimeWarning: Mean of empty slice\n",
      "  'Total Volume': lambda x: np.nanmean(x.astype(float)),\n",
      "C:\\Users\\yueli\\AppData\\Local\\Temp\\ipykernel_24428\\919805980.py:38: RuntimeWarning: Mean of empty slice\n",
      "  'Total Volume': lambda x: np.nanmean(x.astype(float)),\n",
      "C:\\Users\\yueli\\AppData\\Local\\Temp\\ipykernel_24428\\919805980.py:38: RuntimeWarning: Mean of empty slice\n",
      "  'Total Volume': lambda x: np.nanmean(x.astype(float)),\n",
      "C:\\Users\\yueli\\AppData\\Local\\Temp\\ipykernel_24428\\919805980.py:38: RuntimeWarning: Mean of empty slice\n",
      "  'Total Volume': lambda x: np.nanmean(x.astype(float)),\n",
      " 25%|██▌       | 126/498 [39:17<1:53:10, 18.25s/it]"
     ]
    },
    {
     "name": "stdout",
     "output_type": "stream",
     "text": [
      "Data download stopped at page 8 for site 9181\n",
      "9181 has no valid data.\n"
     ]
    },
    {
     "name": "stderr",
     "output_type": "stream",
     "text": [
      "C:\\Users\\yueli\\AppData\\Local\\Temp\\ipykernel_24428\\919805980.py:37: RuntimeWarning: Mean of empty slice\n",
      "  'Avg mph': lambda x: np.nanmean(x.astype(float)),\n",
      "C:\\Users\\yueli\\AppData\\Local\\Temp\\ipykernel_24428\\919805980.py:37: RuntimeWarning: Mean of empty slice\n",
      "  'Avg mph': lambda x: np.nanmean(x.astype(float)),\n",
      "C:\\Users\\yueli\\AppData\\Local\\Temp\\ipykernel_24428\\919805980.py:37: RuntimeWarning: Mean of empty slice\n",
      "  'Avg mph': lambda x: np.nanmean(x.astype(float)),\n",
      "C:\\Users\\yueli\\AppData\\Local\\Temp\\ipykernel_24428\\919805980.py:37: RuntimeWarning: Mean of empty slice\n",
      "  'Avg mph': lambda x: np.nanmean(x.astype(float)),\n",
      "C:\\Users\\yueli\\AppData\\Local\\Temp\\ipykernel_24428\\919805980.py:38: RuntimeWarning: Mean of empty slice\n",
      "  'Total Volume': lambda x: np.nanmean(x.astype(float)),\n",
      "C:\\Users\\yueli\\AppData\\Local\\Temp\\ipykernel_24428\\919805980.py:38: RuntimeWarning: Mean of empty slice\n",
      "  'Total Volume': lambda x: np.nanmean(x.astype(float)),\n",
      "C:\\Users\\yueli\\AppData\\Local\\Temp\\ipykernel_24428\\919805980.py:38: RuntimeWarning: Mean of empty slice\n",
      "  'Total Volume': lambda x: np.nanmean(x.astype(float)),\n",
      "C:\\Users\\yueli\\AppData\\Local\\Temp\\ipykernel_24428\\919805980.py:38: RuntimeWarning: Mean of empty slice\n",
      "  'Total Volume': lambda x: np.nanmean(x.astype(float)),\n",
      " 26%|██▌       | 127/498 [39:34<1:51:03, 17.96s/it]"
     ]
    },
    {
     "name": "stdout",
     "output_type": "stream",
     "text": [
      "Data download stopped at page 8 for site 9204\n",
      "9204 has no valid data.\n"
     ]
    },
    {
     "name": "stderr",
     "output_type": "stream",
     "text": [
      " 26%|██▌       | 128/498 [39:53<1:53:25, 18.39s/it]"
     ]
    },
    {
     "name": "stdout",
     "output_type": "stream",
     "text": [
      "Data download stopped at page 8 for site 9206\n"
     ]
    },
    {
     "name": "stderr",
     "output_type": "stream",
     "text": [
      "C:\\Users\\yueli\\AppData\\Local\\Temp\\ipykernel_24428\\919805980.py:37: RuntimeWarning: Mean of empty slice\n",
      "  'Avg mph': lambda x: np.nanmean(x.astype(float)),\n",
      "C:\\Users\\yueli\\AppData\\Local\\Temp\\ipykernel_24428\\919805980.py:37: RuntimeWarning: Mean of empty slice\n",
      "  'Avg mph': lambda x: np.nanmean(x.astype(float)),\n",
      "C:\\Users\\yueli\\AppData\\Local\\Temp\\ipykernel_24428\\919805980.py:37: RuntimeWarning: Mean of empty slice\n",
      "  'Avg mph': lambda x: np.nanmean(x.astype(float)),\n",
      "C:\\Users\\yueli\\AppData\\Local\\Temp\\ipykernel_24428\\919805980.py:37: RuntimeWarning: Mean of empty slice\n",
      "  'Avg mph': lambda x: np.nanmean(x.astype(float)),\n",
      "C:\\Users\\yueli\\AppData\\Local\\Temp\\ipykernel_24428\\919805980.py:38: RuntimeWarning: Mean of empty slice\n",
      "  'Total Volume': lambda x: np.nanmean(x.astype(float)),\n",
      "C:\\Users\\yueli\\AppData\\Local\\Temp\\ipykernel_24428\\919805980.py:38: RuntimeWarning: Mean of empty slice\n",
      "  'Total Volume': lambda x: np.nanmean(x.astype(float)),\n",
      "C:\\Users\\yueli\\AppData\\Local\\Temp\\ipykernel_24428\\919805980.py:38: RuntimeWarning: Mean of empty slice\n",
      "  'Total Volume': lambda x: np.nanmean(x.astype(float)),\n",
      "C:\\Users\\yueli\\AppData\\Local\\Temp\\ipykernel_24428\\919805980.py:38: RuntimeWarning: Mean of empty slice\n",
      "  'Total Volume': lambda x: np.nanmean(x.astype(float)),\n",
      " 26%|██▌       | 129/498 [40:11<1:50:51, 18.03s/it]"
     ]
    },
    {
     "name": "stdout",
     "output_type": "stream",
     "text": [
      "Data download stopped at page 7 for site 9967\n"
     ]
    },
    {
     "name": "stderr",
     "output_type": "stream",
     "text": [
      "C:\\Users\\yueli\\AppData\\Local\\Temp\\ipykernel_24428\\919805980.py:37: RuntimeWarning: Mean of empty slice\n",
      "  'Avg mph': lambda x: np.nanmean(x.astype(float)),\n",
      "C:\\Users\\yueli\\AppData\\Local\\Temp\\ipykernel_24428\\919805980.py:37: RuntimeWarning: Mean of empty slice\n",
      "  'Avg mph': lambda x: np.nanmean(x.astype(float)),\n",
      "C:\\Users\\yueli\\AppData\\Local\\Temp\\ipykernel_24428\\919805980.py:37: RuntimeWarning: Mean of empty slice\n",
      "  'Avg mph': lambda x: np.nanmean(x.astype(float)),\n",
      "C:\\Users\\yueli\\AppData\\Local\\Temp\\ipykernel_24428\\919805980.py:37: RuntimeWarning: Mean of empty slice\n",
      "  'Avg mph': lambda x: np.nanmean(x.astype(float)),\n",
      "C:\\Users\\yueli\\AppData\\Local\\Temp\\ipykernel_24428\\919805980.py:38: RuntimeWarning: Mean of empty slice\n",
      "  'Total Volume': lambda x: np.nanmean(x.astype(float)),\n",
      "C:\\Users\\yueli\\AppData\\Local\\Temp\\ipykernel_24428\\919805980.py:38: RuntimeWarning: Mean of empty slice\n",
      "  'Total Volume': lambda x: np.nanmean(x.astype(float)),\n",
      "C:\\Users\\yueli\\AppData\\Local\\Temp\\ipykernel_24428\\919805980.py:38: RuntimeWarning: Mean of empty slice\n",
      "  'Total Volume': lambda x: np.nanmean(x.astype(float)),\n",
      "C:\\Users\\yueli\\AppData\\Local\\Temp\\ipykernel_24428\\919805980.py:38: RuntimeWarning: Mean of empty slice\n",
      "  'Total Volume': lambda x: np.nanmean(x.astype(float)),\n",
      " 26%|██▌       | 130/498 [40:28<1:49:38, 17.88s/it]"
     ]
    },
    {
     "name": "stdout",
     "output_type": "stream",
     "text": [
      "Data download stopped at page 7 for site 10092\n"
     ]
    },
    {
     "name": "stderr",
     "output_type": "stream",
     "text": [
      "C:\\Users\\yueli\\AppData\\Local\\Temp\\ipykernel_24428\\919805980.py:37: RuntimeWarning: Mean of empty slice\n",
      "  'Avg mph': lambda x: np.nanmean(x.astype(float)),\n",
      "C:\\Users\\yueli\\AppData\\Local\\Temp\\ipykernel_24428\\919805980.py:37: RuntimeWarning: Mean of empty slice\n",
      "  'Avg mph': lambda x: np.nanmean(x.astype(float)),\n",
      "C:\\Users\\yueli\\AppData\\Local\\Temp\\ipykernel_24428\\919805980.py:37: RuntimeWarning: Mean of empty slice\n",
      "  'Avg mph': lambda x: np.nanmean(x.astype(float)),\n",
      "C:\\Users\\yueli\\AppData\\Local\\Temp\\ipykernel_24428\\919805980.py:37: RuntimeWarning: Mean of empty slice\n",
      "  'Avg mph': lambda x: np.nanmean(x.astype(float)),\n",
      "C:\\Users\\yueli\\AppData\\Local\\Temp\\ipykernel_24428\\919805980.py:38: RuntimeWarning: Mean of empty slice\n",
      "  'Total Volume': lambda x: np.nanmean(x.astype(float)),\n",
      "C:\\Users\\yueli\\AppData\\Local\\Temp\\ipykernel_24428\\919805980.py:38: RuntimeWarning: Mean of empty slice\n",
      "  'Total Volume': lambda x: np.nanmean(x.astype(float)),\n",
      "C:\\Users\\yueli\\AppData\\Local\\Temp\\ipykernel_24428\\919805980.py:38: RuntimeWarning: Mean of empty slice\n",
      "  'Total Volume': lambda x: np.nanmean(x.astype(float)),\n",
      "C:\\Users\\yueli\\AppData\\Local\\Temp\\ipykernel_24428\\919805980.py:38: RuntimeWarning: Mean of empty slice\n",
      "  'Total Volume': lambda x: np.nanmean(x.astype(float)),\n",
      " 26%|██▋       | 131/498 [40:45<1:47:36, 17.59s/it]"
     ]
    },
    {
     "name": "stdout",
     "output_type": "stream",
     "text": [
      "Data download stopped at page 7 for site 14245\n"
     ]
    },
    {
     "name": "stderr",
     "output_type": "stream",
     "text": [
      "C:\\Users\\yueli\\AppData\\Local\\Temp\\ipykernel_24428\\919805980.py:37: RuntimeWarning: Mean of empty slice\n",
      "  'Avg mph': lambda x: np.nanmean(x.astype(float)),\n",
      "C:\\Users\\yueli\\AppData\\Local\\Temp\\ipykernel_24428\\919805980.py:37: RuntimeWarning: Mean of empty slice\n",
      "  'Avg mph': lambda x: np.nanmean(x.astype(float)),\n",
      "C:\\Users\\yueli\\AppData\\Local\\Temp\\ipykernel_24428\\919805980.py:37: RuntimeWarning: Mean of empty slice\n",
      "  'Avg mph': lambda x: np.nanmean(x.astype(float)),\n",
      "C:\\Users\\yueli\\AppData\\Local\\Temp\\ipykernel_24428\\919805980.py:37: RuntimeWarning: Mean of empty slice\n",
      "  'Avg mph': lambda x: np.nanmean(x.astype(float)),\n",
      "C:\\Users\\yueli\\AppData\\Local\\Temp\\ipykernel_24428\\919805980.py:38: RuntimeWarning: Mean of empty slice\n",
      "  'Total Volume': lambda x: np.nanmean(x.astype(float)),\n",
      "C:\\Users\\yueli\\AppData\\Local\\Temp\\ipykernel_24428\\919805980.py:38: RuntimeWarning: Mean of empty slice\n",
      "  'Total Volume': lambda x: np.nanmean(x.astype(float)),\n",
      "C:\\Users\\yueli\\AppData\\Local\\Temp\\ipykernel_24428\\919805980.py:38: RuntimeWarning: Mean of empty slice\n",
      "  'Total Volume': lambda x: np.nanmean(x.astype(float)),\n",
      "C:\\Users\\yueli\\AppData\\Local\\Temp\\ipykernel_24428\\919805980.py:38: RuntimeWarning: Mean of empty slice\n",
      "  'Total Volume': lambda x: np.nanmean(x.astype(float)),\n",
      " 27%|██▋       | 132/498 [41:02<1:45:59, 17.38s/it]"
     ]
    },
    {
     "name": "stdout",
     "output_type": "stream",
     "text": [
      "Data download stopped at page 7 for site 14079\n"
     ]
    },
    {
     "name": "stderr",
     "output_type": "stream",
     "text": [
      " 27%|██▋       | 133/498 [41:20<1:47:17, 17.64s/it]"
     ]
    },
    {
     "name": "stdout",
     "output_type": "stream",
     "text": [
      "Data download stopped at page 7 for site 589\n"
     ]
    },
    {
     "name": "stderr",
     "output_type": "stream",
     "text": [
      " 27%|██▋       | 134/498 [41:38<1:47:39, 17.75s/it]"
     ]
    },
    {
     "name": "stdout",
     "output_type": "stream",
     "text": [
      "Data download stopped at page 7 for site 5839\n"
     ]
    },
    {
     "name": "stderr",
     "output_type": "stream",
     "text": [
      " 27%|██▋       | 135/498 [41:56<1:48:06, 17.87s/it]"
     ]
    },
    {
     "name": "stdout",
     "output_type": "stream",
     "text": [
      "Data download stopped at page 7 for site 1677\n"
     ]
    },
    {
     "name": "stderr",
     "output_type": "stream",
     "text": [
      " 27%|██▋       | 136/498 [42:14<1:47:54, 17.89s/it]"
     ]
    },
    {
     "name": "stdout",
     "output_type": "stream",
     "text": [
      "Data download stopped at page 7 for site 2693\n"
     ]
    },
    {
     "name": "stderr",
     "output_type": "stream",
     "text": [
      " 28%|██▊       | 137/498 [42:33<1:49:17, 18.16s/it]"
     ]
    },
    {
     "name": "stdout",
     "output_type": "stream",
     "text": [
      "Data download stopped at page 8 for site 8564\n"
     ]
    },
    {
     "name": "stderr",
     "output_type": "stream",
     "text": [
      " 28%|██▊       | 138/498 [42:54<1:53:13, 18.87s/it]"
     ]
    },
    {
     "name": "stdout",
     "output_type": "stream",
     "text": [
      "Data download stopped at page 8 for site 8568\n"
     ]
    },
    {
     "name": "stderr",
     "output_type": "stream",
     "text": [
      "C:\\Users\\yueli\\AppData\\Local\\Temp\\ipykernel_24428\\919805980.py:37: RuntimeWarning: Mean of empty slice\n",
      "  'Avg mph': lambda x: np.nanmean(x.astype(float)),\n",
      "C:\\Users\\yueli\\AppData\\Local\\Temp\\ipykernel_24428\\919805980.py:37: RuntimeWarning: Mean of empty slice\n",
      "  'Avg mph': lambda x: np.nanmean(x.astype(float)),\n",
      "C:\\Users\\yueli\\AppData\\Local\\Temp\\ipykernel_24428\\919805980.py:37: RuntimeWarning: Mean of empty slice\n",
      "  'Avg mph': lambda x: np.nanmean(x.astype(float)),\n",
      "C:\\Users\\yueli\\AppData\\Local\\Temp\\ipykernel_24428\\919805980.py:37: RuntimeWarning: Mean of empty slice\n",
      "  'Avg mph': lambda x: np.nanmean(x.astype(float)),\n",
      "C:\\Users\\yueli\\AppData\\Local\\Temp\\ipykernel_24428\\919805980.py:38: RuntimeWarning: Mean of empty slice\n",
      "  'Total Volume': lambda x: np.nanmean(x.astype(float)),\n",
      "C:\\Users\\yueli\\AppData\\Local\\Temp\\ipykernel_24428\\919805980.py:38: RuntimeWarning: Mean of empty slice\n",
      "  'Total Volume': lambda x: np.nanmean(x.astype(float)),\n",
      "C:\\Users\\yueli\\AppData\\Local\\Temp\\ipykernel_24428\\919805980.py:38: RuntimeWarning: Mean of empty slice\n",
      "  'Total Volume': lambda x: np.nanmean(x.astype(float)),\n",
      "C:\\Users\\yueli\\AppData\\Local\\Temp\\ipykernel_24428\\919805980.py:38: RuntimeWarning: Mean of empty slice\n",
      "  'Total Volume': lambda x: np.nanmean(x.astype(float)),\n",
      " 28%|██▊       | 139/498 [43:11<1:49:37, 18.32s/it]"
     ]
    },
    {
     "name": "stdout",
     "output_type": "stream",
     "text": [
      "Data download stopped at page 7 for site 9737\n"
     ]
    },
    {
     "name": "stderr",
     "output_type": "stream",
     "text": [
      "C:\\Users\\yueli\\AppData\\Local\\Temp\\ipykernel_24428\\919805980.py:37: RuntimeWarning: Mean of empty slice\n",
      "  'Avg mph': lambda x: np.nanmean(x.astype(float)),\n",
      "C:\\Users\\yueli\\AppData\\Local\\Temp\\ipykernel_24428\\919805980.py:37: RuntimeWarning: Mean of empty slice\n",
      "  'Avg mph': lambda x: np.nanmean(x.astype(float)),\n",
      "C:\\Users\\yueli\\AppData\\Local\\Temp\\ipykernel_24428\\919805980.py:37: RuntimeWarning: Mean of empty slice\n",
      "  'Avg mph': lambda x: np.nanmean(x.astype(float)),\n",
      "C:\\Users\\yueli\\AppData\\Local\\Temp\\ipykernel_24428\\919805980.py:37: RuntimeWarning: Mean of empty slice\n",
      "  'Avg mph': lambda x: np.nanmean(x.astype(float)),\n",
      "C:\\Users\\yueli\\AppData\\Local\\Temp\\ipykernel_24428\\919805980.py:38: RuntimeWarning: Mean of empty slice\n",
      "  'Total Volume': lambda x: np.nanmean(x.astype(float)),\n",
      "C:\\Users\\yueli\\AppData\\Local\\Temp\\ipykernel_24428\\919805980.py:38: RuntimeWarning: Mean of empty slice\n",
      "  'Total Volume': lambda x: np.nanmean(x.astype(float)),\n",
      "C:\\Users\\yueli\\AppData\\Local\\Temp\\ipykernel_24428\\919805980.py:38: RuntimeWarning: Mean of empty slice\n",
      "  'Total Volume': lambda x: np.nanmean(x.astype(float)),\n",
      "C:\\Users\\yueli\\AppData\\Local\\Temp\\ipykernel_24428\\919805980.py:38: RuntimeWarning: Mean of empty slice\n",
      "  'Total Volume': lambda x: np.nanmean(x.astype(float)),\n",
      " 28%|██▊       | 140/498 [43:27<1:46:32, 17.86s/it]"
     ]
    },
    {
     "name": "stdout",
     "output_type": "stream",
     "text": [
      "Data download stopped at page 7 for site 9647\n"
     ]
    },
    {
     "name": "stderr",
     "output_type": "stream",
     "text": [
      " 28%|██▊       | 141/498 [43:47<1:48:21, 18.21s/it]"
     ]
    },
    {
     "name": "stdout",
     "output_type": "stream",
     "text": [
      "Data download stopped at page 8 for site 9378\n"
     ]
    },
    {
     "name": "stderr",
     "output_type": "stream",
     "text": [
      "C:\\Users\\yueli\\AppData\\Local\\Temp\\ipykernel_24428\\919805980.py:37: RuntimeWarning: Mean of empty slice\n",
      "  'Avg mph': lambda x: np.nanmean(x.astype(float)),\n",
      "C:\\Users\\yueli\\AppData\\Local\\Temp\\ipykernel_24428\\919805980.py:37: RuntimeWarning: Mean of empty slice\n",
      "  'Avg mph': lambda x: np.nanmean(x.astype(float)),\n",
      "C:\\Users\\yueli\\AppData\\Local\\Temp\\ipykernel_24428\\919805980.py:37: RuntimeWarning: Mean of empty slice\n",
      "  'Avg mph': lambda x: np.nanmean(x.astype(float)),\n",
      "C:\\Users\\yueli\\AppData\\Local\\Temp\\ipykernel_24428\\919805980.py:37: RuntimeWarning: Mean of empty slice\n",
      "  'Avg mph': lambda x: np.nanmean(x.astype(float)),\n",
      "C:\\Users\\yueli\\AppData\\Local\\Temp\\ipykernel_24428\\919805980.py:38: RuntimeWarning: Mean of empty slice\n",
      "  'Total Volume': lambda x: np.nanmean(x.astype(float)),\n",
      "C:\\Users\\yueli\\AppData\\Local\\Temp\\ipykernel_24428\\919805980.py:38: RuntimeWarning: Mean of empty slice\n",
      "  'Total Volume': lambda x: np.nanmean(x.astype(float)),\n",
      "C:\\Users\\yueli\\AppData\\Local\\Temp\\ipykernel_24428\\919805980.py:38: RuntimeWarning: Mean of empty slice\n",
      "  'Total Volume': lambda x: np.nanmean(x.astype(float)),\n",
      "C:\\Users\\yueli\\AppData\\Local\\Temp\\ipykernel_24428\\919805980.py:38: RuntimeWarning: Mean of empty slice\n",
      "  'Total Volume': lambda x: np.nanmean(x.astype(float)),\n",
      " 29%|██▊       | 142/498 [44:06<1:49:42, 18.49s/it]"
     ]
    },
    {
     "name": "stdout",
     "output_type": "stream",
     "text": [
      "Data download stopped at page 8 for site 9377\n"
     ]
    },
    {
     "name": "stderr",
     "output_type": "stream",
     "text": [
      " 29%|██▊       | 143/498 [44:25<1:51:29, 18.84s/it]"
     ]
    },
    {
     "name": "stdout",
     "output_type": "stream",
     "text": [
      "Data download stopped at page 8 for site 9154\n"
     ]
    },
    {
     "name": "stderr",
     "output_type": "stream",
     "text": [
      " 29%|██▉       | 144/498 [44:45<1:52:28, 19.06s/it]"
     ]
    },
    {
     "name": "stdout",
     "output_type": "stream",
     "text": [
      "Data download stopped at page 8 for site 9152\n"
     ]
    },
    {
     "name": "stderr",
     "output_type": "stream",
     "text": [
      " 29%|██▉       | 145/498 [45:04<1:52:34, 19.13s/it]"
     ]
    },
    {
     "name": "stdout",
     "output_type": "stream",
     "text": [
      "Data download stopped at page 8 for site 9160\n"
     ]
    },
    {
     "name": "stderr",
     "output_type": "stream",
     "text": [
      " 29%|██▉       | 146/498 [45:24<1:52:39, 19.20s/it]"
     ]
    },
    {
     "name": "stdout",
     "output_type": "stream",
     "text": [
      "Data download stopped at page 8 for site 9158\n"
     ]
    },
    {
     "name": "stderr",
     "output_type": "stream",
     "text": [
      " 30%|██▉       | 147/498 [45:43<1:52:53, 19.30s/it]"
     ]
    },
    {
     "name": "stdout",
     "output_type": "stream",
     "text": [
      "Data download stopped at page 8 for site 8588\n"
     ]
    },
    {
     "name": "stderr",
     "output_type": "stream",
     "text": [
      "C:\\Users\\yueli\\AppData\\Local\\Temp\\ipykernel_24428\\919805980.py:37: RuntimeWarning: Mean of empty slice\n",
      "  'Avg mph': lambda x: np.nanmean(x.astype(float)),\n",
      "C:\\Users\\yueli\\AppData\\Local\\Temp\\ipykernel_24428\\919805980.py:37: RuntimeWarning: Mean of empty slice\n",
      "  'Avg mph': lambda x: np.nanmean(x.astype(float)),\n",
      "C:\\Users\\yueli\\AppData\\Local\\Temp\\ipykernel_24428\\919805980.py:37: RuntimeWarning: Mean of empty slice\n",
      "  'Avg mph': lambda x: np.nanmean(x.astype(float)),\n",
      "C:\\Users\\yueli\\AppData\\Local\\Temp\\ipykernel_24428\\919805980.py:37: RuntimeWarning: Mean of empty slice\n",
      "  'Avg mph': lambda x: np.nanmean(x.astype(float)),\n",
      "C:\\Users\\yueli\\AppData\\Local\\Temp\\ipykernel_24428\\919805980.py:38: RuntimeWarning: Mean of empty slice\n",
      "  'Total Volume': lambda x: np.nanmean(x.astype(float)),\n",
      "C:\\Users\\yueli\\AppData\\Local\\Temp\\ipykernel_24428\\919805980.py:38: RuntimeWarning: Mean of empty slice\n",
      "  'Total Volume': lambda x: np.nanmean(x.astype(float)),\n",
      "C:\\Users\\yueli\\AppData\\Local\\Temp\\ipykernel_24428\\919805980.py:38: RuntimeWarning: Mean of empty slice\n",
      "  'Total Volume': lambda x: np.nanmean(x.astype(float)),\n",
      "C:\\Users\\yueli\\AppData\\Local\\Temp\\ipykernel_24428\\919805980.py:38: RuntimeWarning: Mean of empty slice\n",
      "  'Total Volume': lambda x: np.nanmean(x.astype(float)),\n",
      " 30%|██▉       | 148/498 [46:01<1:49:28, 18.77s/it]"
     ]
    },
    {
     "name": "stdout",
     "output_type": "stream",
     "text": [
      "Data download stopped at page 8 for site 8589\n",
      "8589 has no valid data.\n"
     ]
    },
    {
     "name": "stderr",
     "output_type": "stream",
     "text": [
      " 30%|██▉       | 149/498 [46:20<1:50:24, 18.98s/it]"
     ]
    },
    {
     "name": "stdout",
     "output_type": "stream",
     "text": [
      "Data download stopped at page 8 for site 7320\n"
     ]
    },
    {
     "name": "stderr",
     "output_type": "stream",
     "text": [
      " 30%|███       | 150/498 [46:40<1:50:54, 19.12s/it]"
     ]
    },
    {
     "name": "stdout",
     "output_type": "stream",
     "text": [
      "Data download stopped at page 8 for site 7319\n"
     ]
    },
    {
     "name": "stderr",
     "output_type": "stream",
     "text": [
      " 30%|███       | 151/498 [46:59<1:51:16, 19.24s/it]"
     ]
    },
    {
     "name": "stdout",
     "output_type": "stream",
     "text": [
      "Data download stopped at page 8 for site 7381\n"
     ]
    },
    {
     "name": "stderr",
     "output_type": "stream",
     "text": [
      " 31%|███       | 152/498 [47:19<1:51:18, 19.30s/it]"
     ]
    },
    {
     "name": "stdout",
     "output_type": "stream",
     "text": [
      "Data download stopped at page 8 for site 7380\n"
     ]
    },
    {
     "name": "stderr",
     "output_type": "stream",
     "text": [
      " 31%|███       | 153/498 [47:38<1:50:41, 19.25s/it]"
     ]
    },
    {
     "name": "stdout",
     "output_type": "stream",
     "text": [
      "Data download stopped at page 8 for site 7396\n"
     ]
    },
    {
     "name": "stderr",
     "output_type": "stream",
     "text": [
      " 31%|███       | 154/498 [47:57<1:51:01, 19.37s/it]"
     ]
    },
    {
     "name": "stdout",
     "output_type": "stream",
     "text": [
      "Data download stopped at page 8 for site 7397\n"
     ]
    },
    {
     "name": "stderr",
     "output_type": "stream",
     "text": [
      " 31%|███       | 155/498 [48:18<1:52:21, 19.66s/it]"
     ]
    },
    {
     "name": "stdout",
     "output_type": "stream",
     "text": [
      "Data download stopped at page 8 for site 7351\n"
     ]
    },
    {
     "name": "stderr",
     "output_type": "stream",
     "text": [
      " 31%|███▏      | 156/498 [48:37<1:52:04, 19.66s/it]"
     ]
    },
    {
     "name": "stdout",
     "output_type": "stream",
     "text": [
      "Data download stopped at page 8 for site 7352\n"
     ]
    },
    {
     "name": "stderr",
     "output_type": "stream",
     "text": [
      " 32%|███▏      | 157/498 [48:57<1:52:31, 19.80s/it]"
     ]
    },
    {
     "name": "stdout",
     "output_type": "stream",
     "text": [
      "Data download stopped at page 8 for site 7404\n"
     ]
    },
    {
     "name": "stderr",
     "output_type": "stream",
     "text": [
      " 32%|███▏      | 158/498 [49:17<1:52:16, 19.81s/it]"
     ]
    },
    {
     "name": "stdout",
     "output_type": "stream",
     "text": [
      "Data download stopped at page 8 for site 7405\n"
     ]
    },
    {
     "name": "stderr",
     "output_type": "stream",
     "text": [
      " 32%|███▏      | 159/498 [49:37<1:51:49, 19.79s/it]"
     ]
    },
    {
     "name": "stdout",
     "output_type": "stream",
     "text": [
      "Data download stopped at page 8 for site 7347\n"
     ]
    },
    {
     "name": "stderr",
     "output_type": "stream",
     "text": [
      "C:\\Users\\yueli\\AppData\\Local\\Temp\\ipykernel_24428\\919805980.py:37: RuntimeWarning: Mean of empty slice\n",
      "  'Avg mph': lambda x: np.nanmean(x.astype(float)),\n",
      "C:\\Users\\yueli\\AppData\\Local\\Temp\\ipykernel_24428\\919805980.py:37: RuntimeWarning: Mean of empty slice\n",
      "  'Avg mph': lambda x: np.nanmean(x.astype(float)),\n",
      "C:\\Users\\yueli\\AppData\\Local\\Temp\\ipykernel_24428\\919805980.py:37: RuntimeWarning: Mean of empty slice\n",
      "  'Avg mph': lambda x: np.nanmean(x.astype(float)),\n",
      "C:\\Users\\yueli\\AppData\\Local\\Temp\\ipykernel_24428\\919805980.py:37: RuntimeWarning: Mean of empty slice\n",
      "  'Avg mph': lambda x: np.nanmean(x.astype(float)),\n",
      "C:\\Users\\yueli\\AppData\\Local\\Temp\\ipykernel_24428\\919805980.py:38: RuntimeWarning: Mean of empty slice\n",
      "  'Total Volume': lambda x: np.nanmean(x.astype(float)),\n",
      "C:\\Users\\yueli\\AppData\\Local\\Temp\\ipykernel_24428\\919805980.py:38: RuntimeWarning: Mean of empty slice\n",
      "  'Total Volume': lambda x: np.nanmean(x.astype(float)),\n",
      "C:\\Users\\yueli\\AppData\\Local\\Temp\\ipykernel_24428\\919805980.py:38: RuntimeWarning: Mean of empty slice\n",
      "  'Total Volume': lambda x: np.nanmean(x.astype(float)),\n",
      "C:\\Users\\yueli\\AppData\\Local\\Temp\\ipykernel_24428\\919805980.py:38: RuntimeWarning: Mean of empty slice\n",
      "  'Total Volume': lambda x: np.nanmean(x.astype(float)),\n",
      " 32%|███▏      | 160/498 [49:55<1:48:34, 19.27s/it]"
     ]
    },
    {
     "name": "stdout",
     "output_type": "stream",
     "text": [
      "Data download stopped at page 8 for site 7348\n"
     ]
    },
    {
     "name": "stderr",
     "output_type": "stream",
     "text": [
      " 32%|███▏      | 161/498 [50:16<1:50:59, 19.76s/it]"
     ]
    },
    {
     "name": "stdout",
     "output_type": "stream",
     "text": [
      "Data download stopped at page 8 for site 7426\n"
     ]
    },
    {
     "name": "stderr",
     "output_type": "stream",
     "text": [
      " 33%|███▎      | 162/498 [50:35<1:49:56, 19.63s/it]"
     ]
    },
    {
     "name": "stdout",
     "output_type": "stream",
     "text": [
      "Data download stopped at page 8 for site 7425\n"
     ]
    },
    {
     "name": "stderr",
     "output_type": "stream",
     "text": [
      " 33%|███▎      | 163/498 [50:56<1:51:28, 19.96s/it]"
     ]
    },
    {
     "name": "stdout",
     "output_type": "stream",
     "text": [
      "Data download stopped at page 8 for site 9034\n"
     ]
    },
    {
     "name": "stderr",
     "output_type": "stream",
     "text": [
      " 33%|███▎      | 164/498 [51:16<1:50:29, 19.85s/it]"
     ]
    },
    {
     "name": "stdout",
     "output_type": "stream",
     "text": [
      "Data download stopped at page 8 for site 9035\n"
     ]
    },
    {
     "name": "stderr",
     "output_type": "stream",
     "text": [
      " 33%|███▎      | 165/498 [51:35<1:49:43, 19.77s/it]"
     ]
    },
    {
     "name": "stdout",
     "output_type": "stream",
     "text": [
      "Data download stopped at page 8 for site 9570\n"
     ]
    },
    {
     "name": "stderr",
     "output_type": "stream",
     "text": [
      " 33%|███▎      | 166/498 [51:55<1:50:05, 19.90s/it]"
     ]
    },
    {
     "name": "stdout",
     "output_type": "stream",
     "text": [
      "Data download stopped at page 8 for site 9571\n"
     ]
    },
    {
     "name": "stderr",
     "output_type": "stream",
     "text": [
      " 34%|███▎      | 167/498 [52:14<1:46:52, 19.37s/it]"
     ]
    },
    {
     "name": "stdout",
     "output_type": "stream",
     "text": [
      "Data download stopped at page 7 for site 4107\n"
     ]
    },
    {
     "name": "stderr",
     "output_type": "stream",
     "text": [
      " 34%|███▎      | 168/498 [52:31<1:43:03, 18.74s/it]"
     ]
    },
    {
     "name": "stdout",
     "output_type": "stream",
     "text": [
      "Data download stopped at page 7 for site 2124\n"
     ]
    },
    {
     "name": "stderr",
     "output_type": "stream",
     "text": [
      " 34%|███▍      | 169/498 [52:49<1:41:06, 18.44s/it]"
     ]
    },
    {
     "name": "stdout",
     "output_type": "stream",
     "text": [
      "Data download stopped at page 7 for site 531\n"
     ]
    },
    {
     "name": "stderr",
     "output_type": "stream",
     "text": [
      " 34%|███▍      | 170/498 [53:07<1:40:05, 18.31s/it]"
     ]
    },
    {
     "name": "stdout",
     "output_type": "stream",
     "text": [
      "Data download stopped at page 7 for site 1428\n"
     ]
    },
    {
     "name": "stderr",
     "output_type": "stream",
     "text": [
      "C:\\Users\\yueli\\AppData\\Local\\Temp\\ipykernel_24428\\919805980.py:37: RuntimeWarning: Mean of empty slice\n",
      "  'Avg mph': lambda x: np.nanmean(x.astype(float)),\n",
      "C:\\Users\\yueli\\AppData\\Local\\Temp\\ipykernel_24428\\919805980.py:37: RuntimeWarning: Mean of empty slice\n",
      "  'Avg mph': lambda x: np.nanmean(x.astype(float)),\n",
      "C:\\Users\\yueli\\AppData\\Local\\Temp\\ipykernel_24428\\919805980.py:37: RuntimeWarning: Mean of empty slice\n",
      "  'Avg mph': lambda x: np.nanmean(x.astype(float)),\n",
      "C:\\Users\\yueli\\AppData\\Local\\Temp\\ipykernel_24428\\919805980.py:37: RuntimeWarning: Mean of empty slice\n",
      "  'Avg mph': lambda x: np.nanmean(x.astype(float)),\n",
      "C:\\Users\\yueli\\AppData\\Local\\Temp\\ipykernel_24428\\919805980.py:38: RuntimeWarning: Mean of empty slice\n",
      "  'Total Volume': lambda x: np.nanmean(x.astype(float)),\n",
      "C:\\Users\\yueli\\AppData\\Local\\Temp\\ipykernel_24428\\919805980.py:38: RuntimeWarning: Mean of empty slice\n",
      "  'Total Volume': lambda x: np.nanmean(x.astype(float)),\n",
      "C:\\Users\\yueli\\AppData\\Local\\Temp\\ipykernel_24428\\919805980.py:38: RuntimeWarning: Mean of empty slice\n",
      "  'Total Volume': lambda x: np.nanmean(x.astype(float)),\n",
      "C:\\Users\\yueli\\AppData\\Local\\Temp\\ipykernel_24428\\919805980.py:38: RuntimeWarning: Mean of empty slice\n",
      "  'Total Volume': lambda x: np.nanmean(x.astype(float)),\n",
      " 34%|███▍      | 171/498 [53:26<1:41:03, 18.54s/it]"
     ]
    },
    {
     "name": "stdout",
     "output_type": "stream",
     "text": [
      "Data download stopped at page 8 for site 7237\n"
     ]
    },
    {
     "name": "stderr",
     "output_type": "stream",
     "text": [
      " 35%|███▍      | 172/498 [53:45<1:41:41, 18.72s/it]"
     ]
    },
    {
     "name": "stdout",
     "output_type": "stream",
     "text": [
      "Data download stopped at page 8 for site 7586\n"
     ]
    },
    {
     "name": "stderr",
     "output_type": "stream",
     "text": [
      " 35%|███▍      | 173/498 [54:05<1:43:06, 19.04s/it]"
     ]
    },
    {
     "name": "stdout",
     "output_type": "stream",
     "text": [
      "Data download stopped at page 8 for site 8869\n",
      "9998869 changed to8869.\n"
     ]
    },
    {
     "name": "stderr",
     "output_type": "stream",
     "text": [
      " 35%|███▍      | 174/498 [54:24<1:43:32, 19.18s/it]"
     ]
    },
    {
     "name": "stdout",
     "output_type": "stream",
     "text": [
      "Data download stopped at page 8 for site 8869\n"
     ]
    },
    {
     "name": "stderr",
     "output_type": "stream",
     "text": [
      " 35%|███▌      | 175/498 [54:25<1:13:58, 13.74s/it]"
     ]
    },
    {
     "name": "stdout",
     "output_type": "stream",
     "text": [
      "Data download stopped at page 0 for site 14038\n",
      "14038 is not valid.\n"
     ]
    },
    {
     "name": "stderr",
     "output_type": "stream",
     "text": [
      " 35%|███▌      | 176/498 [54:45<1:22:52, 15.44s/it]"
     ]
    },
    {
     "name": "stdout",
     "output_type": "stream",
     "text": [
      "Data download stopped at page 8 for site 7569\n"
     ]
    },
    {
     "name": "stderr",
     "output_type": "stream",
     "text": [
      " 36%|███▌      | 177/498 [55:05<1:31:02, 17.02s/it]"
     ]
    },
    {
     "name": "stdout",
     "output_type": "stream",
     "text": [
      "Data download stopped at page 8 for site 7567\n"
     ]
    },
    {
     "name": "stderr",
     "output_type": "stream",
     "text": [
      " 36%|███▌      | 178/498 [55:25<1:35:32, 17.91s/it]"
     ]
    },
    {
     "name": "stdout",
     "output_type": "stream",
     "text": [
      "Data download stopped at page 8 for site 7566\n"
     ]
    },
    {
     "name": "stderr",
     "output_type": "stream",
     "text": [
      " 36%|███▌      | 179/498 [55:44<1:36:29, 18.15s/it]"
     ]
    },
    {
     "name": "stdout",
     "output_type": "stream",
     "text": [
      "Data download stopped at page 7 for site 14470\n"
     ]
    },
    {
     "name": "stderr",
     "output_type": "stream",
     "text": [
      " 36%|███▌      | 180/498 [56:02<1:36:16, 18.17s/it]"
     ]
    },
    {
     "name": "stdout",
     "output_type": "stream",
     "text": [
      "Data download stopped at page 7 for site 14437\n"
     ]
    },
    {
     "name": "stderr",
     "output_type": "stream",
     "text": [
      " 36%|███▋      | 181/498 [56:20<1:35:47, 18.13s/it]"
     ]
    },
    {
     "name": "stdout",
     "output_type": "stream",
     "text": [
      "Data download stopped at page 7 for site 14463\n"
     ]
    },
    {
     "name": "stderr",
     "output_type": "stream",
     "text": [
      " 37%|███▋      | 182/498 [56:39<1:36:59, 18.42s/it]"
     ]
    },
    {
     "name": "stdout",
     "output_type": "stream",
     "text": [
      "Data download stopped at page 7 for site 14496\n"
     ]
    },
    {
     "name": "stderr",
     "output_type": "stream",
     "text": [
      " 37%|███▋      | 183/498 [56:58<1:37:55, 18.65s/it]"
     ]
    },
    {
     "name": "stdout",
     "output_type": "stream",
     "text": [
      "Data download stopped at page 7 for site 778\n"
     ]
    },
    {
     "name": "stderr",
     "output_type": "stream",
     "text": [
      " 37%|███▋      | 184/498 [57:17<1:37:13, 18.58s/it]"
     ]
    },
    {
     "name": "stdout",
     "output_type": "stream",
     "text": [
      "Data download stopped at page 7 for site 5384\n"
     ]
    },
    {
     "name": "stderr",
     "output_type": "stream",
     "text": [
      " 37%|███▋      | 185/498 [57:36<1:37:41, 18.73s/it]"
     ]
    },
    {
     "name": "stdout",
     "output_type": "stream",
     "text": [
      "Data download stopped at page 8 for site 7878\n"
     ]
    },
    {
     "name": "stderr",
     "output_type": "stream",
     "text": [
      " 37%|███▋      | 186/498 [57:56<1:39:49, 19.20s/it]"
     ]
    },
    {
     "name": "stdout",
     "output_type": "stream",
     "text": [
      "Data download stopped at page 8 for site 7880\n"
     ]
    },
    {
     "name": "stderr",
     "output_type": "stream",
     "text": [
      " 38%|███▊      | 187/498 [58:16<1:39:42, 19.24s/it]"
     ]
    },
    {
     "name": "stdout",
     "output_type": "stream",
     "text": [
      "Data download stopped at page 8 for site 7539\n"
     ]
    },
    {
     "name": "stderr",
     "output_type": "stream",
     "text": [
      " 38%|███▊      | 188/498 [58:35<1:39:57, 19.35s/it]"
     ]
    },
    {
     "name": "stdout",
     "output_type": "stream",
     "text": [
      "Data download stopped at page 8 for site 7540\n"
     ]
    },
    {
     "name": "stderr",
     "output_type": "stream",
     "text": [
      " 38%|███▊      | 189/498 [58:53<1:37:16, 18.89s/it]"
     ]
    },
    {
     "name": "stdout",
     "output_type": "stream",
     "text": [
      "Data download stopped at page 7 for site 3684\n"
     ]
    },
    {
     "name": "stderr",
     "output_type": "stream",
     "text": [
      " 38%|███▊      | 190/498 [59:11<1:35:12, 18.55s/it]"
     ]
    },
    {
     "name": "stdout",
     "output_type": "stream",
     "text": [
      "Data download stopped at page 7 for site 5930\n"
     ]
    },
    {
     "name": "stderr",
     "output_type": "stream",
     "text": [
      " 38%|███▊      | 191/498 [59:32<1:39:12, 19.39s/it]"
     ]
    },
    {
     "name": "stdout",
     "output_type": "stream",
     "text": [
      "Data download stopped at page 8 for site 7736\n"
     ]
    },
    {
     "name": "stderr",
     "output_type": "stream",
     "text": [
      " 39%|███▊      | 192/498 [59:51<1:38:37, 19.34s/it]"
     ]
    },
    {
     "name": "stdout",
     "output_type": "stream",
     "text": [
      "Data download stopped at page 8 for site 7737\n"
     ]
    },
    {
     "name": "stderr",
     "output_type": "stream",
     "text": [
      "C:\\Users\\yueli\\AppData\\Local\\Temp\\ipykernel_24428\\919805980.py:37: RuntimeWarning: Mean of empty slice\n",
      "  'Avg mph': lambda x: np.nanmean(x.astype(float)),\n",
      "C:\\Users\\yueli\\AppData\\Local\\Temp\\ipykernel_24428\\919805980.py:37: RuntimeWarning: Mean of empty slice\n",
      "  'Avg mph': lambda x: np.nanmean(x.astype(float)),\n",
      "C:\\Users\\yueli\\AppData\\Local\\Temp\\ipykernel_24428\\919805980.py:37: RuntimeWarning: Mean of empty slice\n",
      "  'Avg mph': lambda x: np.nanmean(x.astype(float)),\n",
      "C:\\Users\\yueli\\AppData\\Local\\Temp\\ipykernel_24428\\919805980.py:37: RuntimeWarning: Mean of empty slice\n",
      "  'Avg mph': lambda x: np.nanmean(x.astype(float)),\n",
      "C:\\Users\\yueli\\AppData\\Local\\Temp\\ipykernel_24428\\919805980.py:38: RuntimeWarning: Mean of empty slice\n",
      "  'Total Volume': lambda x: np.nanmean(x.astype(float)),\n",
      "C:\\Users\\yueli\\AppData\\Local\\Temp\\ipykernel_24428\\919805980.py:38: RuntimeWarning: Mean of empty slice\n",
      "  'Total Volume': lambda x: np.nanmean(x.astype(float)),\n",
      "C:\\Users\\yueli\\AppData\\Local\\Temp\\ipykernel_24428\\919805980.py:38: RuntimeWarning: Mean of empty slice\n",
      "  'Total Volume': lambda x: np.nanmean(x.astype(float)),\n",
      "C:\\Users\\yueli\\AppData\\Local\\Temp\\ipykernel_24428\\919805980.py:38: RuntimeWarning: Mean of empty slice\n",
      "  'Total Volume': lambda x: np.nanmean(x.astype(float)),\n",
      " 39%|███▉      | 193/498 [1:00:09<1:35:42, 18.83s/it]"
     ]
    },
    {
     "name": "stdout",
     "output_type": "stream",
     "text": [
      "Data download stopped at page 8 for site 7703\n"
     ]
    },
    {
     "name": "stderr",
     "output_type": "stream",
     "text": [
      " 39%|███▉      | 194/498 [1:00:29<1:36:52, 19.12s/it]"
     ]
    },
    {
     "name": "stdout",
     "output_type": "stream",
     "text": [
      "Data download stopped at page 8 for site 9059\n"
     ]
    },
    {
     "name": "stderr",
     "output_type": "stream",
     "text": [
      " 39%|███▉      | 195/498 [1:00:47<1:34:49, 18.78s/it]"
     ]
    },
    {
     "name": "stdout",
     "output_type": "stream",
     "text": [
      "Data download stopped at page 7 for site 18831\n"
     ]
    },
    {
     "name": "stderr",
     "output_type": "stream",
     "text": [
      " 39%|███▉      | 196/498 [1:01:06<1:35:37, 19.00s/it]"
     ]
    },
    {
     "name": "stdout",
     "output_type": "stream",
     "text": [
      "Data download stopped at page 7 for site 18550\n"
     ]
    },
    {
     "name": "stderr",
     "output_type": "stream",
     "text": [
      " 40%|███▉      | 197/498 [1:01:26<1:36:36, 19.26s/it]"
     ]
    },
    {
     "name": "stdout",
     "output_type": "stream",
     "text": [
      "Data download stopped at page 8 for site 7717\n"
     ]
    },
    {
     "name": "stderr",
     "output_type": "stream",
     "text": [
      " 40%|███▉      | 198/498 [1:01:46<1:37:05, 19.42s/it]"
     ]
    },
    {
     "name": "stdout",
     "output_type": "stream",
     "text": [
      "Data download stopped at page 8 for site 7716\n"
     ]
    },
    {
     "name": "stderr",
     "output_type": "stream",
     "text": [
      " 40%|███▉      | 199/498 [1:02:05<1:36:39, 19.40s/it]"
     ]
    },
    {
     "name": "stdout",
     "output_type": "stream",
     "text": [
      "Data download stopped at page 8 for site 7749\n"
     ]
    },
    {
     "name": "stderr",
     "output_type": "stream",
     "text": [
      " 40%|████      | 200/498 [1:02:25<1:37:02, 19.54s/it]"
     ]
    },
    {
     "name": "stdout",
     "output_type": "stream",
     "text": [
      "Data download stopped at page 8 for site 7748\n"
     ]
    },
    {
     "name": "stderr",
     "output_type": "stream",
     "text": [
      " 40%|████      | 201/498 [1:02:44<1:36:23, 19.47s/it]"
     ]
    },
    {
     "name": "stdout",
     "output_type": "stream",
     "text": [
      "Data download stopped at page 8 for site 9149\n"
     ]
    },
    {
     "name": "stderr",
     "output_type": "stream",
     "text": [
      " 41%|████      | 202/498 [1:03:04<1:35:42, 19.40s/it]"
     ]
    },
    {
     "name": "stdout",
     "output_type": "stream",
     "text": [
      "Data download stopped at page 8 for site 9051\n"
     ]
    },
    {
     "name": "stderr",
     "output_type": "stream",
     "text": [
      " 41%|████      | 203/498 [1:03:22<1:33:41, 19.05s/it]"
     ]
    },
    {
     "name": "stdout",
     "output_type": "stream",
     "text": [
      "Data download stopped at page 7 for site 1080\n"
     ]
    },
    {
     "name": "stderr",
     "output_type": "stream",
     "text": [
      " 41%|████      | 204/498 [1:03:40<1:32:38, 18.91s/it]"
     ]
    },
    {
     "name": "stdout",
     "output_type": "stream",
     "text": [
      "Data download stopped at page 7 for site 699\n"
     ]
    },
    {
     "name": "stderr",
     "output_type": "stream",
     "text": [
      " 41%|████      | 205/498 [1:03:59<1:31:17, 18.69s/it]"
     ]
    },
    {
     "name": "stdout",
     "output_type": "stream",
     "text": [
      "Data download stopped at page 7 for site 4447\n"
     ]
    },
    {
     "name": "stderr",
     "output_type": "stream",
     "text": [
      " 41%|████▏     | 206/498 [1:04:18<1:31:21, 18.77s/it]"
     ]
    },
    {
     "name": "stdout",
     "output_type": "stream",
     "text": [
      "Data download stopped at page 7 for site 3309\n"
     ]
    },
    {
     "name": "stderr",
     "output_type": "stream",
     "text": [
      " 42%|████▏     | 207/498 [1:04:37<1:32:33, 19.08s/it]"
     ]
    },
    {
     "name": "stdout",
     "output_type": "stream",
     "text": [
      "Data download stopped at page 8 for site 8916\n"
     ]
    },
    {
     "name": "stderr",
     "output_type": "stream",
     "text": [
      " 42%|████▏     | 208/498 [1:04:57<1:33:14, 19.29s/it]"
     ]
    },
    {
     "name": "stdout",
     "output_type": "stream",
     "text": [
      "Data download stopped at page 8 for site 8917\n"
     ]
    },
    {
     "name": "stderr",
     "output_type": "stream",
     "text": [
      " 42%|████▏     | 209/498 [1:05:17<1:33:00, 19.31s/it]"
     ]
    },
    {
     "name": "stdout",
     "output_type": "stream",
     "text": [
      "Data download stopped at page 8 for site 8965\n"
     ]
    },
    {
     "name": "stderr",
     "output_type": "stream",
     "text": [
      " 42%|████▏     | 210/498 [1:05:36<1:33:34, 19.49s/it]"
     ]
    },
    {
     "name": "stdout",
     "output_type": "stream",
     "text": [
      "Data download stopped at page 8 for site 9263\n"
     ]
    },
    {
     "name": "stderr",
     "output_type": "stream",
     "text": [
      " 42%|████▏     | 211/498 [1:05:55<1:31:12, 19.07s/it]"
     ]
    },
    {
     "name": "stdout",
     "output_type": "stream",
     "text": [
      "Data download stopped at page 7 for site 6118\n"
     ]
    },
    {
     "name": "stderr",
     "output_type": "stream",
     "text": [
      " 43%|████▎     | 212/498 [1:06:13<1:29:45, 18.83s/it]"
     ]
    },
    {
     "name": "stdout",
     "output_type": "stream",
     "text": [
      "Data download stopped at page 7 for site 4365\n"
     ]
    },
    {
     "name": "stderr",
     "output_type": "stream",
     "text": [
      " 43%|████▎     | 213/498 [1:06:33<1:31:31, 19.27s/it]"
     ]
    },
    {
     "name": "stdout",
     "output_type": "stream",
     "text": [
      "Data download stopped at page 8 for site 7654\n"
     ]
    },
    {
     "name": "stderr",
     "output_type": "stream",
     "text": [
      " 43%|████▎     | 214/498 [1:06:56<1:36:50, 20.46s/it]"
     ]
    },
    {
     "name": "stdout",
     "output_type": "stream",
     "text": [
      "Data download stopped at page 8 for site 7653\n"
     ]
    },
    {
     "name": "stderr",
     "output_type": "stream",
     "text": [
      " 43%|████▎     | 215/498 [1:07:17<1:36:09, 20.39s/it]"
     ]
    },
    {
     "name": "stdout",
     "output_type": "stream",
     "text": [
      "Data download stopped at page 8 for site 7643\n"
     ]
    },
    {
     "name": "stderr",
     "output_type": "stream",
     "text": [
      " 43%|████▎     | 216/498 [1:07:36<1:34:22, 20.08s/it]"
     ]
    },
    {
     "name": "stdout",
     "output_type": "stream",
     "text": [
      "Data download stopped at page 8 for site 7644\n"
     ]
    },
    {
     "name": "stderr",
     "output_type": "stream",
     "text": [
      "C:\\Users\\yueli\\AppData\\Local\\Temp\\ipykernel_24428\\919805980.py:37: RuntimeWarning: Mean of empty slice\n",
      "  'Avg mph': lambda x: np.nanmean(x.astype(float)),\n",
      "C:\\Users\\yueli\\AppData\\Local\\Temp\\ipykernel_24428\\919805980.py:37: RuntimeWarning: Mean of empty slice\n",
      "  'Avg mph': lambda x: np.nanmean(x.astype(float)),\n",
      "C:\\Users\\yueli\\AppData\\Local\\Temp\\ipykernel_24428\\919805980.py:37: RuntimeWarning: Mean of empty slice\n",
      "  'Avg mph': lambda x: np.nanmean(x.astype(float)),\n",
      "C:\\Users\\yueli\\AppData\\Local\\Temp\\ipykernel_24428\\919805980.py:37: RuntimeWarning: Mean of empty slice\n",
      "  'Avg mph': lambda x: np.nanmean(x.astype(float)),\n",
      "C:\\Users\\yueli\\AppData\\Local\\Temp\\ipykernel_24428\\919805980.py:38: RuntimeWarning: Mean of empty slice\n",
      "  'Total Volume': lambda x: np.nanmean(x.astype(float)),\n",
      "C:\\Users\\yueli\\AppData\\Local\\Temp\\ipykernel_24428\\919805980.py:38: RuntimeWarning: Mean of empty slice\n",
      "  'Total Volume': lambda x: np.nanmean(x.astype(float)),\n",
      "C:\\Users\\yueli\\AppData\\Local\\Temp\\ipykernel_24428\\919805980.py:38: RuntimeWarning: Mean of empty slice\n",
      "  'Total Volume': lambda x: np.nanmean(x.astype(float)),\n",
      "C:\\Users\\yueli\\AppData\\Local\\Temp\\ipykernel_24428\\919805980.py:38: RuntimeWarning: Mean of empty slice\n",
      "  'Total Volume': lambda x: np.nanmean(x.astype(float)),\n",
      " 44%|████▎     | 217/498 [1:07:54<1:30:37, 19.35s/it]"
     ]
    },
    {
     "name": "stdout",
     "output_type": "stream",
     "text": [
      "Data download stopped at page 7 for site 2420\n"
     ]
    },
    {
     "name": "stderr",
     "output_type": "stream",
     "text": [
      " 44%|████▍     | 218/498 [1:08:13<1:29:52, 19.26s/it]"
     ]
    },
    {
     "name": "stdout",
     "output_type": "stream",
     "text": [
      "Data download stopped at page 7 for site 1580\n"
     ]
    },
    {
     "name": "stderr",
     "output_type": "stream",
     "text": [
      " 44%|████▍     | 219/498 [1:08:32<1:29:35, 19.27s/it]"
     ]
    },
    {
     "name": "stdout",
     "output_type": "stream",
     "text": [
      "Data download stopped at page 8 for site 8968\n"
     ]
    },
    {
     "name": "stderr",
     "output_type": "stream",
     "text": [
      " 44%|████▍     | 220/498 [1:08:52<1:30:43, 19.58s/it]"
     ]
    },
    {
     "name": "stdout",
     "output_type": "stream",
     "text": [
      "Data download stopped at page 8 for site 8970\n"
     ]
    },
    {
     "name": "stderr",
     "output_type": "stream",
     "text": [
      " 44%|████▍     | 221/498 [1:09:12<1:30:43, 19.65s/it]"
     ]
    },
    {
     "name": "stdout",
     "output_type": "stream",
     "text": [
      "Data download stopped at page 8 for site 7755\n"
     ]
    },
    {
     "name": "stderr",
     "output_type": "stream",
     "text": [
      " 45%|████▍     | 222/498 [1:09:32<1:30:13, 19.61s/it]"
     ]
    },
    {
     "name": "stdout",
     "output_type": "stream",
     "text": [
      "Data download stopped at page 8 for site 7753\n"
     ]
    },
    {
     "name": "stderr",
     "output_type": "stream",
     "text": [
      "C:\\Users\\yueli\\AppData\\Local\\Temp\\ipykernel_24428\\919805980.py:37: RuntimeWarning: Mean of empty slice\n",
      "  'Avg mph': lambda x: np.nanmean(x.astype(float)),\n",
      "C:\\Users\\yueli\\AppData\\Local\\Temp\\ipykernel_24428\\919805980.py:37: RuntimeWarning: Mean of empty slice\n",
      "  'Avg mph': lambda x: np.nanmean(x.astype(float)),\n",
      "C:\\Users\\yueli\\AppData\\Local\\Temp\\ipykernel_24428\\919805980.py:37: RuntimeWarning: Mean of empty slice\n",
      "  'Avg mph': lambda x: np.nanmean(x.astype(float)),\n",
      "C:\\Users\\yueli\\AppData\\Local\\Temp\\ipykernel_24428\\919805980.py:37: RuntimeWarning: Mean of empty slice\n",
      "  'Avg mph': lambda x: np.nanmean(x.astype(float)),\n",
      "C:\\Users\\yueli\\AppData\\Local\\Temp\\ipykernel_24428\\919805980.py:38: RuntimeWarning: Mean of empty slice\n",
      "  'Total Volume': lambda x: np.nanmean(x.astype(float)),\n",
      "C:\\Users\\yueli\\AppData\\Local\\Temp\\ipykernel_24428\\919805980.py:38: RuntimeWarning: Mean of empty slice\n",
      "  'Total Volume': lambda x: np.nanmean(x.astype(float)),\n",
      "C:\\Users\\yueli\\AppData\\Local\\Temp\\ipykernel_24428\\919805980.py:38: RuntimeWarning: Mean of empty slice\n",
      "  'Total Volume': lambda x: np.nanmean(x.astype(float)),\n",
      "C:\\Users\\yueli\\AppData\\Local\\Temp\\ipykernel_24428\\919805980.py:38: RuntimeWarning: Mean of empty slice\n",
      "  'Total Volume': lambda x: np.nanmean(x.astype(float)),\n",
      " 45%|████▍     | 223/498 [1:09:50<1:28:49, 19.38s/it]"
     ]
    },
    {
     "name": "stdout",
     "output_type": "stream",
     "text": [
      "Data download stopped at page 7 for site 4398\n"
     ]
    },
    {
     "name": "stderr",
     "output_type": "stream",
     "text": [
      " 45%|████▍     | 224/498 [1:10:09<1:28:01, 19.28s/it]"
     ]
    },
    {
     "name": "stdout",
     "output_type": "stream",
     "text": [
      "Data download stopped at page 7 for site 1603\n"
     ]
    },
    {
     "name": "stderr",
     "output_type": "stream",
     "text": [
      "C:\\Users\\yueli\\AppData\\Local\\Temp\\ipykernel_24428\\919805980.py:37: RuntimeWarning: Mean of empty slice\n",
      "  'Avg mph': lambda x: np.nanmean(x.astype(float)),\n",
      "C:\\Users\\yueli\\AppData\\Local\\Temp\\ipykernel_24428\\919805980.py:37: RuntimeWarning: Mean of empty slice\n",
      "  'Avg mph': lambda x: np.nanmean(x.astype(float)),\n",
      "C:\\Users\\yueli\\AppData\\Local\\Temp\\ipykernel_24428\\919805980.py:37: RuntimeWarning: Mean of empty slice\n",
      "  'Avg mph': lambda x: np.nanmean(x.astype(float)),\n",
      "C:\\Users\\yueli\\AppData\\Local\\Temp\\ipykernel_24428\\919805980.py:37: RuntimeWarning: Mean of empty slice\n",
      "  'Avg mph': lambda x: np.nanmean(x.astype(float)),\n",
      "C:\\Users\\yueli\\AppData\\Local\\Temp\\ipykernel_24428\\919805980.py:38: RuntimeWarning: Mean of empty slice\n",
      "  'Total Volume': lambda x: np.nanmean(x.astype(float)),\n",
      "C:\\Users\\yueli\\AppData\\Local\\Temp\\ipykernel_24428\\919805980.py:38: RuntimeWarning: Mean of empty slice\n",
      "  'Total Volume': lambda x: np.nanmean(x.astype(float)),\n",
      "C:\\Users\\yueli\\AppData\\Local\\Temp\\ipykernel_24428\\919805980.py:38: RuntimeWarning: Mean of empty slice\n",
      "  'Total Volume': lambda x: np.nanmean(x.astype(float)),\n",
      "C:\\Users\\yueli\\AppData\\Local\\Temp\\ipykernel_24428\\919805980.py:38: RuntimeWarning: Mean of empty slice\n",
      "  'Total Volume': lambda x: np.nanmean(x.astype(float)),\n",
      " 45%|████▌     | 225/498 [1:10:27<1:25:28, 18.79s/it]"
     ]
    },
    {
     "name": "stdout",
     "output_type": "stream",
     "text": [
      "Data download stopped at page 8 for site 7794\n",
      "7794 has no valid data.\n"
     ]
    },
    {
     "name": "stderr",
     "output_type": "stream",
     "text": [
      "C:\\Users\\yueli\\AppData\\Local\\Temp\\ipykernel_24428\\919805980.py:37: RuntimeWarning: Mean of empty slice\n",
      "  'Avg mph': lambda x: np.nanmean(x.astype(float)),\n",
      "C:\\Users\\yueli\\AppData\\Local\\Temp\\ipykernel_24428\\919805980.py:37: RuntimeWarning: Mean of empty slice\n",
      "  'Avg mph': lambda x: np.nanmean(x.astype(float)),\n",
      "C:\\Users\\yueli\\AppData\\Local\\Temp\\ipykernel_24428\\919805980.py:37: RuntimeWarning: Mean of empty slice\n",
      "  'Avg mph': lambda x: np.nanmean(x.astype(float)),\n",
      "C:\\Users\\yueli\\AppData\\Local\\Temp\\ipykernel_24428\\919805980.py:37: RuntimeWarning: Mean of empty slice\n",
      "  'Avg mph': lambda x: np.nanmean(x.astype(float)),\n",
      "C:\\Users\\yueli\\AppData\\Local\\Temp\\ipykernel_24428\\919805980.py:38: RuntimeWarning: Mean of empty slice\n",
      "  'Total Volume': lambda x: np.nanmean(x.astype(float)),\n",
      "C:\\Users\\yueli\\AppData\\Local\\Temp\\ipykernel_24428\\919805980.py:38: RuntimeWarning: Mean of empty slice\n",
      "  'Total Volume': lambda x: np.nanmean(x.astype(float)),\n",
      "C:\\Users\\yueli\\AppData\\Local\\Temp\\ipykernel_24428\\919805980.py:38: RuntimeWarning: Mean of empty slice\n",
      "  'Total Volume': lambda x: np.nanmean(x.astype(float)),\n",
      "C:\\Users\\yueli\\AppData\\Local\\Temp\\ipykernel_24428\\919805980.py:38: RuntimeWarning: Mean of empty slice\n",
      "  'Total Volume': lambda x: np.nanmean(x.astype(float)),\n",
      " 45%|████▌     | 226/498 [1:10:46<1:24:44, 18.69s/it]"
     ]
    },
    {
     "name": "stdout",
     "output_type": "stream",
     "text": [
      "Data download stopped at page 8 for site 7792\n"
     ]
    },
    {
     "name": "stderr",
     "output_type": "stream",
     "text": [
      " 46%|████▌     | 227/498 [1:11:04<1:23:42, 18.53s/it]"
     ]
    },
    {
     "name": "stdout",
     "output_type": "stream",
     "text": [
      "Data download stopped at page 7 for site 5304\n"
     ]
    },
    {
     "name": "stderr",
     "output_type": "stream",
     "text": [
      " 46%|████▌     | 228/498 [1:11:22<1:23:03, 18.46s/it]"
     ]
    },
    {
     "name": "stdout",
     "output_type": "stream",
     "text": [
      "Data download stopped at page 7 for site 4565\n"
     ]
    },
    {
     "name": "stderr",
     "output_type": "stream",
     "text": [
      "C:\\Users\\yueli\\AppData\\Local\\Temp\\ipykernel_24428\\919805980.py:37: RuntimeWarning: Mean of empty slice\n",
      "  'Avg mph': lambda x: np.nanmean(x.astype(float)),\n",
      "C:\\Users\\yueli\\AppData\\Local\\Temp\\ipykernel_24428\\919805980.py:37: RuntimeWarning: Mean of empty slice\n",
      "  'Avg mph': lambda x: np.nanmean(x.astype(float)),\n",
      "C:\\Users\\yueli\\AppData\\Local\\Temp\\ipykernel_24428\\919805980.py:37: RuntimeWarning: Mean of empty slice\n",
      "  'Avg mph': lambda x: np.nanmean(x.astype(float)),\n",
      "C:\\Users\\yueli\\AppData\\Local\\Temp\\ipykernel_24428\\919805980.py:37: RuntimeWarning: Mean of empty slice\n",
      "  'Avg mph': lambda x: np.nanmean(x.astype(float)),\n",
      "C:\\Users\\yueli\\AppData\\Local\\Temp\\ipykernel_24428\\919805980.py:38: RuntimeWarning: Mean of empty slice\n",
      "  'Total Volume': lambda x: np.nanmean(x.astype(float)),\n",
      "C:\\Users\\yueli\\AppData\\Local\\Temp\\ipykernel_24428\\919805980.py:38: RuntimeWarning: Mean of empty slice\n",
      "  'Total Volume': lambda x: np.nanmean(x.astype(float)),\n",
      "C:\\Users\\yueli\\AppData\\Local\\Temp\\ipykernel_24428\\919805980.py:38: RuntimeWarning: Mean of empty slice\n",
      "  'Total Volume': lambda x: np.nanmean(x.astype(float)),\n",
      "C:\\Users\\yueli\\AppData\\Local\\Temp\\ipykernel_24428\\919805980.py:38: RuntimeWarning: Mean of empty slice\n",
      "  'Total Volume': lambda x: np.nanmean(x.astype(float)),\n",
      " 46%|████▌     | 229/498 [1:11:40<1:21:33, 18.19s/it]"
     ]
    },
    {
     "name": "stdout",
     "output_type": "stream",
     "text": [
      "Data download stopped at page 8 for site 8978\n",
      "8978 has no valid data.\n"
     ]
    },
    {
     "name": "stderr",
     "output_type": "stream",
     "text": [
      "C:\\Users\\yueli\\AppData\\Local\\Temp\\ipykernel_24428\\919805980.py:37: RuntimeWarning: Mean of empty slice\n",
      "  'Avg mph': lambda x: np.nanmean(x.astype(float)),\n",
      "C:\\Users\\yueli\\AppData\\Local\\Temp\\ipykernel_24428\\919805980.py:37: RuntimeWarning: Mean of empty slice\n",
      "  'Avg mph': lambda x: np.nanmean(x.astype(float)),\n",
      "C:\\Users\\yueli\\AppData\\Local\\Temp\\ipykernel_24428\\919805980.py:37: RuntimeWarning: Mean of empty slice\n",
      "  'Avg mph': lambda x: np.nanmean(x.astype(float)),\n",
      "C:\\Users\\yueli\\AppData\\Local\\Temp\\ipykernel_24428\\919805980.py:37: RuntimeWarning: Mean of empty slice\n",
      "  'Avg mph': lambda x: np.nanmean(x.astype(float)),\n",
      "C:\\Users\\yueli\\AppData\\Local\\Temp\\ipykernel_24428\\919805980.py:38: RuntimeWarning: Mean of empty slice\n",
      "  'Total Volume': lambda x: np.nanmean(x.astype(float)),\n",
      "C:\\Users\\yueli\\AppData\\Local\\Temp\\ipykernel_24428\\919805980.py:38: RuntimeWarning: Mean of empty slice\n",
      "  'Total Volume': lambda x: np.nanmean(x.astype(float)),\n",
      "C:\\Users\\yueli\\AppData\\Local\\Temp\\ipykernel_24428\\919805980.py:38: RuntimeWarning: Mean of empty slice\n",
      "  'Total Volume': lambda x: np.nanmean(x.astype(float)),\n",
      "C:\\Users\\yueli\\AppData\\Local\\Temp\\ipykernel_24428\\919805980.py:38: RuntimeWarning: Mean of empty slice\n",
      "  'Total Volume': lambda x: np.nanmean(x.astype(float)),\n",
      " 46%|████▌     | 230/498 [1:11:57<1:20:24, 18.00s/it]"
     ]
    },
    {
     "name": "stdout",
     "output_type": "stream",
     "text": [
      "Data download stopped at page 8 for site 8979\n",
      "8979 has no valid data.\n"
     ]
    },
    {
     "name": "stderr",
     "output_type": "stream",
     "text": [
      " 46%|████▋     | 231/498 [1:12:15<1:20:08, 18.01s/it]"
     ]
    },
    {
     "name": "stdout",
     "output_type": "stream",
     "text": [
      "Data download stopped at page 7 for site 1855\n"
     ]
    },
    {
     "name": "stderr",
     "output_type": "stream",
     "text": [
      " 47%|████▋     | 232/498 [1:12:33<1:20:04, 18.06s/it]"
     ]
    },
    {
     "name": "stdout",
     "output_type": "stream",
     "text": [
      "Data download stopped at page 7 for site 3027\n"
     ]
    },
    {
     "name": "stderr",
     "output_type": "stream",
     "text": [
      " 47%|████▋     | 233/498 [1:12:52<1:20:05, 18.13s/it]"
     ]
    },
    {
     "name": "stdout",
     "output_type": "stream",
     "text": [
      "Data download stopped at page 7 for site 4771\n"
     ]
    },
    {
     "name": "stderr",
     "output_type": "stream",
     "text": [
      "C:\\Users\\yueli\\AppData\\Local\\Temp\\ipykernel_24428\\919805980.py:37: RuntimeWarning: Mean of empty slice\n",
      "  'Avg mph': lambda x: np.nanmean(x.astype(float)),\n",
      "C:\\Users\\yueli\\AppData\\Local\\Temp\\ipykernel_24428\\919805980.py:37: RuntimeWarning: Mean of empty slice\n",
      "  'Avg mph': lambda x: np.nanmean(x.astype(float)),\n",
      "C:\\Users\\yueli\\AppData\\Local\\Temp\\ipykernel_24428\\919805980.py:37: RuntimeWarning: Mean of empty slice\n",
      "  'Avg mph': lambda x: np.nanmean(x.astype(float)),\n",
      "C:\\Users\\yueli\\AppData\\Local\\Temp\\ipykernel_24428\\919805980.py:37: RuntimeWarning: Mean of empty slice\n",
      "  'Avg mph': lambda x: np.nanmean(x.astype(float)),\n",
      "C:\\Users\\yueli\\AppData\\Local\\Temp\\ipykernel_24428\\919805980.py:38: RuntimeWarning: Mean of empty slice\n",
      "  'Total Volume': lambda x: np.nanmean(x.astype(float)),\n",
      "C:\\Users\\yueli\\AppData\\Local\\Temp\\ipykernel_24428\\919805980.py:38: RuntimeWarning: Mean of empty slice\n",
      "  'Total Volume': lambda x: np.nanmean(x.astype(float)),\n",
      "C:\\Users\\yueli\\AppData\\Local\\Temp\\ipykernel_24428\\919805980.py:38: RuntimeWarning: Mean of empty slice\n",
      "  'Total Volume': lambda x: np.nanmean(x.astype(float)),\n",
      "C:\\Users\\yueli\\AppData\\Local\\Temp\\ipykernel_24428\\919805980.py:38: RuntimeWarning: Mean of empty slice\n",
      "  'Total Volume': lambda x: np.nanmean(x.astype(float)),\n",
      " 47%|████▋     | 234/498 [1:13:09<1:19:08, 17.99s/it]"
     ]
    },
    {
     "name": "stdout",
     "output_type": "stream",
     "text": [
      "Data download stopped at page 7 for site 4367\n"
     ]
    },
    {
     "name": "stderr",
     "output_type": "stream",
     "text": [
      "C:\\Users\\yueli\\AppData\\Local\\Temp\\ipykernel_24428\\919805980.py:37: RuntimeWarning: Mean of empty slice\n",
      "  'Avg mph': lambda x: np.nanmean(x.astype(float)),\n",
      "C:\\Users\\yueli\\AppData\\Local\\Temp\\ipykernel_24428\\919805980.py:37: RuntimeWarning: Mean of empty slice\n",
      "  'Avg mph': lambda x: np.nanmean(x.astype(float)),\n",
      "C:\\Users\\yueli\\AppData\\Local\\Temp\\ipykernel_24428\\919805980.py:37: RuntimeWarning: Mean of empty slice\n",
      "  'Avg mph': lambda x: np.nanmean(x.astype(float)),\n",
      "C:\\Users\\yueli\\AppData\\Local\\Temp\\ipykernel_24428\\919805980.py:37: RuntimeWarning: Mean of empty slice\n",
      "  'Avg mph': lambda x: np.nanmean(x.astype(float)),\n",
      "C:\\Users\\yueli\\AppData\\Local\\Temp\\ipykernel_24428\\919805980.py:38: RuntimeWarning: Mean of empty slice\n",
      "  'Total Volume': lambda x: np.nanmean(x.astype(float)),\n",
      "C:\\Users\\yueli\\AppData\\Local\\Temp\\ipykernel_24428\\919805980.py:38: RuntimeWarning: Mean of empty slice\n",
      "  'Total Volume': lambda x: np.nanmean(x.astype(float)),\n",
      "C:\\Users\\yueli\\AppData\\Local\\Temp\\ipykernel_24428\\919805980.py:38: RuntimeWarning: Mean of empty slice\n",
      "  'Total Volume': lambda x: np.nanmean(x.astype(float)),\n",
      "C:\\Users\\yueli\\AppData\\Local\\Temp\\ipykernel_24428\\919805980.py:38: RuntimeWarning: Mean of empty slice\n",
      "  'Total Volume': lambda x: np.nanmean(x.astype(float)),\n",
      " 47%|████▋     | 235/498 [1:13:27<1:18:34, 17.93s/it]"
     ]
    },
    {
     "name": "stdout",
     "output_type": "stream",
     "text": [
      "Data download stopped at page 8 for site 8915\n",
      "8915 has no valid data.\n"
     ]
    },
    {
     "name": "stderr",
     "output_type": "stream",
     "text": [
      " 47%|████▋     | 236/498 [1:13:47<1:20:21, 18.40s/it]"
     ]
    },
    {
     "name": "stdout",
     "output_type": "stream",
     "text": [
      "Data download stopped at page 8 for site 7900\n"
     ]
    },
    {
     "name": "stderr",
     "output_type": "stream",
     "text": [
      " 48%|████▊     | 237/498 [1:14:04<1:19:05, 18.18s/it]"
     ]
    },
    {
     "name": "stdout",
     "output_type": "stream",
     "text": [
      "Data download stopped at page 7 for site 4521\n"
     ]
    },
    {
     "name": "stderr",
     "output_type": "stream",
     "text": [
      " 48%|████▊     | 238/498 [1:14:23<1:18:53, 18.21s/it]"
     ]
    },
    {
     "name": "stdout",
     "output_type": "stream",
     "text": [
      "Data download stopped at page 7 for site 1501\n"
     ]
    },
    {
     "name": "stderr",
     "output_type": "stream",
     "text": [
      "C:\\Users\\yueli\\AppData\\Local\\Temp\\ipykernel_24428\\919805980.py:37: RuntimeWarning: Mean of empty slice\n",
      "  'Avg mph': lambda x: np.nanmean(x.astype(float)),\n",
      "C:\\Users\\yueli\\AppData\\Local\\Temp\\ipykernel_24428\\919805980.py:37: RuntimeWarning: Mean of empty slice\n",
      "  'Avg mph': lambda x: np.nanmean(x.astype(float)),\n",
      "C:\\Users\\yueli\\AppData\\Local\\Temp\\ipykernel_24428\\919805980.py:37: RuntimeWarning: Mean of empty slice\n",
      "  'Avg mph': lambda x: np.nanmean(x.astype(float)),\n",
      "C:\\Users\\yueli\\AppData\\Local\\Temp\\ipykernel_24428\\919805980.py:37: RuntimeWarning: Mean of empty slice\n",
      "  'Avg mph': lambda x: np.nanmean(x.astype(float)),\n",
      "C:\\Users\\yueli\\AppData\\Local\\Temp\\ipykernel_24428\\919805980.py:38: RuntimeWarning: Mean of empty slice\n",
      "  'Total Volume': lambda x: np.nanmean(x.astype(float)),\n",
      "C:\\Users\\yueli\\AppData\\Local\\Temp\\ipykernel_24428\\919805980.py:38: RuntimeWarning: Mean of empty slice\n",
      "  'Total Volume': lambda x: np.nanmean(x.astype(float)),\n",
      "C:\\Users\\yueli\\AppData\\Local\\Temp\\ipykernel_24428\\919805980.py:38: RuntimeWarning: Mean of empty slice\n",
      "  'Total Volume': lambda x: np.nanmean(x.astype(float)),\n",
      "C:\\Users\\yueli\\AppData\\Local\\Temp\\ipykernel_24428\\919805980.py:38: RuntimeWarning: Mean of empty slice\n",
      "  'Total Volume': lambda x: np.nanmean(x.astype(float)),\n",
      " 48%|████▊     | 239/498 [1:14:40<1:18:04, 18.09s/it]"
     ]
    },
    {
     "name": "stdout",
     "output_type": "stream",
     "text": [
      "Data download stopped at page 8 for site 7776\n",
      "7776 has no valid data.\n"
     ]
    },
    {
     "name": "stderr",
     "output_type": "stream",
     "text": [
      "C:\\Users\\yueli\\AppData\\Local\\Temp\\ipykernel_24428\\919805980.py:37: RuntimeWarning: Mean of empty slice\n",
      "  'Avg mph': lambda x: np.nanmean(x.astype(float)),\n",
      "C:\\Users\\yueli\\AppData\\Local\\Temp\\ipykernel_24428\\919805980.py:37: RuntimeWarning: Mean of empty slice\n",
      "  'Avg mph': lambda x: np.nanmean(x.astype(float)),\n",
      "C:\\Users\\yueli\\AppData\\Local\\Temp\\ipykernel_24428\\919805980.py:37: RuntimeWarning: Mean of empty slice\n",
      "  'Avg mph': lambda x: np.nanmean(x.astype(float)),\n",
      "C:\\Users\\yueli\\AppData\\Local\\Temp\\ipykernel_24428\\919805980.py:37: RuntimeWarning: Mean of empty slice\n",
      "  'Avg mph': lambda x: np.nanmean(x.astype(float)),\n",
      "C:\\Users\\yueli\\AppData\\Local\\Temp\\ipykernel_24428\\919805980.py:38: RuntimeWarning: Mean of empty slice\n",
      "  'Total Volume': lambda x: np.nanmean(x.astype(float)),\n",
      "C:\\Users\\yueli\\AppData\\Local\\Temp\\ipykernel_24428\\919805980.py:38: RuntimeWarning: Mean of empty slice\n",
      "  'Total Volume': lambda x: np.nanmean(x.astype(float)),\n",
      "C:\\Users\\yueli\\AppData\\Local\\Temp\\ipykernel_24428\\919805980.py:38: RuntimeWarning: Mean of empty slice\n",
      "  'Total Volume': lambda x: np.nanmean(x.astype(float)),\n",
      "C:\\Users\\yueli\\AppData\\Local\\Temp\\ipykernel_24428\\919805980.py:38: RuntimeWarning: Mean of empty slice\n",
      "  'Total Volume': lambda x: np.nanmean(x.astype(float)),\n",
      " 48%|████▊     | 240/498 [1:14:58<1:17:05, 17.93s/it]"
     ]
    },
    {
     "name": "stdout",
     "output_type": "stream",
     "text": [
      "Data download stopped at page 8 for site 7770\n",
      "7770 has no valid data.\n"
     ]
    },
    {
     "name": "stderr",
     "output_type": "stream",
     "text": [
      " 48%|████▊     | 241/498 [1:15:16<1:16:55, 17.96s/it]"
     ]
    },
    {
     "name": "stdout",
     "output_type": "stream",
     "text": [
      "Data download stopped at page 7 for site 4849\n"
     ]
    },
    {
     "name": "stderr",
     "output_type": "stream",
     "text": [
      " 49%|████▊     | 242/498 [1:15:34<1:17:05, 18.07s/it]"
     ]
    },
    {
     "name": "stdout",
     "output_type": "stream",
     "text": [
      "Data download stopped at page 7 for site 2317\n"
     ]
    },
    {
     "name": "stderr",
     "output_type": "stream",
     "text": [
      " 49%|████▉     | 243/498 [1:15:52<1:16:24, 17.98s/it]"
     ]
    },
    {
     "name": "stdout",
     "output_type": "stream",
     "text": [
      "Data download stopped at page 7 for site 3047\n"
     ]
    },
    {
     "name": "stderr",
     "output_type": "stream",
     "text": [
      " 49%|████▉     | 244/498 [1:16:10<1:16:17, 18.02s/it]"
     ]
    },
    {
     "name": "stdout",
     "output_type": "stream",
     "text": [
      "Data download stopped at page 7 for site 1742\n"
     ]
    },
    {
     "name": "stderr",
     "output_type": "stream",
     "text": [
      "C:\\Users\\yueli\\AppData\\Local\\Temp\\ipykernel_24428\\919805980.py:37: RuntimeWarning: Mean of empty slice\n",
      "  'Avg mph': lambda x: np.nanmean(x.astype(float)),\n",
      "C:\\Users\\yueli\\AppData\\Local\\Temp\\ipykernel_24428\\919805980.py:37: RuntimeWarning: Mean of empty slice\n",
      "  'Avg mph': lambda x: np.nanmean(x.astype(float)),\n",
      "C:\\Users\\yueli\\AppData\\Local\\Temp\\ipykernel_24428\\919805980.py:37: RuntimeWarning: Mean of empty slice\n",
      "  'Avg mph': lambda x: np.nanmean(x.astype(float)),\n",
      "C:\\Users\\yueli\\AppData\\Local\\Temp\\ipykernel_24428\\919805980.py:37: RuntimeWarning: Mean of empty slice\n",
      "  'Avg mph': lambda x: np.nanmean(x.astype(float)),\n",
      "C:\\Users\\yueli\\AppData\\Local\\Temp\\ipykernel_24428\\919805980.py:38: RuntimeWarning: Mean of empty slice\n",
      "  'Total Volume': lambda x: np.nanmean(x.astype(float)),\n",
      "C:\\Users\\yueli\\AppData\\Local\\Temp\\ipykernel_24428\\919805980.py:38: RuntimeWarning: Mean of empty slice\n",
      "  'Total Volume': lambda x: np.nanmean(x.astype(float)),\n",
      "C:\\Users\\yueli\\AppData\\Local\\Temp\\ipykernel_24428\\919805980.py:38: RuntimeWarning: Mean of empty slice\n",
      "  'Total Volume': lambda x: np.nanmean(x.astype(float)),\n",
      "C:\\Users\\yueli\\AppData\\Local\\Temp\\ipykernel_24428\\919805980.py:38: RuntimeWarning: Mean of empty slice\n",
      "  'Total Volume': lambda x: np.nanmean(x.astype(float)),\n",
      " 49%|████▉     | 245/498 [1:16:29<1:17:22, 18.35s/it]"
     ]
    },
    {
     "name": "stdout",
     "output_type": "stream",
     "text": [
      "Data download stopped at page 8 for site 8975\n"
     ]
    },
    {
     "name": "stderr",
     "output_type": "stream",
     "text": [
      "C:\\Users\\yueli\\AppData\\Local\\Temp\\ipykernel_24428\\919805980.py:37: RuntimeWarning: Mean of empty slice\n",
      "  'Avg mph': lambda x: np.nanmean(x.astype(float)),\n",
      "C:\\Users\\yueli\\AppData\\Local\\Temp\\ipykernel_24428\\919805980.py:37: RuntimeWarning: Mean of empty slice\n",
      "  'Avg mph': lambda x: np.nanmean(x.astype(float)),\n",
      "C:\\Users\\yueli\\AppData\\Local\\Temp\\ipykernel_24428\\919805980.py:37: RuntimeWarning: Mean of empty slice\n",
      "  'Avg mph': lambda x: np.nanmean(x.astype(float)),\n",
      "C:\\Users\\yueli\\AppData\\Local\\Temp\\ipykernel_24428\\919805980.py:37: RuntimeWarning: Mean of empty slice\n",
      "  'Avg mph': lambda x: np.nanmean(x.astype(float)),\n",
      "C:\\Users\\yueli\\AppData\\Local\\Temp\\ipykernel_24428\\919805980.py:38: RuntimeWarning: Mean of empty slice\n",
      "  'Total Volume': lambda x: np.nanmean(x.astype(float)),\n",
      "C:\\Users\\yueli\\AppData\\Local\\Temp\\ipykernel_24428\\919805980.py:38: RuntimeWarning: Mean of empty slice\n",
      "  'Total Volume': lambda x: np.nanmean(x.astype(float)),\n",
      "C:\\Users\\yueli\\AppData\\Local\\Temp\\ipykernel_24428\\919805980.py:38: RuntimeWarning: Mean of empty slice\n",
      "  'Total Volume': lambda x: np.nanmean(x.astype(float)),\n",
      "C:\\Users\\yueli\\AppData\\Local\\Temp\\ipykernel_24428\\919805980.py:38: RuntimeWarning: Mean of empty slice\n",
      "  'Total Volume': lambda x: np.nanmean(x.astype(float)),\n",
      " 49%|████▉     | 246/498 [1:16:47<1:16:02, 18.10s/it]"
     ]
    },
    {
     "name": "stdout",
     "output_type": "stream",
     "text": [
      "Data download stopped at page 8 for site 8974\n",
      "8974 has no valid data.\n"
     ]
    },
    {
     "name": "stderr",
     "output_type": "stream",
     "text": [
      " 50%|████▉     | 247/498 [1:17:05<1:15:47, 18.12s/it]"
     ]
    },
    {
     "name": "stdout",
     "output_type": "stream",
     "text": [
      "Data download stopped at page 7 for site 5583\n"
     ]
    },
    {
     "name": "stderr",
     "output_type": "stream",
     "text": [
      "C:\\Users\\yueli\\AppData\\Local\\Temp\\ipykernel_24428\\919805980.py:37: RuntimeWarning: Mean of empty slice\n",
      "  'Avg mph': lambda x: np.nanmean(x.astype(float)),\n",
      "C:\\Users\\yueli\\AppData\\Local\\Temp\\ipykernel_24428\\919805980.py:37: RuntimeWarning: Mean of empty slice\n",
      "  'Avg mph': lambda x: np.nanmean(x.astype(float)),\n",
      "C:\\Users\\yueli\\AppData\\Local\\Temp\\ipykernel_24428\\919805980.py:37: RuntimeWarning: Mean of empty slice\n",
      "  'Avg mph': lambda x: np.nanmean(x.astype(float)),\n",
      "C:\\Users\\yueli\\AppData\\Local\\Temp\\ipykernel_24428\\919805980.py:37: RuntimeWarning: Mean of empty slice\n",
      "  'Avg mph': lambda x: np.nanmean(x.astype(float)),\n",
      "C:\\Users\\yueli\\AppData\\Local\\Temp\\ipykernel_24428\\919805980.py:38: RuntimeWarning: Mean of empty slice\n",
      "  'Total Volume': lambda x: np.nanmean(x.astype(float)),\n",
      "C:\\Users\\yueli\\AppData\\Local\\Temp\\ipykernel_24428\\919805980.py:38: RuntimeWarning: Mean of empty slice\n",
      "  'Total Volume': lambda x: np.nanmean(x.astype(float)),\n",
      "C:\\Users\\yueli\\AppData\\Local\\Temp\\ipykernel_24428\\919805980.py:38: RuntimeWarning: Mean of empty slice\n",
      "  'Total Volume': lambda x: np.nanmean(x.astype(float)),\n",
      "C:\\Users\\yueli\\AppData\\Local\\Temp\\ipykernel_24428\\919805980.py:38: RuntimeWarning: Mean of empty slice\n",
      "  'Total Volume': lambda x: np.nanmean(x.astype(float)),\n",
      " 50%|████▉     | 248/498 [1:17:23<1:15:28, 18.11s/it]"
     ]
    },
    {
     "name": "stdout",
     "output_type": "stream",
     "text": [
      "Data download stopped at page 7 for site 3179\n"
     ]
    },
    {
     "name": "stderr",
     "output_type": "stream",
     "text": [
      " 50%|█████     | 249/498 [1:17:42<1:15:39, 18.23s/it]"
     ]
    },
    {
     "name": "stdout",
     "output_type": "stream",
     "text": [
      "Data download stopped at page 7 for site 4917\n"
     ]
    },
    {
     "name": "stderr",
     "output_type": "stream",
     "text": [
      " 50%|█████     | 250/498 [1:18:02<1:18:25, 18.97s/it]"
     ]
    },
    {
     "name": "stdout",
     "output_type": "stream",
     "text": [
      "Data download stopped at page 7 for site 322\n"
     ]
    },
    {
     "name": "stderr",
     "output_type": "stream",
     "text": [
      " 50%|█████     | 251/498 [1:18:20<1:17:02, 18.71s/it]"
     ]
    },
    {
     "name": "stdout",
     "output_type": "stream",
     "text": [
      "Data download stopped at page 7 for site 5181\n"
     ]
    },
    {
     "name": "stderr",
     "output_type": "stream",
     "text": [
      "C:\\Users\\yueli\\AppData\\Local\\Temp\\ipykernel_24428\\919805980.py:37: RuntimeWarning: Mean of empty slice\n",
      "  'Avg mph': lambda x: np.nanmean(x.astype(float)),\n",
      "C:\\Users\\yueli\\AppData\\Local\\Temp\\ipykernel_24428\\919805980.py:37: RuntimeWarning: Mean of empty slice\n",
      "  'Avg mph': lambda x: np.nanmean(x.astype(float)),\n",
      "C:\\Users\\yueli\\AppData\\Local\\Temp\\ipykernel_24428\\919805980.py:37: RuntimeWarning: Mean of empty slice\n",
      "  'Avg mph': lambda x: np.nanmean(x.astype(float)),\n",
      "C:\\Users\\yueli\\AppData\\Local\\Temp\\ipykernel_24428\\919805980.py:37: RuntimeWarning: Mean of empty slice\n",
      "  'Avg mph': lambda x: np.nanmean(x.astype(float)),\n",
      "C:\\Users\\yueli\\AppData\\Local\\Temp\\ipykernel_24428\\919805980.py:38: RuntimeWarning: Mean of empty slice\n",
      "  'Total Volume': lambda x: np.nanmean(x.astype(float)),\n",
      "C:\\Users\\yueli\\AppData\\Local\\Temp\\ipykernel_24428\\919805980.py:38: RuntimeWarning: Mean of empty slice\n",
      "  'Total Volume': lambda x: np.nanmean(x.astype(float)),\n",
      "C:\\Users\\yueli\\AppData\\Local\\Temp\\ipykernel_24428\\919805980.py:38: RuntimeWarning: Mean of empty slice\n",
      "  'Total Volume': lambda x: np.nanmean(x.astype(float)),\n",
      "C:\\Users\\yueli\\AppData\\Local\\Temp\\ipykernel_24428\\919805980.py:38: RuntimeWarning: Mean of empty slice\n",
      "  'Total Volume': lambda x: np.nanmean(x.astype(float)),\n",
      " 51%|█████     | 252/498 [1:18:37<1:14:19, 18.13s/it]"
     ]
    },
    {
     "name": "stdout",
     "output_type": "stream",
     "text": [
      "Data download stopped at page 7 for site 3249\n",
      "3249 has no valid data.\n"
     ]
    },
    {
     "name": "stderr",
     "output_type": "stream",
     "text": [
      " 51%|█████     | 253/498 [1:18:55<1:14:05, 18.14s/it]"
     ]
    },
    {
     "name": "stdout",
     "output_type": "stream",
     "text": [
      "Data download stopped at page 7 for site 4271\n"
     ]
    },
    {
     "name": "stderr",
     "output_type": "stream",
     "text": [
      " 51%|█████     | 254/498 [1:19:13<1:13:41, 18.12s/it]"
     ]
    },
    {
     "name": "stdout",
     "output_type": "stream",
     "text": [
      "Data download stopped at page 7 for site 5530\n"
     ]
    },
    {
     "name": "stderr",
     "output_type": "stream",
     "text": [
      " 51%|█████     | 255/498 [1:19:33<1:14:44, 18.45s/it]"
     ]
    },
    {
     "name": "stdout",
     "output_type": "stream",
     "text": [
      "Data download stopped at page 8 for site 8024\n"
     ]
    },
    {
     "name": "stderr",
     "output_type": "stream",
     "text": [
      " 51%|█████▏    | 256/498 [1:19:52<1:15:17, 18.67s/it]"
     ]
    },
    {
     "name": "stdout",
     "output_type": "stream",
     "text": [
      "Data download stopped at page 8 for site 8026\n"
     ]
    },
    {
     "name": "stderr",
     "output_type": "stream",
     "text": [
      " 52%|█████▏    | 257/498 [1:20:10<1:14:47, 18.62s/it]"
     ]
    },
    {
     "name": "stdout",
     "output_type": "stream",
     "text": [
      "Data download stopped at page 7 for site 5441\n"
     ]
    },
    {
     "name": "stderr",
     "output_type": "stream",
     "text": [
      " 52%|█████▏    | 258/498 [1:20:28<1:13:59, 18.50s/it]"
     ]
    },
    {
     "name": "stdout",
     "output_type": "stream",
     "text": [
      "Data download stopped at page 7 for site 1372\n"
     ]
    },
    {
     "name": "stderr",
     "output_type": "stream",
     "text": [
      " 52%|█████▏    | 259/498 [1:20:48<1:15:13, 18.88s/it]"
     ]
    },
    {
     "name": "stdout",
     "output_type": "stream",
     "text": [
      "Data download stopped at page 8 for site 7922\n"
     ]
    },
    {
     "name": "stderr",
     "output_type": "stream",
     "text": [
      " 52%|█████▏    | 260/498 [1:21:07<1:14:17, 18.73s/it]"
     ]
    },
    {
     "name": "stdout",
     "output_type": "stream",
     "text": [
      "Data download stopped at page 7 for site 5621\n"
     ]
    },
    {
     "name": "stderr",
     "output_type": "stream",
     "text": [
      " 52%|█████▏    | 261/498 [1:21:26<1:14:27, 18.85s/it]"
     ]
    },
    {
     "name": "stdout",
     "output_type": "stream",
     "text": [
      "Data download stopped at page 8 for site 8048\n"
     ]
    },
    {
     "name": "stderr",
     "output_type": "stream",
     "text": [
      " 53%|█████▎    | 262/498 [1:21:45<1:14:31, 18.95s/it]"
     ]
    },
    {
     "name": "stdout",
     "output_type": "stream",
     "text": [
      "Data download stopped at page 8 for site 8044\n"
     ]
    },
    {
     "name": "stderr",
     "output_type": "stream",
     "text": [
      " 53%|█████▎    | 263/498 [1:22:04<1:14:33, 19.03s/it]"
     ]
    },
    {
     "name": "stdout",
     "output_type": "stream",
     "text": [
      "Data download stopped at page 8 for site 7998\n"
     ]
    },
    {
     "name": "stderr",
     "output_type": "stream",
     "text": [
      " 53%|█████▎    | 264/498 [1:22:24<1:14:48, 19.18s/it]"
     ]
    },
    {
     "name": "stdout",
     "output_type": "stream",
     "text": [
      "Data download stopped at page 8 for site 7997\n"
     ]
    },
    {
     "name": "stderr",
     "output_type": "stream",
     "text": [
      " 53%|█████▎    | 265/498 [1:22:42<1:13:20, 18.89s/it]"
     ]
    },
    {
     "name": "stdout",
     "output_type": "stream",
     "text": [
      "Data download stopped at page 7 for site 1744\n"
     ]
    },
    {
     "name": "stderr",
     "output_type": "stream",
     "text": [
      " 53%|█████▎    | 266/498 [1:23:01<1:13:05, 18.90s/it]"
     ]
    },
    {
     "name": "stdout",
     "output_type": "stream",
     "text": [
      "Data download stopped at page 7 for site 3388\n"
     ]
    },
    {
     "name": "stderr",
     "output_type": "stream",
     "text": [
      " 54%|█████▎    | 267/498 [1:23:19<1:11:34, 18.59s/it]"
     ]
    },
    {
     "name": "stdout",
     "output_type": "stream",
     "text": [
      "Data download stopped at page 7 for site 4480\n"
     ]
    },
    {
     "name": "stderr",
     "output_type": "stream",
     "text": [
      " 54%|█████▍    | 268/498 [1:23:38<1:12:26, 18.90s/it]"
     ]
    },
    {
     "name": "stdout",
     "output_type": "stream",
     "text": [
      "Data download stopped at page 8 for site 7983\n"
     ]
    },
    {
     "name": "stderr",
     "output_type": "stream",
     "text": [
      "C:\\Users\\yueli\\AppData\\Local\\Temp\\ipykernel_24428\\919805980.py:37: RuntimeWarning: Mean of empty slice\n",
      "  'Avg mph': lambda x: np.nanmean(x.astype(float)),\n",
      "C:\\Users\\yueli\\AppData\\Local\\Temp\\ipykernel_24428\\919805980.py:37: RuntimeWarning: Mean of empty slice\n",
      "  'Avg mph': lambda x: np.nanmean(x.astype(float)),\n",
      "C:\\Users\\yueli\\AppData\\Local\\Temp\\ipykernel_24428\\919805980.py:37: RuntimeWarning: Mean of empty slice\n",
      "  'Avg mph': lambda x: np.nanmean(x.astype(float)),\n",
      "C:\\Users\\yueli\\AppData\\Local\\Temp\\ipykernel_24428\\919805980.py:37: RuntimeWarning: Mean of empty slice\n",
      "  'Avg mph': lambda x: np.nanmean(x.astype(float)),\n",
      "C:\\Users\\yueli\\AppData\\Local\\Temp\\ipykernel_24428\\919805980.py:38: RuntimeWarning: Mean of empty slice\n",
      "  'Total Volume': lambda x: np.nanmean(x.astype(float)),\n",
      "C:\\Users\\yueli\\AppData\\Local\\Temp\\ipykernel_24428\\919805980.py:38: RuntimeWarning: Mean of empty slice\n",
      "  'Total Volume': lambda x: np.nanmean(x.astype(float)),\n",
      "C:\\Users\\yueli\\AppData\\Local\\Temp\\ipykernel_24428\\919805980.py:38: RuntimeWarning: Mean of empty slice\n",
      "  'Total Volume': lambda x: np.nanmean(x.astype(float)),\n",
      "C:\\Users\\yueli\\AppData\\Local\\Temp\\ipykernel_24428\\919805980.py:38: RuntimeWarning: Mean of empty slice\n",
      "  'Total Volume': lambda x: np.nanmean(x.astype(float)),\n",
      " 54%|█████▍    | 269/498 [1:23:57<1:11:43, 18.79s/it]"
     ]
    },
    {
     "name": "stdout",
     "output_type": "stream",
     "text": [
      "Data download stopped at page 8 for site 7968\n"
     ]
    },
    {
     "name": "stderr",
     "output_type": "stream",
     "text": [
      " 54%|█████▍    | 270/498 [1:24:17<1:12:36, 19.11s/it]"
     ]
    },
    {
     "name": "stdout",
     "output_type": "stream",
     "text": [
      "Data download stopped at page 8 for site 7970\n"
     ]
    },
    {
     "name": "stderr",
     "output_type": "stream",
     "text": [
      " 54%|█████▍    | 271/498 [1:24:36<1:12:40, 19.21s/it]"
     ]
    },
    {
     "name": "stdout",
     "output_type": "stream",
     "text": [
      "Data download stopped at page 8 for site 7940\n"
     ]
    },
    {
     "name": "stderr",
     "output_type": "stream",
     "text": [
      " 55%|█████▍    | 272/498 [1:25:01<1:18:29, 20.84s/it]"
     ]
    },
    {
     "name": "stdout",
     "output_type": "stream",
     "text": [
      "Data download stopped at page 8 for site 7942\n"
     ]
    },
    {
     "name": "stderr",
     "output_type": "stream",
     "text": [
      " 55%|█████▍    | 273/498 [1:25:21<1:17:23, 20.64s/it]"
     ]
    },
    {
     "name": "stdout",
     "output_type": "stream",
     "text": [
      "Data download stopped at page 8 for site 9459\n"
     ]
    },
    {
     "name": "stderr",
     "output_type": "stream",
     "text": [
      " 55%|█████▌    | 274/498 [1:25:41<1:15:53, 20.33s/it]"
     ]
    },
    {
     "name": "stdout",
     "output_type": "stream",
     "text": [
      "Data download stopped at page 8 for site 9407\n"
     ]
    },
    {
     "name": "stderr",
     "output_type": "stream",
     "text": [
      " 55%|█████▌    | 275/498 [1:26:01<1:15:40, 20.36s/it]"
     ]
    },
    {
     "name": "stdout",
     "output_type": "stream",
     "text": [
      "Data download stopped at page 8 for site 8074\n"
     ]
    },
    {
     "name": "stderr",
     "output_type": "stream",
     "text": [
      " 55%|█████▌    | 276/498 [1:26:21<1:15:16, 20.35s/it]"
     ]
    },
    {
     "name": "stdout",
     "output_type": "stream",
     "text": [
      "Data download stopped at page 8 for site 8075\n"
     ]
    },
    {
     "name": "stderr",
     "output_type": "stream",
     "text": [
      " 56%|█████▌    | 277/498 [1:26:41<1:14:31, 20.23s/it]"
     ]
    },
    {
     "name": "stdout",
     "output_type": "stream",
     "text": [
      "Data download stopped at page 8 for site 7988\n"
     ]
    },
    {
     "name": "stderr",
     "output_type": "stream",
     "text": [
      " 56%|█████▌    | 278/498 [1:27:00<1:13:00, 19.91s/it]"
     ]
    },
    {
     "name": "stdout",
     "output_type": "stream",
     "text": [
      "Data download stopped at page 8 for site 7989\n"
     ]
    },
    {
     "name": "stderr",
     "output_type": "stream",
     "text": [
      " 56%|█████▌    | 279/498 [1:27:20<1:12:36, 19.89s/it]"
     ]
    },
    {
     "name": "stdout",
     "output_type": "stream",
     "text": [
      "Data download stopped at page 8 for site 8072\n"
     ]
    },
    {
     "name": "stderr",
     "output_type": "stream",
     "text": [
      " 56%|█████▌    | 280/498 [1:27:40<1:12:15, 19.89s/it]"
     ]
    },
    {
     "name": "stdout",
     "output_type": "stream",
     "text": [
      "Data download stopped at page 8 for site 8073\n"
     ]
    },
    {
     "name": "stderr",
     "output_type": "stream",
     "text": [
      " 56%|█████▋    | 281/498 [1:27:58<1:09:40, 19.26s/it]"
     ]
    },
    {
     "name": "stdout",
     "output_type": "stream",
     "text": [
      "Data download stopped at page 7 for site 4236\n"
     ]
    },
    {
     "name": "stderr",
     "output_type": "stream",
     "text": [
      " 57%|█████▋    | 282/498 [1:28:16<1:08:17, 18.97s/it]"
     ]
    },
    {
     "name": "stdout",
     "output_type": "stream",
     "text": [
      "Data download stopped at page 7 for site 95\n"
     ]
    },
    {
     "name": "stderr",
     "output_type": "stream",
     "text": [
      " 57%|█████▋    | 283/498 [1:28:34<1:06:42, 18.62s/it]"
     ]
    },
    {
     "name": "stdout",
     "output_type": "stream",
     "text": [
      "Data download stopped at page 7 for site 18269\n"
     ]
    },
    {
     "name": "stderr",
     "output_type": "stream",
     "text": [
      " 57%|█████▋    | 284/498 [1:28:52<1:05:40, 18.41s/it]"
     ]
    },
    {
     "name": "stdout",
     "output_type": "stream",
     "text": [
      "Data download stopped at page 7 for site 18283\n"
     ]
    },
    {
     "name": "stderr",
     "output_type": "stream",
     "text": [
      " 57%|█████▋    | 285/498 [1:29:12<1:07:05, 18.90s/it]"
     ]
    },
    {
     "name": "stdout",
     "output_type": "stream",
     "text": [
      "Data download stopped at page 8 for site 9328\n"
     ]
    },
    {
     "name": "stderr",
     "output_type": "stream",
     "text": [
      " 57%|█████▋    | 286/498 [1:29:31<1:07:01, 18.97s/it]"
     ]
    },
    {
     "name": "stdout",
     "output_type": "stream",
     "text": [
      "Data download stopped at page 8 for site 9329\n"
     ]
    },
    {
     "name": "stderr",
     "output_type": "stream",
     "text": [
      " 58%|█████▊    | 287/498 [1:29:50<1:06:57, 19.04s/it]"
     ]
    },
    {
     "name": "stdout",
     "output_type": "stream",
     "text": [
      "Data download stopped at page 8 for site 9470\n"
     ]
    },
    {
     "name": "stderr",
     "output_type": "stream",
     "text": [
      " 58%|█████▊    | 288/498 [1:30:10<1:07:35, 19.31s/it]"
     ]
    },
    {
     "name": "stdout",
     "output_type": "stream",
     "text": [
      "Data download stopped at page 8 for site 9472\n"
     ]
    },
    {
     "name": "stderr",
     "output_type": "stream",
     "text": [
      " 58%|█████▊    | 289/498 [1:30:30<1:07:43, 19.44s/it]"
     ]
    },
    {
     "name": "stdout",
     "output_type": "stream",
     "text": [
      "Data download stopped at page 8 for site 8105\n"
     ]
    },
    {
     "name": "stderr",
     "output_type": "stream",
     "text": [
      "C:\\Users\\yueli\\AppData\\Local\\Temp\\ipykernel_24428\\919805980.py:37: RuntimeWarning: Mean of empty slice\n",
      "  'Avg mph': lambda x: np.nanmean(x.astype(float)),\n",
      "C:\\Users\\yueli\\AppData\\Local\\Temp\\ipykernel_24428\\919805980.py:37: RuntimeWarning: Mean of empty slice\n",
      "  'Avg mph': lambda x: np.nanmean(x.astype(float)),\n",
      "C:\\Users\\yueli\\AppData\\Local\\Temp\\ipykernel_24428\\919805980.py:37: RuntimeWarning: Mean of empty slice\n",
      "  'Avg mph': lambda x: np.nanmean(x.astype(float)),\n",
      "C:\\Users\\yueli\\AppData\\Local\\Temp\\ipykernel_24428\\919805980.py:37: RuntimeWarning: Mean of empty slice\n",
      "  'Avg mph': lambda x: np.nanmean(x.astype(float)),\n",
      "C:\\Users\\yueli\\AppData\\Local\\Temp\\ipykernel_24428\\919805980.py:38: RuntimeWarning: Mean of empty slice\n",
      "  'Total Volume': lambda x: np.nanmean(x.astype(float)),\n",
      "C:\\Users\\yueli\\AppData\\Local\\Temp\\ipykernel_24428\\919805980.py:38: RuntimeWarning: Mean of empty slice\n",
      "  'Total Volume': lambda x: np.nanmean(x.astype(float)),\n",
      "C:\\Users\\yueli\\AppData\\Local\\Temp\\ipykernel_24428\\919805980.py:38: RuntimeWarning: Mean of empty slice\n",
      "  'Total Volume': lambda x: np.nanmean(x.astype(float)),\n",
      "C:\\Users\\yueli\\AppData\\Local\\Temp\\ipykernel_24428\\919805980.py:38: RuntimeWarning: Mean of empty slice\n",
      "  'Total Volume': lambda x: np.nanmean(x.astype(float)),\n",
      " 58%|█████▊    | 290/498 [1:30:49<1:06:32, 19.20s/it]"
     ]
    },
    {
     "name": "stdout",
     "output_type": "stream",
     "text": [
      "Data download stopped at page 8 for site 8104\n"
     ]
    },
    {
     "name": "stderr",
     "output_type": "stream",
     "text": [
      "C:\\Users\\yueli\\AppData\\Local\\Temp\\ipykernel_24428\\919805980.py:37: RuntimeWarning: Mean of empty slice\n",
      "  'Avg mph': lambda x: np.nanmean(x.astype(float)),\n",
      "C:\\Users\\yueli\\AppData\\Local\\Temp\\ipykernel_24428\\919805980.py:37: RuntimeWarning: Mean of empty slice\n",
      "  'Avg mph': lambda x: np.nanmean(x.astype(float)),\n",
      "C:\\Users\\yueli\\AppData\\Local\\Temp\\ipykernel_24428\\919805980.py:37: RuntimeWarning: Mean of empty slice\n",
      "  'Avg mph': lambda x: np.nanmean(x.astype(float)),\n",
      "C:\\Users\\yueli\\AppData\\Local\\Temp\\ipykernel_24428\\919805980.py:37: RuntimeWarning: Mean of empty slice\n",
      "  'Avg mph': lambda x: np.nanmean(x.astype(float)),\n",
      "C:\\Users\\yueli\\AppData\\Local\\Temp\\ipykernel_24428\\919805980.py:38: RuntimeWarning: Mean of empty slice\n",
      "  'Total Volume': lambda x: np.nanmean(x.astype(float)),\n",
      "C:\\Users\\yueli\\AppData\\Local\\Temp\\ipykernel_24428\\919805980.py:38: RuntimeWarning: Mean of empty slice\n",
      "  'Total Volume': lambda x: np.nanmean(x.astype(float)),\n",
      "C:\\Users\\yueli\\AppData\\Local\\Temp\\ipykernel_24428\\919805980.py:38: RuntimeWarning: Mean of empty slice\n",
      "  'Total Volume': lambda x: np.nanmean(x.astype(float)),\n",
      "C:\\Users\\yueli\\AppData\\Local\\Temp\\ipykernel_24428\\919805980.py:38: RuntimeWarning: Mean of empty slice\n",
      "  'Total Volume': lambda x: np.nanmean(x.astype(float)),\n",
      " 58%|█████▊    | 291/498 [1:31:08<1:06:46, 19.36s/it]"
     ]
    },
    {
     "name": "stdout",
     "output_type": "stream",
     "text": [
      "Data download stopped at page 8 for site 8120\n"
     ]
    },
    {
     "name": "stderr",
     "output_type": "stream",
     "text": [
      " 59%|█████▊    | 292/498 [1:31:29<1:07:15, 19.59s/it]"
     ]
    },
    {
     "name": "stdout",
     "output_type": "stream",
     "text": [
      "Data download stopped at page 8 for site 8116\n"
     ]
    },
    {
     "name": "stderr",
     "output_type": "stream",
     "text": [
      " 59%|█████▉    | 293/498 [1:31:48<1:06:24, 19.44s/it]"
     ]
    },
    {
     "name": "stdout",
     "output_type": "stream",
     "text": [
      "Data download stopped at page 8 for site 9590\n"
     ]
    },
    {
     "name": "stderr",
     "output_type": "stream",
     "text": [
      " 59%|█████▉    | 294/498 [1:32:07<1:06:00, 19.42s/it]"
     ]
    },
    {
     "name": "stdout",
     "output_type": "stream",
     "text": [
      "Data download stopped at page 8 for site 8153\n"
     ]
    },
    {
     "name": "stderr",
     "output_type": "stream",
     "text": [
      " 59%|█████▉    | 295/498 [1:32:26<1:05:34, 19.38s/it]"
     ]
    },
    {
     "name": "stdout",
     "output_type": "stream",
     "text": [
      "Data download stopped at page 8 for site 8167\n"
     ]
    },
    {
     "name": "stderr",
     "output_type": "stream",
     "text": [
      " 59%|█████▉    | 296/498 [1:32:46<1:06:03, 19.62s/it]"
     ]
    },
    {
     "name": "stdout",
     "output_type": "stream",
     "text": [
      "Data download stopped at page 8 for site 8168\n"
     ]
    },
    {
     "name": "stderr",
     "output_type": "stream",
     "text": [
      " 60%|█████▉    | 297/498 [1:33:06<1:05:50, 19.65s/it]"
     ]
    },
    {
     "name": "stdout",
     "output_type": "stream",
     "text": [
      "Data download stopped at page 8 for site 9374\n"
     ]
    },
    {
     "name": "stderr",
     "output_type": "stream",
     "text": [
      " 60%|█████▉    | 298/498 [1:33:28<1:07:16, 20.18s/it]"
     ]
    },
    {
     "name": "stdout",
     "output_type": "stream",
     "text": [
      "Data download stopped at page 8 for site 9375\n"
     ]
    },
    {
     "name": "stderr",
     "output_type": "stream",
     "text": [
      " 60%|██████    | 299/498 [1:33:47<1:06:11, 19.96s/it]"
     ]
    },
    {
     "name": "stdout",
     "output_type": "stream",
     "text": [
      "Data download stopped at page 8 for site 8136\n"
     ]
    },
    {
     "name": "stderr",
     "output_type": "stream",
     "text": [
      " 60%|██████    | 300/498 [1:34:06<1:05:20, 19.80s/it]"
     ]
    },
    {
     "name": "stdout",
     "output_type": "stream",
     "text": [
      "Data download stopped at page 8 for site 8137\n"
     ]
    },
    {
     "name": "stderr",
     "output_type": "stream",
     "text": [
      " 60%|██████    | 301/498 [1:34:25<1:03:26, 19.32s/it]"
     ]
    },
    {
     "name": "stdout",
     "output_type": "stream",
     "text": [
      "Data download stopped at page 7 for site 4281\n"
     ]
    },
    {
     "name": "stderr",
     "output_type": "stream",
     "text": [
      " 61%|██████    | 302/498 [1:34:42<1:01:35, 18.85s/it]"
     ]
    },
    {
     "name": "stdout",
     "output_type": "stream",
     "text": [
      "Data download stopped at page 7 for site 4235\n"
     ]
    },
    {
     "name": "stderr",
     "output_type": "stream",
     "text": [
      " 61%|██████    | 303/498 [1:35:00<1:00:08, 18.50s/it]"
     ]
    },
    {
     "name": "stdout",
     "output_type": "stream",
     "text": [
      "Data download stopped at page 7 for site 1242\n"
     ]
    },
    {
     "name": "stderr",
     "output_type": "stream",
     "text": [
      " 61%|██████    | 304/498 [1:35:19<1:00:22, 18.67s/it]"
     ]
    },
    {
     "name": "stdout",
     "output_type": "stream",
     "text": [
      "Data download stopped at page 7 for site 5986\n"
     ]
    },
    {
     "name": "stderr",
     "output_type": "stream",
     "text": [
      " 61%|██████    | 305/498 [1:35:38<1:00:08, 18.69s/it]"
     ]
    },
    {
     "name": "stdout",
     "output_type": "stream",
     "text": [
      "Data download stopped at page 7 for site 10501\n"
     ]
    },
    {
     "name": "stderr",
     "output_type": "stream",
     "text": [
      " 61%|██████▏   | 306/498 [1:35:56<59:10, 18.49s/it]  "
     ]
    },
    {
     "name": "stdout",
     "output_type": "stream",
     "text": [
      "Data download stopped at page 7 for site 10566\n"
     ]
    },
    {
     "name": "stderr",
     "output_type": "stream",
     "text": [
      " 62%|██████▏   | 307/498 [1:36:15<59:02, 18.55s/it]"
     ]
    },
    {
     "name": "stdout",
     "output_type": "stream",
     "text": [
      "Data download stopped at page 7 for site 3004\n"
     ]
    },
    {
     "name": "stderr",
     "output_type": "stream",
     "text": [
      " 62%|██████▏   | 308/498 [1:36:33<58:17, 18.41s/it]"
     ]
    },
    {
     "name": "stdout",
     "output_type": "stream",
     "text": [
      "Data download stopped at page 7 for site 3352\n"
     ]
    },
    {
     "name": "stderr",
     "output_type": "stream",
     "text": [
      " 62%|██████▏   | 309/498 [1:36:52<58:22, 18.53s/it]"
     ]
    },
    {
     "name": "stdout",
     "output_type": "stream",
     "text": [
      "Data download stopped at page 7 for site 5119\n"
     ]
    },
    {
     "name": "stderr",
     "output_type": "stream",
     "text": [
      " 62%|██████▏   | 310/498 [1:37:10<57:40, 18.41s/it]"
     ]
    },
    {
     "name": "stdout",
     "output_type": "stream",
     "text": [
      "Data download stopped at page 7 for site 25\n"
     ]
    },
    {
     "name": "stderr",
     "output_type": "stream",
     "text": [
      " 62%|██████▏   | 311/498 [1:37:28<57:10, 18.34s/it]"
     ]
    },
    {
     "name": "stdout",
     "output_type": "stream",
     "text": [
      "Data download stopped at page 7 for site 1133\n"
     ]
    },
    {
     "name": "stderr",
     "output_type": "stream",
     "text": [
      " 63%|██████▎   | 312/498 [1:37:46<56:46, 18.31s/it]"
     ]
    },
    {
     "name": "stdout",
     "output_type": "stream",
     "text": [
      "Data download stopped at page 7 for site 2944\n"
     ]
    },
    {
     "name": "stderr",
     "output_type": "stream",
     "text": [
      "C:\\Users\\yueli\\AppData\\Local\\Temp\\ipykernel_24428\\919805980.py:37: RuntimeWarning: Mean of empty slice\n",
      "  'Avg mph': lambda x: np.nanmean(x.astype(float)),\n",
      "C:\\Users\\yueli\\AppData\\Local\\Temp\\ipykernel_24428\\919805980.py:37: RuntimeWarning: Mean of empty slice\n",
      "  'Avg mph': lambda x: np.nanmean(x.astype(float)),\n",
      "C:\\Users\\yueli\\AppData\\Local\\Temp\\ipykernel_24428\\919805980.py:37: RuntimeWarning: Mean of empty slice\n",
      "  'Avg mph': lambda x: np.nanmean(x.astype(float)),\n",
      "C:\\Users\\yueli\\AppData\\Local\\Temp\\ipykernel_24428\\919805980.py:37: RuntimeWarning: Mean of empty slice\n",
      "  'Avg mph': lambda x: np.nanmean(x.astype(float)),\n",
      "C:\\Users\\yueli\\AppData\\Local\\Temp\\ipykernel_24428\\919805980.py:38: RuntimeWarning: Mean of empty slice\n",
      "  'Total Volume': lambda x: np.nanmean(x.astype(float)),\n",
      "C:\\Users\\yueli\\AppData\\Local\\Temp\\ipykernel_24428\\919805980.py:38: RuntimeWarning: Mean of empty slice\n",
      "  'Total Volume': lambda x: np.nanmean(x.astype(float)),\n",
      "C:\\Users\\yueli\\AppData\\Local\\Temp\\ipykernel_24428\\919805980.py:38: RuntimeWarning: Mean of empty slice\n",
      "  'Total Volume': lambda x: np.nanmean(x.astype(float)),\n",
      "C:\\Users\\yueli\\AppData\\Local\\Temp\\ipykernel_24428\\919805980.py:38: RuntimeWarning: Mean of empty slice\n",
      "  'Total Volume': lambda x: np.nanmean(x.astype(float)),\n",
      " 63%|██████▎   | 313/498 [1:38:04<56:18, 18.26s/it]"
     ]
    },
    {
     "name": "stdout",
     "output_type": "stream",
     "text": [
      "Data download stopped at page 7 for site 110\n"
     ]
    },
    {
     "name": "stderr",
     "output_type": "stream",
     "text": [
      " 63%|██████▎   | 314/498 [1:38:23<55:59, 18.26s/it]"
     ]
    },
    {
     "name": "stdout",
     "output_type": "stream",
     "text": [
      "Data download stopped at page 7 for site 236\n"
     ]
    },
    {
     "name": "stderr",
     "output_type": "stream",
     "text": [
      " 63%|██████▎   | 315/498 [1:38:40<55:06, 18.07s/it]"
     ]
    },
    {
     "name": "stdout",
     "output_type": "stream",
     "text": [
      "Data download stopped at page 7 for site 5399\n"
     ]
    },
    {
     "name": "stderr",
     "output_type": "stream",
     "text": [
      " 63%|██████▎   | 316/498 [1:38:59<55:22, 18.26s/it]"
     ]
    },
    {
     "name": "stdout",
     "output_type": "stream",
     "text": [
      "Data download stopped at page 7 for site 279\n"
     ]
    },
    {
     "name": "stderr",
     "output_type": "stream",
     "text": [
      " 64%|██████▎   | 317/498 [1:39:19<56:23, 18.69s/it]"
     ]
    },
    {
     "name": "stdout",
     "output_type": "stream",
     "text": [
      "Data download stopped at page 8 for site 9360\n"
     ]
    },
    {
     "name": "stderr",
     "output_type": "stream",
     "text": [
      " 64%|██████▍   | 318/498 [1:39:38<56:44, 18.92s/it]"
     ]
    },
    {
     "name": "stdout",
     "output_type": "stream",
     "text": [
      "Data download stopped at page 8 for site 9361\n"
     ]
    },
    {
     "name": "stderr",
     "output_type": "stream",
     "text": [
      " 64%|██████▍   | 319/498 [1:39:57<56:51, 19.06s/it]"
     ]
    },
    {
     "name": "stdout",
     "output_type": "stream",
     "text": [
      "Data download stopped at page 8 for site 9363\n"
     ]
    },
    {
     "name": "stderr",
     "output_type": "stream",
     "text": [
      " 64%|██████▍   | 320/498 [1:40:17<57:24, 19.35s/it]"
     ]
    },
    {
     "name": "stdout",
     "output_type": "stream",
     "text": [
      "Data download stopped at page 8 for site 9362\n"
     ]
    },
    {
     "name": "stderr",
     "output_type": "stream",
     "text": [
      " 64%|██████▍   | 321/498 [1:40:36<55:58, 18.97s/it]"
     ]
    },
    {
     "name": "stdout",
     "output_type": "stream",
     "text": [
      "Data download stopped at page 7 for site 18508\n"
     ]
    },
    {
     "name": "stderr",
     "output_type": "stream",
     "text": [
      " 65%|██████▍   | 322/498 [1:40:53<54:33, 18.60s/it]"
     ]
    },
    {
     "name": "stdout",
     "output_type": "stream",
     "text": [
      "Data download stopped at page 7 for site 18475\n"
     ]
    },
    {
     "name": "stderr",
     "output_type": "stream",
     "text": [
      " 65%|██████▍   | 323/498 [1:41:12<54:43, 18.76s/it]"
     ]
    },
    {
     "name": "stdout",
     "output_type": "stream",
     "text": [
      "Data download stopped at page 8 for site 7450\n"
     ]
    },
    {
     "name": "stderr",
     "output_type": "stream",
     "text": [
      " 65%|██████▌   | 324/498 [1:41:30<53:42, 18.52s/it]"
     ]
    },
    {
     "name": "stdout",
     "output_type": "stream",
     "text": [
      "Data download stopped at page 7 for site 2086\n"
     ]
    },
    {
     "name": "stderr",
     "output_type": "stream",
     "text": [
      " 65%|██████▌   | 325/498 [1:41:49<53:11, 18.45s/it]"
     ]
    },
    {
     "name": "stdout",
     "output_type": "stream",
     "text": [
      "Data download stopped at page 7 for site 1367\n",
      "9991367 changed to1367.\n"
     ]
    },
    {
     "name": "stderr",
     "output_type": "stream",
     "text": [
      " 65%|██████▌   | 326/498 [1:42:06<52:23, 18.28s/it]"
     ]
    },
    {
     "name": "stdout",
     "output_type": "stream",
     "text": [
      "Data download stopped at page 7 for site 1367\n"
     ]
    },
    {
     "name": "stderr",
     "output_type": "stream",
     "text": [
      "C:\\Users\\yueli\\AppData\\Local\\Temp\\ipykernel_24428\\919805980.py:37: RuntimeWarning: Mean of empty slice\n",
      "  'Avg mph': lambda x: np.nanmean(x.astype(float)),\n",
      "C:\\Users\\yueli\\AppData\\Local\\Temp\\ipykernel_24428\\919805980.py:37: RuntimeWarning: Mean of empty slice\n",
      "  'Avg mph': lambda x: np.nanmean(x.astype(float)),\n",
      "C:\\Users\\yueli\\AppData\\Local\\Temp\\ipykernel_24428\\919805980.py:37: RuntimeWarning: Mean of empty slice\n",
      "  'Avg mph': lambda x: np.nanmean(x.astype(float)),\n",
      "C:\\Users\\yueli\\AppData\\Local\\Temp\\ipykernel_24428\\919805980.py:37: RuntimeWarning: Mean of empty slice\n",
      "  'Avg mph': lambda x: np.nanmean(x.astype(float)),\n",
      "C:\\Users\\yueli\\AppData\\Local\\Temp\\ipykernel_24428\\919805980.py:38: RuntimeWarning: Mean of empty slice\n",
      "  'Total Volume': lambda x: np.nanmean(x.astype(float)),\n",
      "C:\\Users\\yueli\\AppData\\Local\\Temp\\ipykernel_24428\\919805980.py:38: RuntimeWarning: Mean of empty slice\n",
      "  'Total Volume': lambda x: np.nanmean(x.astype(float)),\n",
      "C:\\Users\\yueli\\AppData\\Local\\Temp\\ipykernel_24428\\919805980.py:38: RuntimeWarning: Mean of empty slice\n",
      "  'Total Volume': lambda x: np.nanmean(x.astype(float)),\n",
      "C:\\Users\\yueli\\AppData\\Local\\Temp\\ipykernel_24428\\919805980.py:38: RuntimeWarning: Mean of empty slice\n",
      "  'Total Volume': lambda x: np.nanmean(x.astype(float)),\n",
      " 66%|██████▌   | 327/498 [1:42:23<50:41, 17.79s/it]"
     ]
    },
    {
     "name": "stdout",
     "output_type": "stream",
     "text": [
      "Data download stopped at page 7 for site 3267\n"
     ]
    },
    {
     "name": "stderr",
     "output_type": "stream",
     "text": [
      "C:\\Users\\yueli\\AppData\\Local\\Temp\\ipykernel_24428\\919805980.py:37: RuntimeWarning: Mean of empty slice\n",
      "  'Avg mph': lambda x: np.nanmean(x.astype(float)),\n",
      "C:\\Users\\yueli\\AppData\\Local\\Temp\\ipykernel_24428\\919805980.py:37: RuntimeWarning: Mean of empty slice\n",
      "  'Avg mph': lambda x: np.nanmean(x.astype(float)),\n",
      "C:\\Users\\yueli\\AppData\\Local\\Temp\\ipykernel_24428\\919805980.py:37: RuntimeWarning: Mean of empty slice\n",
      "  'Avg mph': lambda x: np.nanmean(x.astype(float)),\n",
      "C:\\Users\\yueli\\AppData\\Local\\Temp\\ipykernel_24428\\919805980.py:37: RuntimeWarning: Mean of empty slice\n",
      "  'Avg mph': lambda x: np.nanmean(x.astype(float)),\n",
      "C:\\Users\\yueli\\AppData\\Local\\Temp\\ipykernel_24428\\919805980.py:38: RuntimeWarning: Mean of empty slice\n",
      "  'Total Volume': lambda x: np.nanmean(x.astype(float)),\n",
      "C:\\Users\\yueli\\AppData\\Local\\Temp\\ipykernel_24428\\919805980.py:38: RuntimeWarning: Mean of empty slice\n",
      "  'Total Volume': lambda x: np.nanmean(x.astype(float)),\n",
      "C:\\Users\\yueli\\AppData\\Local\\Temp\\ipykernel_24428\\919805980.py:38: RuntimeWarning: Mean of empty slice\n",
      "  'Total Volume': lambda x: np.nanmean(x.astype(float)),\n",
      "C:\\Users\\yueli\\AppData\\Local\\Temp\\ipykernel_24428\\919805980.py:38: RuntimeWarning: Mean of empty slice\n",
      "  'Total Volume': lambda x: np.nanmean(x.astype(float)),\n",
      " 66%|██████▌   | 328/498 [1:42:40<49:49, 17.59s/it]"
     ]
    },
    {
     "name": "stdout",
     "output_type": "stream",
     "text": [
      "Data download stopped at page 7 for site 3434\n"
     ]
    },
    {
     "name": "stderr",
     "output_type": "stream",
     "text": [
      " 66%|██████▌   | 329/498 [1:42:59<50:26, 17.91s/it]"
     ]
    },
    {
     "name": "stdout",
     "output_type": "stream",
     "text": [
      "Data download stopped at page 7 for site 1542\n"
     ]
    },
    {
     "name": "stderr",
     "output_type": "stream",
     "text": [
      " 66%|██████▋   | 330/498 [1:43:17<50:04, 17.88s/it]"
     ]
    },
    {
     "name": "stdout",
     "output_type": "stream",
     "text": [
      "Data download stopped at page 7 for site 1154\n"
     ]
    },
    {
     "name": "stderr",
     "output_type": "stream",
     "text": [
      "C:\\Users\\yueli\\AppData\\Local\\Temp\\ipykernel_24428\\919805980.py:37: RuntimeWarning: Mean of empty slice\n",
      "  'Avg mph': lambda x: np.nanmean(x.astype(float)),\n",
      "C:\\Users\\yueli\\AppData\\Local\\Temp\\ipykernel_24428\\919805980.py:37: RuntimeWarning: Mean of empty slice\n",
      "  'Avg mph': lambda x: np.nanmean(x.astype(float)),\n",
      "C:\\Users\\yueli\\AppData\\Local\\Temp\\ipykernel_24428\\919805980.py:37: RuntimeWarning: Mean of empty slice\n",
      "  'Avg mph': lambda x: np.nanmean(x.astype(float)),\n",
      "C:\\Users\\yueli\\AppData\\Local\\Temp\\ipykernel_24428\\919805980.py:37: RuntimeWarning: Mean of empty slice\n",
      "  'Avg mph': lambda x: np.nanmean(x.astype(float)),\n",
      "C:\\Users\\yueli\\AppData\\Local\\Temp\\ipykernel_24428\\919805980.py:38: RuntimeWarning: Mean of empty slice\n",
      "  'Total Volume': lambda x: np.nanmean(x.astype(float)),\n",
      "C:\\Users\\yueli\\AppData\\Local\\Temp\\ipykernel_24428\\919805980.py:38: RuntimeWarning: Mean of empty slice\n",
      "  'Total Volume': lambda x: np.nanmean(x.astype(float)),\n",
      "C:\\Users\\yueli\\AppData\\Local\\Temp\\ipykernel_24428\\919805980.py:38: RuntimeWarning: Mean of empty slice\n",
      "  'Total Volume': lambda x: np.nanmean(x.astype(float)),\n",
      "C:\\Users\\yueli\\AppData\\Local\\Temp\\ipykernel_24428\\919805980.py:38: RuntimeWarning: Mean of empty slice\n",
      "  'Total Volume': lambda x: np.nanmean(x.astype(float)),\n",
      " 66%|██████▋   | 331/498 [1:43:34<49:28, 17.78s/it]"
     ]
    },
    {
     "name": "stdout",
     "output_type": "stream",
     "text": [
      "Data download stopped at page 7 for site 2646\n"
     ]
    },
    {
     "name": "stderr",
     "output_type": "stream",
     "text": [
      "C:\\Users\\yueli\\AppData\\Local\\Temp\\ipykernel_24428\\919805980.py:37: RuntimeWarning: Mean of empty slice\n",
      "  'Avg mph': lambda x: np.nanmean(x.astype(float)),\n",
      "C:\\Users\\yueli\\AppData\\Local\\Temp\\ipykernel_24428\\919805980.py:37: RuntimeWarning: Mean of empty slice\n",
      "  'Avg mph': lambda x: np.nanmean(x.astype(float)),\n",
      "C:\\Users\\yueli\\AppData\\Local\\Temp\\ipykernel_24428\\919805980.py:37: RuntimeWarning: Mean of empty slice\n",
      "  'Avg mph': lambda x: np.nanmean(x.astype(float)),\n",
      "C:\\Users\\yueli\\AppData\\Local\\Temp\\ipykernel_24428\\919805980.py:37: RuntimeWarning: Mean of empty slice\n",
      "  'Avg mph': lambda x: np.nanmean(x.astype(float)),\n",
      "C:\\Users\\yueli\\AppData\\Local\\Temp\\ipykernel_24428\\919805980.py:38: RuntimeWarning: Mean of empty slice\n",
      "  'Total Volume': lambda x: np.nanmean(x.astype(float)),\n",
      "C:\\Users\\yueli\\AppData\\Local\\Temp\\ipykernel_24428\\919805980.py:38: RuntimeWarning: Mean of empty slice\n",
      "  'Total Volume': lambda x: np.nanmean(x.astype(float)),\n",
      "C:\\Users\\yueli\\AppData\\Local\\Temp\\ipykernel_24428\\919805980.py:38: RuntimeWarning: Mean of empty slice\n",
      "  'Total Volume': lambda x: np.nanmean(x.astype(float)),\n",
      "C:\\Users\\yueli\\AppData\\Local\\Temp\\ipykernel_24428\\919805980.py:38: RuntimeWarning: Mean of empty slice\n",
      "  'Total Volume': lambda x: np.nanmean(x.astype(float)),\n",
      " 67%|██████▋   | 332/498 [1:43:52<48:51, 17.66s/it]"
     ]
    },
    {
     "name": "stdout",
     "output_type": "stream",
     "text": [
      "Data download stopped at page 7 for site 1640\n"
     ]
    },
    {
     "name": "stderr",
     "output_type": "stream",
     "text": [
      " 67%|██████▋   | 333/498 [1:44:11<49:59, 18.18s/it]"
     ]
    },
    {
     "name": "stdout",
     "output_type": "stream",
     "text": [
      "Data download stopped at page 8 for site 7457\n"
     ]
    },
    {
     "name": "stderr",
     "output_type": "stream",
     "text": [
      " 67%|██████▋   | 334/498 [1:44:30<50:34, 18.50s/it]"
     ]
    },
    {
     "name": "stdout",
     "output_type": "stream",
     "text": [
      "Data download stopped at page 8 for site 7459\n"
     ]
    },
    {
     "name": "stderr",
     "output_type": "stream",
     "text": [
      " 67%|██████▋   | 335/498 [1:44:48<49:55, 18.38s/it]"
     ]
    },
    {
     "name": "stdout",
     "output_type": "stream",
     "text": [
      "Data download stopped at page 7 for site 214\n"
     ]
    },
    {
     "name": "stderr",
     "output_type": "stream",
     "text": [
      " 67%|██████▋   | 336/498 [1:45:06<49:17, 18.26s/it]"
     ]
    },
    {
     "name": "stdout",
     "output_type": "stream",
     "text": [
      "Data download stopped at page 7 for site 2504\n"
     ]
    },
    {
     "name": "stderr",
     "output_type": "stream",
     "text": [
      " 68%|██████▊   | 337/498 [1:45:26<49:52, 18.59s/it]"
     ]
    },
    {
     "name": "stdout",
     "output_type": "stream",
     "text": [
      "Data download stopped at page 8 for site 9562\n"
     ]
    },
    {
     "name": "stderr",
     "output_type": "stream",
     "text": [
      " 68%|██████▊   | 338/498 [1:45:45<50:10, 18.82s/it]"
     ]
    },
    {
     "name": "stdout",
     "output_type": "stream",
     "text": [
      "Data download stopped at page 8 for site 9563\n"
     ]
    },
    {
     "name": "stderr",
     "output_type": "stream",
     "text": [
      " 68%|██████▊   | 339/498 [1:46:04<50:05, 18.90s/it]"
     ]
    },
    {
     "name": "stdout",
     "output_type": "stream",
     "text": [
      "Data download stopped at page 8 for site 9577\n"
     ]
    },
    {
     "name": "stderr",
     "output_type": "stream",
     "text": [
      " 68%|██████▊   | 340/498 [1:46:24<50:42, 19.25s/it]"
     ]
    },
    {
     "name": "stdout",
     "output_type": "stream",
     "text": [
      "Data download stopped at page 8 for site 9576\n"
     ]
    },
    {
     "name": "stderr",
     "output_type": "stream",
     "text": [
      " 68%|██████▊   | 341/498 [1:46:43<49:38, 18.97s/it]"
     ]
    },
    {
     "name": "stdout",
     "output_type": "stream",
     "text": [
      "Data download stopped at page 7 for site 1414\n"
     ]
    },
    {
     "name": "stderr",
     "output_type": "stream",
     "text": [
      " 69%|██████▊   | 342/498 [1:47:00<48:16, 18.57s/it]"
     ]
    },
    {
     "name": "stdout",
     "output_type": "stream",
     "text": [
      "Data download stopped at page 7 for site 2576\n"
     ]
    },
    {
     "name": "stderr",
     "output_type": "stream",
     "text": [
      " 69%|██████▉   | 343/498 [1:47:19<48:00, 18.58s/it]"
     ]
    },
    {
     "name": "stdout",
     "output_type": "stream",
     "text": [
      "Data download stopped at page 7 for site 1119\n"
     ]
    },
    {
     "name": "stderr",
     "output_type": "stream",
     "text": [
      " 69%|██████▉   | 344/498 [1:47:37<47:09, 18.37s/it]"
     ]
    },
    {
     "name": "stdout",
     "output_type": "stream",
     "text": [
      "Data download stopped at page 7 for site 2818\n"
     ]
    },
    {
     "name": "stderr",
     "output_type": "stream",
     "text": [
      " 69%|██████▉   | 345/498 [1:47:57<48:10, 18.89s/it]"
     ]
    },
    {
     "name": "stdout",
     "output_type": "stream",
     "text": [
      "Data download stopped at page 8 for site 7245\n"
     ]
    },
    {
     "name": "stderr",
     "output_type": "stream",
     "text": [
      " 69%|██████▉   | 346/498 [1:48:17<48:36, 19.19s/it]"
     ]
    },
    {
     "name": "stdout",
     "output_type": "stream",
     "text": [
      "Data download stopped at page 8 for site 7243\n"
     ]
    },
    {
     "name": "stderr",
     "output_type": "stream",
     "text": [
      " 70%|██████▉   | 347/498 [1:48:35<47:51, 19.02s/it]"
     ]
    },
    {
     "name": "stdout",
     "output_type": "stream",
     "text": [
      "Data download stopped at page 7 for site 19004\n"
     ]
    },
    {
     "name": "stderr",
     "output_type": "stream",
     "text": [
      " 70%|██████▉   | 348/498 [1:48:53<46:44, 18.70s/it]"
     ]
    },
    {
     "name": "stdout",
     "output_type": "stream",
     "text": [
      "Data download stopped at page 7 for site 19051\n"
     ]
    },
    {
     "name": "stderr",
     "output_type": "stream",
     "text": [
      "C:\\Users\\yueli\\AppData\\Local\\Temp\\ipykernel_24428\\919805980.py:37: RuntimeWarning: Mean of empty slice\n",
      "  'Avg mph': lambda x: np.nanmean(x.astype(float)),\n",
      "C:\\Users\\yueli\\AppData\\Local\\Temp\\ipykernel_24428\\919805980.py:37: RuntimeWarning: Mean of empty slice\n",
      "  'Avg mph': lambda x: np.nanmean(x.astype(float)),\n",
      " 70%|███████   | 349/498 [1:49:10<45:20, 18.26s/it]"
     ]
    },
    {
     "name": "stdout",
     "output_type": "stream",
     "text": [
      "Data download stopped at page 7 for site 19610\n"
     ]
    },
    {
     "name": "stderr",
     "output_type": "stream",
     "text": [
      " 70%|███████   | 350/498 [1:49:28<44:44, 18.14s/it]"
     ]
    },
    {
     "name": "stdout",
     "output_type": "stream",
     "text": [
      "Data download stopped at page 7 for site 19638\n"
     ]
    },
    {
     "name": "stderr",
     "output_type": "stream",
     "text": [
      " 70%|███████   | 351/498 [1:49:48<45:11, 18.45s/it]"
     ]
    },
    {
     "name": "stdout",
     "output_type": "stream",
     "text": [
      "Data download stopped at page 8 for site 7278\n"
     ]
    },
    {
     "name": "stderr",
     "output_type": "stream",
     "text": [
      " 71%|███████   | 352/498 [1:50:07<45:31, 18.71s/it]"
     ]
    },
    {
     "name": "stdout",
     "output_type": "stream",
     "text": [
      "Data download stopped at page 8 for site 7279\n"
     ]
    },
    {
     "name": "stderr",
     "output_type": "stream",
     "text": [
      " 71%|███████   | 353/498 [1:50:26<45:35, 18.87s/it]"
     ]
    },
    {
     "name": "stdout",
     "output_type": "stream",
     "text": [
      "Data download stopped at page 7 for site 3991\n"
     ]
    },
    {
     "name": "stderr",
     "output_type": "stream",
     "text": [
      " 71%|███████   | 354/498 [1:50:44<44:42, 18.63s/it]"
     ]
    },
    {
     "name": "stdout",
     "output_type": "stream",
     "text": [
      "Data download stopped at page 7 for site 2866\n"
     ]
    },
    {
     "name": "stderr",
     "output_type": "stream",
     "text": [
      " 71%|███████▏  | 355/498 [1:51:04<45:09, 18.95s/it]"
     ]
    },
    {
     "name": "stdout",
     "output_type": "stream",
     "text": [
      "Data download stopped at page 8 for site 9351\n"
     ]
    },
    {
     "name": "stderr",
     "output_type": "stream",
     "text": [
      " 71%|███████▏  | 356/498 [1:51:24<45:25, 19.19s/it]"
     ]
    },
    {
     "name": "stdout",
     "output_type": "stream",
     "text": [
      "Data download stopped at page 8 for site 9033\n"
     ]
    },
    {
     "name": "stderr",
     "output_type": "stream",
     "text": [
      " 72%|███████▏  | 357/498 [1:51:42<44:13, 18.82s/it]"
     ]
    },
    {
     "name": "stdout",
     "output_type": "stream",
     "text": [
      "Data download stopped at page 7 for site 3590\n"
     ]
    },
    {
     "name": "stderr",
     "output_type": "stream",
     "text": [
      " 72%|███████▏  | 358/498 [1:51:59<43:02, 18.44s/it]"
     ]
    },
    {
     "name": "stdout",
     "output_type": "stream",
     "text": [
      "Data download stopped at page 7 for site 2329\n"
     ]
    },
    {
     "name": "stderr",
     "output_type": "stream",
     "text": [
      " 72%|███████▏  | 359/498 [1:52:17<42:13, 18.23s/it]"
     ]
    },
    {
     "name": "stdout",
     "output_type": "stream",
     "text": [
      "Data download stopped at page 7 for site 1991\n"
     ]
    },
    {
     "name": "stderr",
     "output_type": "stream",
     "text": [
      " 72%|███████▏  | 360/498 [1:52:35<41:52, 18.20s/it]"
     ]
    },
    {
     "name": "stdout",
     "output_type": "stream",
     "text": [
      "Data download stopped at page 7 for site 1474\n"
     ]
    },
    {
     "name": "stderr",
     "output_type": "stream",
     "text": [
      " 72%|███████▏  | 361/498 [1:52:53<41:28, 18.16s/it]"
     ]
    },
    {
     "name": "stdout",
     "output_type": "stream",
     "text": [
      "Data download stopped at page 7 for site 2800\n"
     ]
    },
    {
     "name": "stderr",
     "output_type": "stream",
     "text": [
      " 73%|███████▎  | 362/498 [1:53:11<41:00, 18.09s/it]"
     ]
    },
    {
     "name": "stdout",
     "output_type": "stream",
     "text": [
      "Data download stopped at page 7 for site 5420\n"
     ]
    },
    {
     "name": "stderr",
     "output_type": "stream",
     "text": [
      "C:\\Users\\yueli\\AppData\\Local\\Temp\\ipykernel_24428\\919805980.py:37: RuntimeWarning: Mean of empty slice\n",
      "  'Avg mph': lambda x: np.nanmean(x.astype(float)),\n",
      "C:\\Users\\yueli\\AppData\\Local\\Temp\\ipykernel_24428\\919805980.py:37: RuntimeWarning: Mean of empty slice\n",
      "  'Avg mph': lambda x: np.nanmean(x.astype(float)),\n",
      "C:\\Users\\yueli\\AppData\\Local\\Temp\\ipykernel_24428\\919805980.py:37: RuntimeWarning: Mean of empty slice\n",
      "  'Avg mph': lambda x: np.nanmean(x.astype(float)),\n",
      "C:\\Users\\yueli\\AppData\\Local\\Temp\\ipykernel_24428\\919805980.py:37: RuntimeWarning: Mean of empty slice\n",
      "  'Avg mph': lambda x: np.nanmean(x.astype(float)),\n",
      "C:\\Users\\yueli\\AppData\\Local\\Temp\\ipykernel_24428\\919805980.py:38: RuntimeWarning: Mean of empty slice\n",
      "  'Total Volume': lambda x: np.nanmean(x.astype(float)),\n",
      "C:\\Users\\yueli\\AppData\\Local\\Temp\\ipykernel_24428\\919805980.py:38: RuntimeWarning: Mean of empty slice\n",
      "  'Total Volume': lambda x: np.nanmean(x.astype(float)),\n",
      "C:\\Users\\yueli\\AppData\\Local\\Temp\\ipykernel_24428\\919805980.py:38: RuntimeWarning: Mean of empty slice\n",
      "  'Total Volume': lambda x: np.nanmean(x.astype(float)),\n",
      "C:\\Users\\yueli\\AppData\\Local\\Temp\\ipykernel_24428\\919805980.py:38: RuntimeWarning: Mean of empty slice\n",
      "  'Total Volume': lambda x: np.nanmean(x.astype(float)),\n",
      " 73%|███████▎  | 363/498 [1:53:29<40:30, 18.01s/it]"
     ]
    },
    {
     "name": "stdout",
     "output_type": "stream",
     "text": [
      "Data download stopped at page 7 for site 460\n"
     ]
    },
    {
     "name": "stderr",
     "output_type": "stream",
     "text": [
      "C:\\Users\\yueli\\AppData\\Local\\Temp\\ipykernel_24428\\919805980.py:37: RuntimeWarning: Mean of empty slice\n",
      "  'Avg mph': lambda x: np.nanmean(x.astype(float)),\n",
      "C:\\Users\\yueli\\AppData\\Local\\Temp\\ipykernel_24428\\919805980.py:37: RuntimeWarning: Mean of empty slice\n",
      "  'Avg mph': lambda x: np.nanmean(x.astype(float)),\n",
      "C:\\Users\\yueli\\AppData\\Local\\Temp\\ipykernel_24428\\919805980.py:37: RuntimeWarning: Mean of empty slice\n",
      "  'Avg mph': lambda x: np.nanmean(x.astype(float)),\n",
      "C:\\Users\\yueli\\AppData\\Local\\Temp\\ipykernel_24428\\919805980.py:37: RuntimeWarning: Mean of empty slice\n",
      "  'Avg mph': lambda x: np.nanmean(x.astype(float)),\n",
      "C:\\Users\\yueli\\AppData\\Local\\Temp\\ipykernel_24428\\919805980.py:38: RuntimeWarning: Mean of empty slice\n",
      "  'Total Volume': lambda x: np.nanmean(x.astype(float)),\n",
      "C:\\Users\\yueli\\AppData\\Local\\Temp\\ipykernel_24428\\919805980.py:38: RuntimeWarning: Mean of empty slice\n",
      "  'Total Volume': lambda x: np.nanmean(x.astype(float)),\n",
      "C:\\Users\\yueli\\AppData\\Local\\Temp\\ipykernel_24428\\919805980.py:38: RuntimeWarning: Mean of empty slice\n",
      "  'Total Volume': lambda x: np.nanmean(x.astype(float)),\n",
      "C:\\Users\\yueli\\AppData\\Local\\Temp\\ipykernel_24428\\919805980.py:38: RuntimeWarning: Mean of empty slice\n",
      "  'Total Volume': lambda x: np.nanmean(x.astype(float)),\n",
      " 73%|███████▎  | 364/498 [1:53:47<40:08, 17.97s/it]"
     ]
    },
    {
     "name": "stdout",
     "output_type": "stream",
     "text": [
      "Data download stopped at page 7 for site 2625\n"
     ]
    },
    {
     "name": "stderr",
     "output_type": "stream",
     "text": [
      " 73%|███████▎  | 365/498 [1:54:06<40:31, 18.29s/it]"
     ]
    },
    {
     "name": "stdout",
     "output_type": "stream",
     "text": [
      "Data download stopped at page 8 for site 7437\n"
     ]
    },
    {
     "name": "stderr",
     "output_type": "stream",
     "text": [
      " 73%|███████▎  | 366/498 [1:54:25<41:04, 18.67s/it]"
     ]
    },
    {
     "name": "stdout",
     "output_type": "stream",
     "text": [
      "Data download stopped at page 8 for site 7438\n"
     ]
    },
    {
     "name": "stderr",
     "output_type": "stream",
     "text": [
      " 74%|███████▎  | 367/498 [1:54:45<41:31, 19.02s/it]"
     ]
    },
    {
     "name": "stdout",
     "output_type": "stream",
     "text": [
      "Data download stopped at page 7 for site 4802\n"
     ]
    },
    {
     "name": "stderr",
     "output_type": "stream",
     "text": [
      " 74%|███████▍  | 368/498 [1:55:04<40:52, 18.87s/it]"
     ]
    },
    {
     "name": "stdout",
     "output_type": "stream",
     "text": [
      "Data download stopped at page 7 for site 1668\n"
     ]
    },
    {
     "name": "stderr",
     "output_type": "stream",
     "text": [
      " 74%|███████▍  | 369/498 [1:55:21<39:51, 18.54s/it]"
     ]
    },
    {
     "name": "stdout",
     "output_type": "stream",
     "text": [
      "Data download stopped at page 7 for site 5013\n"
     ]
    },
    {
     "name": "stderr",
     "output_type": "stream",
     "text": [
      " 74%|███████▍  | 370/498 [1:55:39<38:55, 18.25s/it]"
     ]
    },
    {
     "name": "stdout",
     "output_type": "stream",
     "text": [
      "Data download stopped at page 7 for site 1719\n"
     ]
    },
    {
     "name": "stderr",
     "output_type": "stream",
     "text": [
      " 74%|███████▍  | 371/498 [1:55:59<39:48, 18.81s/it]"
     ]
    },
    {
     "name": "stdout",
     "output_type": "stream",
     "text": [
      "Data download stopped at page 8 for site 7875\n"
     ]
    },
    {
     "name": "stderr",
     "output_type": "stream",
     "text": [
      " 75%|███████▍  | 372/498 [1:56:19<39:55, 19.01s/it]"
     ]
    },
    {
     "name": "stdout",
     "output_type": "stream",
     "text": [
      "Data download stopped at page 8 for site 7876\n"
     ]
    },
    {
     "name": "stderr",
     "output_type": "stream",
     "text": [
      " 75%|███████▍  | 373/498 [1:56:39<40:18, 19.35s/it]"
     ]
    },
    {
     "name": "stdout",
     "output_type": "stream",
     "text": [
      "Data download stopped at page 8 for site 8301\n"
     ]
    },
    {
     "name": "stderr",
     "output_type": "stream",
     "text": [
      " 75%|███████▌  | 374/498 [1:56:58<39:55, 19.32s/it]"
     ]
    },
    {
     "name": "stdout",
     "output_type": "stream",
     "text": [
      "Data download stopped at page 8 for site 8302\n"
     ]
    },
    {
     "name": "stderr",
     "output_type": "stream",
     "text": [
      " 75%|███████▌  | 375/498 [1:57:20<41:25, 20.20s/it]"
     ]
    },
    {
     "name": "stdout",
     "output_type": "stream",
     "text": [
      "Data download stopped at page 8 for site 8220\n"
     ]
    },
    {
     "name": "stderr",
     "output_type": "stream",
     "text": [
      " 76%|███████▌  | 376/498 [1:57:40<40:43, 20.03s/it]"
     ]
    },
    {
     "name": "stdout",
     "output_type": "stream",
     "text": [
      "Data download stopped at page 8 for site 8221\n"
     ]
    },
    {
     "name": "stderr",
     "output_type": "stream",
     "text": [
      " 76%|███████▌  | 377/498 [1:57:59<39:55, 19.80s/it]"
     ]
    },
    {
     "name": "stdout",
     "output_type": "stream",
     "text": [
      "Data download stopped at page 8 for site 8202\n"
     ]
    },
    {
     "name": "stderr",
     "output_type": "stream",
     "text": [
      " 76%|███████▌  | 378/498 [1:58:18<39:14, 19.62s/it]"
     ]
    },
    {
     "name": "stdout",
     "output_type": "stream",
     "text": [
      "Data download stopped at page 8 for site 8203\n"
     ]
    },
    {
     "name": "stderr",
     "output_type": "stream",
     "text": [
      " 76%|███████▌  | 379/498 [1:58:38<38:46, 19.55s/it]"
     ]
    },
    {
     "name": "stdout",
     "output_type": "stream",
     "text": [
      "Data download stopped at page 8 for site 8214\n"
     ]
    },
    {
     "name": "stderr",
     "output_type": "stream",
     "text": [
      " 76%|███████▋  | 380/498 [1:58:57<38:29, 19.57s/it]"
     ]
    },
    {
     "name": "stdout",
     "output_type": "stream",
     "text": [
      "Data download stopped at page 8 for site 8215\n"
     ]
    },
    {
     "name": "stderr",
     "output_type": "stream",
     "text": [
      " 77%|███████▋  | 381/498 [1:59:16<37:53, 19.43s/it]"
     ]
    },
    {
     "name": "stdout",
     "output_type": "stream",
     "text": [
      "Data download stopped at page 8 for site 9488\n"
     ]
    },
    {
     "name": "stderr",
     "output_type": "stream",
     "text": [
      " 77%|███████▋  | 382/498 [1:59:36<37:26, 19.37s/it]"
     ]
    },
    {
     "name": "stdout",
     "output_type": "stream",
     "text": [
      "Data download stopped at page 8 for site 9487\n"
     ]
    },
    {
     "name": "stderr",
     "output_type": "stream",
     "text": [
      "C:\\Users\\yueli\\AppData\\Local\\Temp\\ipykernel_24428\\919805980.py:37: RuntimeWarning: Mean of empty slice\n",
      "  'Avg mph': lambda x: np.nanmean(x.astype(float)),\n",
      "C:\\Users\\yueli\\AppData\\Local\\Temp\\ipykernel_24428\\919805980.py:37: RuntimeWarning: Mean of empty slice\n",
      "  'Avg mph': lambda x: np.nanmean(x.astype(float)),\n",
      "C:\\Users\\yueli\\AppData\\Local\\Temp\\ipykernel_24428\\919805980.py:37: RuntimeWarning: Mean of empty slice\n",
      "  'Avg mph': lambda x: np.nanmean(x.astype(float)),\n",
      "C:\\Users\\yueli\\AppData\\Local\\Temp\\ipykernel_24428\\919805980.py:37: RuntimeWarning: Mean of empty slice\n",
      "  'Avg mph': lambda x: np.nanmean(x.astype(float)),\n",
      "C:\\Users\\yueli\\AppData\\Local\\Temp\\ipykernel_24428\\919805980.py:38: RuntimeWarning: Mean of empty slice\n",
      "  'Total Volume': lambda x: np.nanmean(x.astype(float)),\n",
      "C:\\Users\\yueli\\AppData\\Local\\Temp\\ipykernel_24428\\919805980.py:38: RuntimeWarning: Mean of empty slice\n",
      "  'Total Volume': lambda x: np.nanmean(x.astype(float)),\n",
      "C:\\Users\\yueli\\AppData\\Local\\Temp\\ipykernel_24428\\919805980.py:38: RuntimeWarning: Mean of empty slice\n",
      "  'Total Volume': lambda x: np.nanmean(x.astype(float)),\n",
      "C:\\Users\\yueli\\AppData\\Local\\Temp\\ipykernel_24428\\919805980.py:38: RuntimeWarning: Mean of empty slice\n",
      "  'Total Volume': lambda x: np.nanmean(x.astype(float)),\n",
      " 77%|███████▋  | 383/498 [1:59:54<36:29, 19.04s/it]"
     ]
    },
    {
     "name": "stdout",
     "output_type": "stream",
     "text": [
      "Data download stopped at page 8 for site 8216\n",
      "8216 has no valid data.\n"
     ]
    },
    {
     "name": "stderr",
     "output_type": "stream",
     "text": [
      "C:\\Users\\yueli\\AppData\\Local\\Temp\\ipykernel_24428\\919805980.py:37: RuntimeWarning: Mean of empty slice\n",
      "  'Avg mph': lambda x: np.nanmean(x.astype(float)),\n",
      "C:\\Users\\yueli\\AppData\\Local\\Temp\\ipykernel_24428\\919805980.py:37: RuntimeWarning: Mean of empty slice\n",
      "  'Avg mph': lambda x: np.nanmean(x.astype(float)),\n",
      "C:\\Users\\yueli\\AppData\\Local\\Temp\\ipykernel_24428\\919805980.py:37: RuntimeWarning: Mean of empty slice\n",
      "  'Avg mph': lambda x: np.nanmean(x.astype(float)),\n",
      "C:\\Users\\yueli\\AppData\\Local\\Temp\\ipykernel_24428\\919805980.py:37: RuntimeWarning: Mean of empty slice\n",
      "  'Avg mph': lambda x: np.nanmean(x.astype(float)),\n",
      "C:\\Users\\yueli\\AppData\\Local\\Temp\\ipykernel_24428\\919805980.py:38: RuntimeWarning: Mean of empty slice\n",
      "  'Total Volume': lambda x: np.nanmean(x.astype(float)),\n",
      "C:\\Users\\yueli\\AppData\\Local\\Temp\\ipykernel_24428\\919805980.py:38: RuntimeWarning: Mean of empty slice\n",
      "  'Total Volume': lambda x: np.nanmean(x.astype(float)),\n",
      "C:\\Users\\yueli\\AppData\\Local\\Temp\\ipykernel_24428\\919805980.py:38: RuntimeWarning: Mean of empty slice\n",
      "  'Total Volume': lambda x: np.nanmean(x.astype(float)),\n",
      "C:\\Users\\yueli\\AppData\\Local\\Temp\\ipykernel_24428\\919805980.py:38: RuntimeWarning: Mean of empty slice\n",
      "  'Total Volume': lambda x: np.nanmean(x.astype(float)),\n",
      " 77%|███████▋  | 384/498 [2:00:12<35:22, 18.62s/it]"
     ]
    },
    {
     "name": "stdout",
     "output_type": "stream",
     "text": [
      "Data download stopped at page 8 for site 8217\n",
      "8217 has no valid data.\n"
     ]
    },
    {
     "name": "stderr",
     "output_type": "stream",
     "text": [
      " 77%|███████▋  | 385/498 [2:00:31<35:35, 18.90s/it]"
     ]
    },
    {
     "name": "stdout",
     "output_type": "stream",
     "text": [
      "Data download stopped at page 8 for site 8230\n"
     ]
    },
    {
     "name": "stderr",
     "output_type": "stream",
     "text": [
      " 78%|███████▊  | 386/498 [2:00:50<35:27, 18.99s/it]"
     ]
    },
    {
     "name": "stdout",
     "output_type": "stream",
     "text": [
      "Data download stopped at page 8 for site 8231\n"
     ]
    },
    {
     "name": "stderr",
     "output_type": "stream",
     "text": [
      " 78%|███████▊  | 387/498 [2:01:09<34:43, 18.77s/it]"
     ]
    },
    {
     "name": "stdout",
     "output_type": "stream",
     "text": [
      "Data download stopped at page 7 for site 1042\n"
     ]
    },
    {
     "name": "stderr",
     "output_type": "stream",
     "text": [
      " 78%|███████▊  | 388/498 [2:01:27<34:06, 18.60s/it]"
     ]
    },
    {
     "name": "stdout",
     "output_type": "stream",
     "text": [
      "Data download stopped at page 7 for site 2450\n"
     ]
    },
    {
     "name": "stderr",
     "output_type": "stream",
     "text": [
      " 78%|███████▊  | 389/498 [2:01:46<33:59, 18.71s/it]"
     ]
    },
    {
     "name": "stdout",
     "output_type": "stream",
     "text": [
      "Data download stopped at page 8 for site 7865\n"
     ]
    },
    {
     "name": "stderr",
     "output_type": "stream",
     "text": [
      " 78%|███████▊  | 390/498 [2:02:05<33:53, 18.83s/it]"
     ]
    },
    {
     "name": "stdout",
     "output_type": "stream",
     "text": [
      "Data download stopped at page 8 for site 7866\n"
     ]
    },
    {
     "name": "stderr",
     "output_type": "stream",
     "text": [
      " 79%|███████▊  | 391/498 [2:02:24<33:52, 18.99s/it]"
     ]
    },
    {
     "name": "stdout",
     "output_type": "stream",
     "text": [
      "Data download stopped at page 8 for site 9478\n"
     ]
    },
    {
     "name": "stderr",
     "output_type": "stream",
     "text": [
      "C:\\Users\\yueli\\AppData\\Local\\Temp\\ipykernel_24428\\919805980.py:37: RuntimeWarning: Mean of empty slice\n",
      "  'Avg mph': lambda x: np.nanmean(x.astype(float)),\n",
      "C:\\Users\\yueli\\AppData\\Local\\Temp\\ipykernel_24428\\919805980.py:37: RuntimeWarning: Mean of empty slice\n",
      "  'Avg mph': lambda x: np.nanmean(x.astype(float)),\n",
      "C:\\Users\\yueli\\AppData\\Local\\Temp\\ipykernel_24428\\919805980.py:37: RuntimeWarning: Mean of empty slice\n",
      "  'Avg mph': lambda x: np.nanmean(x.astype(float)),\n",
      "C:\\Users\\yueli\\AppData\\Local\\Temp\\ipykernel_24428\\919805980.py:37: RuntimeWarning: Mean of empty slice\n",
      "  'Avg mph': lambda x: np.nanmean(x.astype(float)),\n",
      "C:\\Users\\yueli\\AppData\\Local\\Temp\\ipykernel_24428\\919805980.py:38: RuntimeWarning: Mean of empty slice\n",
      "  'Total Volume': lambda x: np.nanmean(x.astype(float)),\n",
      "C:\\Users\\yueli\\AppData\\Local\\Temp\\ipykernel_24428\\919805980.py:38: RuntimeWarning: Mean of empty slice\n",
      "  'Total Volume': lambda x: np.nanmean(x.astype(float)),\n",
      "C:\\Users\\yueli\\AppData\\Local\\Temp\\ipykernel_24428\\919805980.py:38: RuntimeWarning: Mean of empty slice\n",
      "  'Total Volume': lambda x: np.nanmean(x.astype(float)),\n",
      "C:\\Users\\yueli\\AppData\\Local\\Temp\\ipykernel_24428\\919805980.py:38: RuntimeWarning: Mean of empty slice\n",
      "  'Total Volume': lambda x: np.nanmean(x.astype(float)),\n",
      " 79%|███████▊  | 392/498 [2:02:43<33:33, 19.00s/it]"
     ]
    },
    {
     "name": "stdout",
     "output_type": "stream",
     "text": [
      "Data download stopped at page 8 for site 9479\n"
     ]
    },
    {
     "name": "stderr",
     "output_type": "stream",
     "text": [
      " 79%|███████▉  | 393/498 [2:03:02<33:16, 19.01s/it]"
     ]
    },
    {
     "name": "stdout",
     "output_type": "stream",
     "text": [
      "Data download stopped at page 8 for site 7851\n"
     ]
    },
    {
     "name": "stderr",
     "output_type": "stream",
     "text": [
      " 79%|███████▉  | 394/498 [2:03:21<33:04, 19.08s/it]"
     ]
    },
    {
     "name": "stdout",
     "output_type": "stream",
     "text": [
      "Data download stopped at page 8 for site 7852\n"
     ]
    },
    {
     "name": "stderr",
     "output_type": "stream",
     "text": [
      " 79%|███████▉  | 395/498 [2:03:41<32:46, 19.10s/it]"
     ]
    },
    {
     "name": "stdout",
     "output_type": "stream",
     "text": [
      "Data download stopped at page 8 for site 8320\n"
     ]
    },
    {
     "name": "stderr",
     "output_type": "stream",
     "text": [
      " 80%|███████▉  | 396/498 [2:04:00<32:26, 19.09s/it]"
     ]
    },
    {
     "name": "stdout",
     "output_type": "stream",
     "text": [
      "Data download stopped at page 8 for site 8321\n"
     ]
    },
    {
     "name": "stderr",
     "output_type": "stream",
     "text": [
      " 80%|███████▉  | 397/498 [2:04:18<31:30, 18.71s/it]"
     ]
    },
    {
     "name": "stdout",
     "output_type": "stream",
     "text": [
      "Data download stopped at page 7 for site 17352\n"
     ]
    },
    {
     "name": "stderr",
     "output_type": "stream",
     "text": [
      " 80%|███████▉  | 398/498 [2:04:36<30:49, 18.50s/it]"
     ]
    },
    {
     "name": "stdout",
     "output_type": "stream",
     "text": [
      "Data download stopped at page 7 for site 17446\n"
     ]
    },
    {
     "name": "stderr",
     "output_type": "stream",
     "text": [
      " 80%|████████  | 399/498 [2:04:53<30:00, 18.18s/it]"
     ]
    },
    {
     "name": "stdout",
     "output_type": "stream",
     "text": [
      "Data download stopped at page 7 for site 2891\n"
     ]
    },
    {
     "name": "stderr",
     "output_type": "stream",
     "text": [
      " 80%|████████  | 400/498 [2:05:11<29:32, 18.09s/it]"
     ]
    },
    {
     "name": "stdout",
     "output_type": "stream",
     "text": [
      "Data download stopped at page 7 for site 6096\n"
     ]
    },
    {
     "name": "stderr",
     "output_type": "stream",
     "text": [
      " 81%|████████  | 401/498 [2:05:29<29:18, 18.13s/it]"
     ]
    },
    {
     "name": "stdout",
     "output_type": "stream",
     "text": [
      "Data download stopped at page 7 for site 18862\n"
     ]
    },
    {
     "name": "stderr",
     "output_type": "stream",
     "text": [
      " 81%|████████  | 402/498 [2:05:47<29:06, 18.20s/it]"
     ]
    },
    {
     "name": "stdout",
     "output_type": "stream",
     "text": [
      "Data download stopped at page 7 for site 18715\n"
     ]
    },
    {
     "name": "stderr",
     "output_type": "stream",
     "text": [
      " 81%|████████  | 403/498 [2:06:07<29:22, 18.55s/it]"
     ]
    },
    {
     "name": "stdout",
     "output_type": "stream",
     "text": [
      "Data download stopped at page 8 for site 7843\n"
     ]
    },
    {
     "name": "stderr",
     "output_type": "stream",
     "text": [
      " 81%|████████  | 404/498 [2:06:27<29:38, 18.92s/it]"
     ]
    },
    {
     "name": "stdout",
     "output_type": "stream",
     "text": [
      "Data download stopped at page 8 for site 7844\n"
     ]
    },
    {
     "name": "stderr",
     "output_type": "stream",
     "text": [
      " 81%|████████▏ | 405/498 [2:06:46<29:30, 19.04s/it]"
     ]
    },
    {
     "name": "stdout",
     "output_type": "stream",
     "text": [
      "Data download stopped at page 8 for site 9332\n"
     ]
    },
    {
     "name": "stderr",
     "output_type": "stream",
     "text": [
      " 82%|████████▏ | 406/498 [2:07:05<29:16, 19.10s/it]"
     ]
    },
    {
     "name": "stdout",
     "output_type": "stream",
     "text": [
      "Data download stopped at page 8 for site 9333\n"
     ]
    },
    {
     "name": "stderr",
     "output_type": "stream",
     "text": [
      " 82%|████████▏ | 407/498 [2:07:27<30:01, 19.79s/it]"
     ]
    },
    {
     "name": "stdout",
     "output_type": "stream",
     "text": [
      "Data download stopped at page 8 for site 7853\n"
     ]
    },
    {
     "name": "stderr",
     "output_type": "stream",
     "text": [
      " 82%|████████▏ | 408/498 [2:07:46<29:34, 19.72s/it]"
     ]
    },
    {
     "name": "stdout",
     "output_type": "stream",
     "text": [
      "Data download stopped at page 8 for site 7854\n"
     ]
    },
    {
     "name": "stderr",
     "output_type": "stream",
     "text": [
      " 82%|████████▏ | 409/498 [2:08:05<28:57, 19.52s/it]"
     ]
    },
    {
     "name": "stdout",
     "output_type": "stream",
     "text": [
      "Data download stopped at page 8 for site 7839\n"
     ]
    },
    {
     "name": "stderr",
     "output_type": "stream",
     "text": [
      " 82%|████████▏ | 410/498 [2:08:24<28:25, 19.38s/it]"
     ]
    },
    {
     "name": "stdout",
     "output_type": "stream",
     "text": [
      "Data download stopped at page 8 for site 7837\n"
     ]
    },
    {
     "name": "stderr",
     "output_type": "stream",
     "text": [
      " 83%|████████▎ | 411/498 [2:08:43<27:45, 19.14s/it]"
     ]
    },
    {
     "name": "stdout",
     "output_type": "stream",
     "text": [
      "Data download stopped at page 7 for site 17369\n"
     ]
    },
    {
     "name": "stderr",
     "output_type": "stream",
     "text": [
      "C:\\Users\\yueli\\AppData\\Local\\Temp\\ipykernel_24428\\919805980.py:37: RuntimeWarning: Mean of empty slice\n",
      "  'Avg mph': lambda x: np.nanmean(x.astype(float)),\n",
      "C:\\Users\\yueli\\AppData\\Local\\Temp\\ipykernel_24428\\919805980.py:37: RuntimeWarning: Mean of empty slice\n",
      "  'Avg mph': lambda x: np.nanmean(x.astype(float)),\n",
      "C:\\Users\\yueli\\AppData\\Local\\Temp\\ipykernel_24428\\919805980.py:37: RuntimeWarning: Mean of empty slice\n",
      "  'Avg mph': lambda x: np.nanmean(x.astype(float)),\n",
      "C:\\Users\\yueli\\AppData\\Local\\Temp\\ipykernel_24428\\919805980.py:37: RuntimeWarning: Mean of empty slice\n",
      "  'Avg mph': lambda x: np.nanmean(x.astype(float)),\n",
      "C:\\Users\\yueli\\AppData\\Local\\Temp\\ipykernel_24428\\919805980.py:38: RuntimeWarning: Mean of empty slice\n",
      "  'Total Volume': lambda x: np.nanmean(x.astype(float)),\n",
      "C:\\Users\\yueli\\AppData\\Local\\Temp\\ipykernel_24428\\919805980.py:38: RuntimeWarning: Mean of empty slice\n",
      "  'Total Volume': lambda x: np.nanmean(x.astype(float)),\n",
      "C:\\Users\\yueli\\AppData\\Local\\Temp\\ipykernel_24428\\919805980.py:38: RuntimeWarning: Mean of empty slice\n",
      "  'Total Volume': lambda x: np.nanmean(x.astype(float)),\n",
      "C:\\Users\\yueli\\AppData\\Local\\Temp\\ipykernel_24428\\919805980.py:38: RuntimeWarning: Mean of empty slice\n",
      "  'Total Volume': lambda x: np.nanmean(x.astype(float)),\n",
      " 83%|████████▎ | 412/498 [2:09:01<26:55, 18.78s/it]"
     ]
    },
    {
     "name": "stdout",
     "output_type": "stream",
     "text": [
      "Data download stopped at page 7 for site 17344\n"
     ]
    },
    {
     "name": "stderr",
     "output_type": "stream",
     "text": [
      " 83%|████████▎ | 413/498 [2:09:19<26:20, 18.60s/it]"
     ]
    },
    {
     "name": "stdout",
     "output_type": "stream",
     "text": [
      "Data download stopped at page 7 for site 743\n"
     ]
    },
    {
     "name": "stderr",
     "output_type": "stream",
     "text": [
      " 83%|████████▎ | 414/498 [2:09:37<25:43, 18.37s/it]"
     ]
    },
    {
     "name": "stdout",
     "output_type": "stream",
     "text": [
      "Data download stopped at page 7 for site 1459\n"
     ]
    },
    {
     "name": "stderr",
     "output_type": "stream",
     "text": [
      " 83%|████████▎ | 415/498 [2:09:55<25:17, 18.28s/it]"
     ]
    },
    {
     "name": "stdout",
     "output_type": "stream",
     "text": [
      "Data download stopped at page 7 for site 5443\n"
     ]
    },
    {
     "name": "stderr",
     "output_type": "stream",
     "text": [
      " 84%|████████▎ | 416/498 [2:10:13<24:57, 18.26s/it]"
     ]
    },
    {
     "name": "stdout",
     "output_type": "stream",
     "text": [
      "Data download stopped at page 7 for site 5332\n"
     ]
    },
    {
     "name": "stderr",
     "output_type": "stream",
     "text": [
      " 84%|████████▎ | 417/498 [2:10:32<25:04, 18.57s/it]"
     ]
    },
    {
     "name": "stdout",
     "output_type": "stream",
     "text": [
      "Data download stopped at page 8 for site 9291\n"
     ]
    },
    {
     "name": "stderr",
     "output_type": "stream",
     "text": [
      " 84%|████████▍ | 418/498 [2:10:53<25:47, 19.34s/it]"
     ]
    },
    {
     "name": "stdout",
     "output_type": "stream",
     "text": [
      "Data download stopped at page 8 for site 9292\n"
     ]
    },
    {
     "name": "stderr",
     "output_type": "stream",
     "text": [
      " 84%|████████▍ | 419/498 [2:11:13<25:21, 19.26s/it]"
     ]
    },
    {
     "name": "stdout",
     "output_type": "stream",
     "text": [
      "Data download stopped at page 8 for site 9296\n"
     ]
    },
    {
     "name": "stderr",
     "output_type": "stream",
     "text": [
      " 84%|████████▍ | 420/498 [2:11:32<25:01, 19.25s/it]"
     ]
    },
    {
     "name": "stdout",
     "output_type": "stream",
     "text": [
      "Data download stopped at page 8 for site 9297\n"
     ]
    },
    {
     "name": "stderr",
     "output_type": "stream",
     "text": [
      " 85%|████████▍ | 421/498 [2:11:51<24:32, 19.13s/it]"
     ]
    },
    {
     "name": "stdout",
     "output_type": "stream",
     "text": [
      "Data download stopped at page 7 for site 5024\n"
     ]
    },
    {
     "name": "stderr",
     "output_type": "stream",
     "text": [
      " 85%|████████▍ | 422/498 [2:12:08<23:40, 18.69s/it]"
     ]
    },
    {
     "name": "stdout",
     "output_type": "stream",
     "text": [
      "Data download stopped at page 7 for site 4189\n"
     ]
    },
    {
     "name": "stderr",
     "output_type": "stream",
     "text": [
      " 85%|████████▍ | 423/498 [2:12:26<23:04, 18.46s/it]"
     ]
    },
    {
     "name": "stdout",
     "output_type": "stream",
     "text": [
      "Data download stopped at page 7 for site 3540\n"
     ]
    },
    {
     "name": "stderr",
     "output_type": "stream",
     "text": [
      "C:\\Users\\yueli\\AppData\\Local\\Temp\\ipykernel_24428\\919805980.py:37: RuntimeWarning: Mean of empty slice\n",
      "  'Avg mph': lambda x: np.nanmean(x.astype(float)),\n",
      "C:\\Users\\yueli\\AppData\\Local\\Temp\\ipykernel_24428\\919805980.py:37: RuntimeWarning: Mean of empty slice\n",
      "  'Avg mph': lambda x: np.nanmean(x.astype(float)),\n",
      "C:\\Users\\yueli\\AppData\\Local\\Temp\\ipykernel_24428\\919805980.py:37: RuntimeWarning: Mean of empty slice\n",
      "  'Avg mph': lambda x: np.nanmean(x.astype(float)),\n",
      "C:\\Users\\yueli\\AppData\\Local\\Temp\\ipykernel_24428\\919805980.py:37: RuntimeWarning: Mean of empty slice\n",
      "  'Avg mph': lambda x: np.nanmean(x.astype(float)),\n",
      "C:\\Users\\yueli\\AppData\\Local\\Temp\\ipykernel_24428\\919805980.py:38: RuntimeWarning: Mean of empty slice\n",
      "  'Total Volume': lambda x: np.nanmean(x.astype(float)),\n",
      "C:\\Users\\yueli\\AppData\\Local\\Temp\\ipykernel_24428\\919805980.py:38: RuntimeWarning: Mean of empty slice\n",
      "  'Total Volume': lambda x: np.nanmean(x.astype(float)),\n",
      "C:\\Users\\yueli\\AppData\\Local\\Temp\\ipykernel_24428\\919805980.py:38: RuntimeWarning: Mean of empty slice\n",
      "  'Total Volume': lambda x: np.nanmean(x.astype(float)),\n",
      "C:\\Users\\yueli\\AppData\\Local\\Temp\\ipykernel_24428\\919805980.py:38: RuntimeWarning: Mean of empty slice\n",
      "  'Total Volume': lambda x: np.nanmean(x.astype(float)),\n",
      " 85%|████████▌ | 424/498 [2:12:44<22:31, 18.27s/it]"
     ]
    },
    {
     "name": "stdout",
     "output_type": "stream",
     "text": [
      "Data download stopped at page 7 for site 4566\n"
     ]
    },
    {
     "name": "stderr",
     "output_type": "stream",
     "text": [
      "C:\\Users\\yueli\\AppData\\Local\\Temp\\ipykernel_24428\\919805980.py:37: RuntimeWarning: Mean of empty slice\n",
      "  'Avg mph': lambda x: np.nanmean(x.astype(float)),\n",
      "C:\\Users\\yueli\\AppData\\Local\\Temp\\ipykernel_24428\\919805980.py:37: RuntimeWarning: Mean of empty slice\n",
      "  'Avg mph': lambda x: np.nanmean(x.astype(float)),\n",
      "C:\\Users\\yueli\\AppData\\Local\\Temp\\ipykernel_24428\\919805980.py:37: RuntimeWarning: Mean of empty slice\n",
      "  'Avg mph': lambda x: np.nanmean(x.astype(float)),\n",
      "C:\\Users\\yueli\\AppData\\Local\\Temp\\ipykernel_24428\\919805980.py:37: RuntimeWarning: Mean of empty slice\n",
      "  'Avg mph': lambda x: np.nanmean(x.astype(float)),\n",
      "C:\\Users\\yueli\\AppData\\Local\\Temp\\ipykernel_24428\\919805980.py:38: RuntimeWarning: Mean of empty slice\n",
      "  'Total Volume': lambda x: np.nanmean(x.astype(float)),\n",
      "C:\\Users\\yueli\\AppData\\Local\\Temp\\ipykernel_24428\\919805980.py:38: RuntimeWarning: Mean of empty slice\n",
      "  'Total Volume': lambda x: np.nanmean(x.astype(float)),\n",
      "C:\\Users\\yueli\\AppData\\Local\\Temp\\ipykernel_24428\\919805980.py:38: RuntimeWarning: Mean of empty slice\n",
      "  'Total Volume': lambda x: np.nanmean(x.astype(float)),\n",
      "C:\\Users\\yueli\\AppData\\Local\\Temp\\ipykernel_24428\\919805980.py:38: RuntimeWarning: Mean of empty slice\n",
      "  'Total Volume': lambda x: np.nanmean(x.astype(float)),\n",
      " 85%|████████▌ | 425/498 [2:13:03<22:20, 18.36s/it]"
     ]
    },
    {
     "name": "stdout",
     "output_type": "stream",
     "text": [
      "Data download stopped at page 7 for site 5477\n"
     ]
    },
    {
     "name": "stderr",
     "output_type": "stream",
     "text": [
      "C:\\Users\\yueli\\AppData\\Local\\Temp\\ipykernel_24428\\919805980.py:37: RuntimeWarning: Mean of empty slice\n",
      "  'Avg mph': lambda x: np.nanmean(x.astype(float)),\n",
      "C:\\Users\\yueli\\AppData\\Local\\Temp\\ipykernel_24428\\919805980.py:37: RuntimeWarning: Mean of empty slice\n",
      "  'Avg mph': lambda x: np.nanmean(x.astype(float)),\n",
      "C:\\Users\\yueli\\AppData\\Local\\Temp\\ipykernel_24428\\919805980.py:37: RuntimeWarning: Mean of empty slice\n",
      "  'Avg mph': lambda x: np.nanmean(x.astype(float)),\n",
      "C:\\Users\\yueli\\AppData\\Local\\Temp\\ipykernel_24428\\919805980.py:37: RuntimeWarning: Mean of empty slice\n",
      "  'Avg mph': lambda x: np.nanmean(x.astype(float)),\n",
      "C:\\Users\\yueli\\AppData\\Local\\Temp\\ipykernel_24428\\919805980.py:38: RuntimeWarning: Mean of empty slice\n",
      "  'Total Volume': lambda x: np.nanmean(x.astype(float)),\n",
      "C:\\Users\\yueli\\AppData\\Local\\Temp\\ipykernel_24428\\919805980.py:38: RuntimeWarning: Mean of empty slice\n",
      "  'Total Volume': lambda x: np.nanmean(x.astype(float)),\n",
      "C:\\Users\\yueli\\AppData\\Local\\Temp\\ipykernel_24428\\919805980.py:38: RuntimeWarning: Mean of empty slice\n",
      "  'Total Volume': lambda x: np.nanmean(x.astype(float)),\n",
      "C:\\Users\\yueli\\AppData\\Local\\Temp\\ipykernel_24428\\919805980.py:38: RuntimeWarning: Mean of empty slice\n",
      "  'Total Volume': lambda x: np.nanmean(x.astype(float)),\n",
      " 86%|████████▌ | 426/498 [2:13:20<21:38, 18.04s/it]"
     ]
    },
    {
     "name": "stdout",
     "output_type": "stream",
     "text": [
      "Data download stopped at page 7 for site 2814\n"
     ]
    },
    {
     "name": "stderr",
     "output_type": "stream",
     "text": [
      "C:\\Users\\yueli\\AppData\\Local\\Temp\\ipykernel_24428\\919805980.py:37: RuntimeWarning: Mean of empty slice\n",
      "  'Avg mph': lambda x: np.nanmean(x.astype(float)),\n",
      "C:\\Users\\yueli\\AppData\\Local\\Temp\\ipykernel_24428\\919805980.py:37: RuntimeWarning: Mean of empty slice\n",
      "  'Avg mph': lambda x: np.nanmean(x.astype(float)),\n",
      "C:\\Users\\yueli\\AppData\\Local\\Temp\\ipykernel_24428\\919805980.py:37: RuntimeWarning: Mean of empty slice\n",
      "  'Avg mph': lambda x: np.nanmean(x.astype(float)),\n",
      "C:\\Users\\yueli\\AppData\\Local\\Temp\\ipykernel_24428\\919805980.py:37: RuntimeWarning: Mean of empty slice\n",
      "  'Avg mph': lambda x: np.nanmean(x.astype(float)),\n",
      "C:\\Users\\yueli\\AppData\\Local\\Temp\\ipykernel_24428\\919805980.py:38: RuntimeWarning: Mean of empty slice\n",
      "  'Total Volume': lambda x: np.nanmean(x.astype(float)),\n",
      "C:\\Users\\yueli\\AppData\\Local\\Temp\\ipykernel_24428\\919805980.py:38: RuntimeWarning: Mean of empty slice\n",
      "  'Total Volume': lambda x: np.nanmean(x.astype(float)),\n",
      "C:\\Users\\yueli\\AppData\\Local\\Temp\\ipykernel_24428\\919805980.py:38: RuntimeWarning: Mean of empty slice\n",
      "  'Total Volume': lambda x: np.nanmean(x.astype(float)),\n",
      "C:\\Users\\yueli\\AppData\\Local\\Temp\\ipykernel_24428\\919805980.py:38: RuntimeWarning: Mean of empty slice\n",
      "  'Total Volume': lambda x: np.nanmean(x.astype(float)),\n",
      " 86%|████████▌ | 427/498 [2:13:38<21:18, 18.00s/it]"
     ]
    },
    {
     "name": "stdout",
     "output_type": "stream",
     "text": [
      "Data download stopped at page 7 for site 3518\n"
     ]
    },
    {
     "name": "stderr",
     "output_type": "stream",
     "text": [
      "C:\\Users\\yueli\\AppData\\Local\\Temp\\ipykernel_24428\\919805980.py:37: RuntimeWarning: Mean of empty slice\n",
      "  'Avg mph': lambda x: np.nanmean(x.astype(float)),\n",
      "C:\\Users\\yueli\\AppData\\Local\\Temp\\ipykernel_24428\\919805980.py:37: RuntimeWarning: Mean of empty slice\n",
      "  'Avg mph': lambda x: np.nanmean(x.astype(float)),\n",
      "C:\\Users\\yueli\\AppData\\Local\\Temp\\ipykernel_24428\\919805980.py:37: RuntimeWarning: Mean of empty slice\n",
      "  'Avg mph': lambda x: np.nanmean(x.astype(float)),\n",
      "C:\\Users\\yueli\\AppData\\Local\\Temp\\ipykernel_24428\\919805980.py:37: RuntimeWarning: Mean of empty slice\n",
      "  'Avg mph': lambda x: np.nanmean(x.astype(float)),\n",
      "C:\\Users\\yueli\\AppData\\Local\\Temp\\ipykernel_24428\\919805980.py:38: RuntimeWarning: Mean of empty slice\n",
      "  'Total Volume': lambda x: np.nanmean(x.astype(float)),\n",
      "C:\\Users\\yueli\\AppData\\Local\\Temp\\ipykernel_24428\\919805980.py:38: RuntimeWarning: Mean of empty slice\n",
      "  'Total Volume': lambda x: np.nanmean(x.astype(float)),\n",
      "C:\\Users\\yueli\\AppData\\Local\\Temp\\ipykernel_24428\\919805980.py:38: RuntimeWarning: Mean of empty slice\n",
      "  'Total Volume': lambda x: np.nanmean(x.astype(float)),\n",
      "C:\\Users\\yueli\\AppData\\Local\\Temp\\ipykernel_24428\\919805980.py:38: RuntimeWarning: Mean of empty slice\n",
      "  'Total Volume': lambda x: np.nanmean(x.astype(float)),\n",
      " 86%|████████▌ | 428/498 [2:13:55<20:47, 17.82s/it]"
     ]
    },
    {
     "name": "stdout",
     "output_type": "stream",
     "text": [
      "Data download stopped at page 7 for site 66\n"
     ]
    },
    {
     "name": "stderr",
     "output_type": "stream",
     "text": [
      " 86%|████████▌ | 429/498 [2:14:15<21:03, 18.31s/it]"
     ]
    },
    {
     "name": "stdout",
     "output_type": "stream",
     "text": [
      "Data download stopped at page 8 for site 8144\n"
     ]
    },
    {
     "name": "stderr",
     "output_type": "stream",
     "text": [
      " 86%|████████▋ | 430/498 [2:14:34<21:12, 18.72s/it]"
     ]
    },
    {
     "name": "stdout",
     "output_type": "stream",
     "text": [
      "Data download stopped at page 8 for site 8145\n"
     ]
    },
    {
     "name": "stderr",
     "output_type": "stream",
     "text": [
      " 87%|████████▋ | 431/498 [2:14:52<20:35, 18.44s/it]"
     ]
    },
    {
     "name": "stdout",
     "output_type": "stream",
     "text": [
      "Data download stopped at page 7 for site 17301\n"
     ]
    },
    {
     "name": "stderr",
     "output_type": "stream",
     "text": [
      " 87%|████████▋ | 432/498 [2:15:10<20:05, 18.26s/it]"
     ]
    },
    {
     "name": "stdout",
     "output_type": "stream",
     "text": [
      "Data download stopped at page 7 for site 17428\n"
     ]
    },
    {
     "name": "stderr",
     "output_type": "stream",
     "text": [
      " 87%|████████▋ | 433/498 [2:15:28<19:41, 18.18s/it]"
     ]
    },
    {
     "name": "stdout",
     "output_type": "stream",
     "text": [
      "Data download stopped at page 7 for site 2852\n"
     ]
    },
    {
     "name": "stderr",
     "output_type": "stream",
     "text": [
      " 87%|████████▋ | 434/498 [2:15:46<19:14, 18.04s/it]"
     ]
    },
    {
     "name": "stdout",
     "output_type": "stream",
     "text": [
      "Data download stopped at page 7 for site 3597\n"
     ]
    },
    {
     "name": "stderr",
     "output_type": "stream",
     "text": [
      " 87%|████████▋ | 435/498 [2:16:03<18:49, 17.94s/it]"
     ]
    },
    {
     "name": "stdout",
     "output_type": "stream",
     "text": [
      "Data download stopped at page 7 for site 1499\n"
     ]
    },
    {
     "name": "stderr",
     "output_type": "stream",
     "text": [
      " 88%|████████▊ | 436/498 [2:16:22<18:40, 18.07s/it]"
     ]
    },
    {
     "name": "stdout",
     "output_type": "stream",
     "text": [
      "Data download stopped at page 7 for site 4308\n"
     ]
    },
    {
     "name": "stderr",
     "output_type": "stream",
     "text": [
      " 88%|████████▊ | 437/498 [2:16:41<18:36, 18.31s/it]"
     ]
    },
    {
     "name": "stdout",
     "output_type": "stream",
     "text": [
      "Data download stopped at page 8 for site 8404\n"
     ]
    },
    {
     "name": "stderr",
     "output_type": "stream",
     "text": [
      " 88%|████████▊ | 438/498 [2:17:01<19:00, 19.00s/it]"
     ]
    },
    {
     "name": "stdout",
     "output_type": "stream",
     "text": [
      "Data download stopped at page 8 for site 8403\n"
     ]
    },
    {
     "name": "stderr",
     "output_type": "stream",
     "text": [
      " 88%|████████▊ | 439/498 [2:17:20<18:43, 19.04s/it]"
     ]
    },
    {
     "name": "stdout",
     "output_type": "stream",
     "text": [
      "Data download stopped at page 8 for site 10679\n"
     ]
    },
    {
     "name": "stderr",
     "output_type": "stream",
     "text": [
      " 88%|████████▊ | 440/498 [2:17:40<18:37, 19.27s/it]"
     ]
    },
    {
     "name": "stdout",
     "output_type": "stream",
     "text": [
      "Data download stopped at page 8 for site 10680\n"
     ]
    },
    {
     "name": "stderr",
     "output_type": "stream",
     "text": [
      " 89%|████████▊ | 441/498 [2:17:59<18:11, 19.15s/it]"
     ]
    },
    {
     "name": "stdout",
     "output_type": "stream",
     "text": [
      "Data download stopped at page 8 for site 8169\n"
     ]
    },
    {
     "name": "stderr",
     "output_type": "stream",
     "text": [
      " 89%|████████▉ | 442/498 [2:18:18<17:51, 19.14s/it]"
     ]
    },
    {
     "name": "stdout",
     "output_type": "stream",
     "text": [
      "Data download stopped at page 8 for site 8170\n"
     ]
    },
    {
     "name": "stderr",
     "output_type": "stream",
     "text": [
      " 89%|████████▉ | 443/498 [2:18:37<17:33, 19.15s/it]"
     ]
    },
    {
     "name": "stdout",
     "output_type": "stream",
     "text": [
      "Data download stopped at page 8 for site 8164\n"
     ]
    },
    {
     "name": "stderr",
     "output_type": "stream",
     "text": [
      " 89%|████████▉ | 444/498 [2:18:57<17:17, 19.21s/it]"
     ]
    },
    {
     "name": "stdout",
     "output_type": "stream",
     "text": [
      "Data download stopped at page 8 for site 8163\n"
     ]
    },
    {
     "name": "stderr",
     "output_type": "stream",
     "text": [
      "C:\\Users\\yueli\\AppData\\Local\\Temp\\ipykernel_24428\\919805980.py:37: RuntimeWarning: Mean of empty slice\n",
      "  'Avg mph': lambda x: np.nanmean(x.astype(float)),\n",
      "C:\\Users\\yueli\\AppData\\Local\\Temp\\ipykernel_24428\\919805980.py:37: RuntimeWarning: Mean of empty slice\n",
      "  'Avg mph': lambda x: np.nanmean(x.astype(float)),\n",
      "C:\\Users\\yueli\\AppData\\Local\\Temp\\ipykernel_24428\\919805980.py:37: RuntimeWarning: Mean of empty slice\n",
      "  'Avg mph': lambda x: np.nanmean(x.astype(float)),\n",
      "C:\\Users\\yueli\\AppData\\Local\\Temp\\ipykernel_24428\\919805980.py:37: RuntimeWarning: Mean of empty slice\n",
      "  'Avg mph': lambda x: np.nanmean(x.astype(float)),\n",
      "C:\\Users\\yueli\\AppData\\Local\\Temp\\ipykernel_24428\\919805980.py:38: RuntimeWarning: Mean of empty slice\n",
      "  'Total Volume': lambda x: np.nanmean(x.astype(float)),\n",
      "C:\\Users\\yueli\\AppData\\Local\\Temp\\ipykernel_24428\\919805980.py:38: RuntimeWarning: Mean of empty slice\n",
      "  'Total Volume': lambda x: np.nanmean(x.astype(float)),\n",
      "C:\\Users\\yueli\\AppData\\Local\\Temp\\ipykernel_24428\\919805980.py:38: RuntimeWarning: Mean of empty slice\n",
      "  'Total Volume': lambda x: np.nanmean(x.astype(float)),\n",
      "C:\\Users\\yueli\\AppData\\Local\\Temp\\ipykernel_24428\\919805980.py:38: RuntimeWarning: Mean of empty slice\n",
      "  'Total Volume': lambda x: np.nanmean(x.astype(float)),\n",
      " 89%|████████▉ | 445/498 [2:19:14<16:33, 18.75s/it]"
     ]
    },
    {
     "name": "stdout",
     "output_type": "stream",
     "text": [
      "Data download stopped at page 7 for site 17354\n"
     ]
    },
    {
     "name": "stderr",
     "output_type": "stream",
     "text": [
      "C:\\Users\\yueli\\AppData\\Local\\Temp\\ipykernel_24428\\919805980.py:37: RuntimeWarning: Mean of empty slice\n",
      "  'Avg mph': lambda x: np.nanmean(x.astype(float)),\n",
      "C:\\Users\\yueli\\AppData\\Local\\Temp\\ipykernel_24428\\919805980.py:37: RuntimeWarning: Mean of empty slice\n",
      "  'Avg mph': lambda x: np.nanmean(x.astype(float)),\n",
      "C:\\Users\\yueli\\AppData\\Local\\Temp\\ipykernel_24428\\919805980.py:37: RuntimeWarning: Mean of empty slice\n",
      "  'Avg mph': lambda x: np.nanmean(x.astype(float)),\n",
      "C:\\Users\\yueli\\AppData\\Local\\Temp\\ipykernel_24428\\919805980.py:37: RuntimeWarning: Mean of empty slice\n",
      "  'Avg mph': lambda x: np.nanmean(x.astype(float)),\n",
      "C:\\Users\\yueli\\AppData\\Local\\Temp\\ipykernel_24428\\919805980.py:38: RuntimeWarning: Mean of empty slice\n",
      "  'Total Volume': lambda x: np.nanmean(x.astype(float)),\n",
      "C:\\Users\\yueli\\AppData\\Local\\Temp\\ipykernel_24428\\919805980.py:38: RuntimeWarning: Mean of empty slice\n",
      "  'Total Volume': lambda x: np.nanmean(x.astype(float)),\n",
      "C:\\Users\\yueli\\AppData\\Local\\Temp\\ipykernel_24428\\919805980.py:38: RuntimeWarning: Mean of empty slice\n",
      "  'Total Volume': lambda x: np.nanmean(x.astype(float)),\n",
      "C:\\Users\\yueli\\AppData\\Local\\Temp\\ipykernel_24428\\919805980.py:38: RuntimeWarning: Mean of empty slice\n",
      "  'Total Volume': lambda x: np.nanmean(x.astype(float)),\n",
      " 90%|████████▉ | 446/498 [2:19:32<16:00, 18.48s/it]"
     ]
    },
    {
     "name": "stdout",
     "output_type": "stream",
     "text": [
      "Data download stopped at page 7 for site 17372\n"
     ]
    },
    {
     "name": "stderr",
     "output_type": "stream",
     "text": [
      "C:\\Users\\yueli\\AppData\\Local\\Temp\\ipykernel_24428\\919805980.py:37: RuntimeWarning: Mean of empty slice\n",
      "  'Avg mph': lambda x: np.nanmean(x.astype(float)),\n",
      "C:\\Users\\yueli\\AppData\\Local\\Temp\\ipykernel_24428\\919805980.py:37: RuntimeWarning: Mean of empty slice\n",
      "  'Avg mph': lambda x: np.nanmean(x.astype(float)),\n",
      "C:\\Users\\yueli\\AppData\\Local\\Temp\\ipykernel_24428\\919805980.py:37: RuntimeWarning: Mean of empty slice\n",
      "  'Avg mph': lambda x: np.nanmean(x.astype(float)),\n",
      "C:\\Users\\yueli\\AppData\\Local\\Temp\\ipykernel_24428\\919805980.py:37: RuntimeWarning: Mean of empty slice\n",
      "  'Avg mph': lambda x: np.nanmean(x.astype(float)),\n",
      "C:\\Users\\yueli\\AppData\\Local\\Temp\\ipykernel_24428\\919805980.py:38: RuntimeWarning: Mean of empty slice\n",
      "  'Total Volume': lambda x: np.nanmean(x.astype(float)),\n",
      "C:\\Users\\yueli\\AppData\\Local\\Temp\\ipykernel_24428\\919805980.py:38: RuntimeWarning: Mean of empty slice\n",
      "  'Total Volume': lambda x: np.nanmean(x.astype(float)),\n",
      "C:\\Users\\yueli\\AppData\\Local\\Temp\\ipykernel_24428\\919805980.py:38: RuntimeWarning: Mean of empty slice\n",
      "  'Total Volume': lambda x: np.nanmean(x.astype(float)),\n",
      "C:\\Users\\yueli\\AppData\\Local\\Temp\\ipykernel_24428\\919805980.py:38: RuntimeWarning: Mean of empty slice\n",
      "  'Total Volume': lambda x: np.nanmean(x.astype(float)),\n",
      " 90%|████████▉ | 447/498 [2:19:50<15:37, 18.39s/it]"
     ]
    },
    {
     "name": "stdout",
     "output_type": "stream",
     "text": [
      "Data download stopped at page 7 for site 3965\n"
     ]
    },
    {
     "name": "stderr",
     "output_type": "stream",
     "text": [
      " 90%|████████▉ | 448/498 [2:20:08<15:12, 18.25s/it]"
     ]
    },
    {
     "name": "stdout",
     "output_type": "stream",
     "text": [
      "Data download stopped at page 7 for site 2903\n"
     ]
    },
    {
     "name": "stderr",
     "output_type": "stream",
     "text": [
      "C:\\Users\\yueli\\AppData\\Local\\Temp\\ipykernel_24428\\919805980.py:37: RuntimeWarning: Mean of empty slice\n",
      "  'Avg mph': lambda x: np.nanmean(x.astype(float)),\n",
      "C:\\Users\\yueli\\AppData\\Local\\Temp\\ipykernel_24428\\919805980.py:37: RuntimeWarning: Mean of empty slice\n",
      "  'Avg mph': lambda x: np.nanmean(x.astype(float)),\n",
      "C:\\Users\\yueli\\AppData\\Local\\Temp\\ipykernel_24428\\919805980.py:37: RuntimeWarning: Mean of empty slice\n",
      "  'Avg mph': lambda x: np.nanmean(x.astype(float)),\n",
      "C:\\Users\\yueli\\AppData\\Local\\Temp\\ipykernel_24428\\919805980.py:37: RuntimeWarning: Mean of empty slice\n",
      "  'Avg mph': lambda x: np.nanmean(x.astype(float)),\n",
      "C:\\Users\\yueli\\AppData\\Local\\Temp\\ipykernel_24428\\919805980.py:38: RuntimeWarning: Mean of empty slice\n",
      "  'Total Volume': lambda x: np.nanmean(x.astype(float)),\n",
      "C:\\Users\\yueli\\AppData\\Local\\Temp\\ipykernel_24428\\919805980.py:38: RuntimeWarning: Mean of empty slice\n",
      "  'Total Volume': lambda x: np.nanmean(x.astype(float)),\n",
      "C:\\Users\\yueli\\AppData\\Local\\Temp\\ipykernel_24428\\919805980.py:38: RuntimeWarning: Mean of empty slice\n",
      "  'Total Volume': lambda x: np.nanmean(x.astype(float)),\n",
      "C:\\Users\\yueli\\AppData\\Local\\Temp\\ipykernel_24428\\919805980.py:38: RuntimeWarning: Mean of empty slice\n",
      "  'Total Volume': lambda x: np.nanmean(x.astype(float)),\n",
      " 90%|█████████ | 449/498 [2:20:25<14:35, 17.87s/it]"
     ]
    },
    {
     "name": "stdout",
     "output_type": "stream",
     "text": [
      "Data download stopped at page 7 for site 14268\n"
     ]
    },
    {
     "name": "stderr",
     "output_type": "stream",
     "text": [
      "C:\\Users\\yueli\\AppData\\Local\\Temp\\ipykernel_24428\\919805980.py:37: RuntimeWarning: Mean of empty slice\n",
      "  'Avg mph': lambda x: np.nanmean(x.astype(float)),\n",
      "C:\\Users\\yueli\\AppData\\Local\\Temp\\ipykernel_24428\\919805980.py:37: RuntimeWarning: Mean of empty slice\n",
      "  'Avg mph': lambda x: np.nanmean(x.astype(float)),\n",
      "C:\\Users\\yueli\\AppData\\Local\\Temp\\ipykernel_24428\\919805980.py:37: RuntimeWarning: Mean of empty slice\n",
      "  'Avg mph': lambda x: np.nanmean(x.astype(float)),\n",
      "C:\\Users\\yueli\\AppData\\Local\\Temp\\ipykernel_24428\\919805980.py:37: RuntimeWarning: Mean of empty slice\n",
      "  'Avg mph': lambda x: np.nanmean(x.astype(float)),\n",
      "C:\\Users\\yueli\\AppData\\Local\\Temp\\ipykernel_24428\\919805980.py:38: RuntimeWarning: Mean of empty slice\n",
      "  'Total Volume': lambda x: np.nanmean(x.astype(float)),\n",
      "C:\\Users\\yueli\\AppData\\Local\\Temp\\ipykernel_24428\\919805980.py:38: RuntimeWarning: Mean of empty slice\n",
      "  'Total Volume': lambda x: np.nanmean(x.astype(float)),\n",
      "C:\\Users\\yueli\\AppData\\Local\\Temp\\ipykernel_24428\\919805980.py:38: RuntimeWarning: Mean of empty slice\n",
      "  'Total Volume': lambda x: np.nanmean(x.astype(float)),\n",
      "C:\\Users\\yueli\\AppData\\Local\\Temp\\ipykernel_24428\\919805980.py:38: RuntimeWarning: Mean of empty slice\n",
      "  'Total Volume': lambda x: np.nanmean(x.astype(float)),\n",
      " 90%|█████████ | 450/498 [2:20:43<14:13, 17.77s/it]"
     ]
    },
    {
     "name": "stdout",
     "output_type": "stream",
     "text": [
      "Data download stopped at page 7 for site 14219\n"
     ]
    },
    {
     "name": "stderr",
     "output_type": "stream",
     "text": [
      " 91%|█████████ | 451/498 [2:21:02<14:22, 18.35s/it]"
     ]
    },
    {
     "name": "stdout",
     "output_type": "stream",
     "text": [
      "Data download stopped at page 8 for site 8470\n"
     ]
    },
    {
     "name": "stderr",
     "output_type": "stream",
     "text": [
      " 91%|█████████ | 452/498 [2:21:22<14:13, 18.55s/it]"
     ]
    },
    {
     "name": "stdout",
     "output_type": "stream",
     "text": [
      "Data download stopped at page 8 for site 8472\n"
     ]
    },
    {
     "name": "stderr",
     "output_type": "stream",
     "text": [
      " 91%|█████████ | 453/498 [2:21:42<14:27, 19.28s/it]"
     ]
    },
    {
     "name": "stdout",
     "output_type": "stream",
     "text": [
      "Data download stopped at page 8 for site 8487\n"
     ]
    },
    {
     "name": "stderr",
     "output_type": "stream",
     "text": [
      " 91%|█████████ | 454/498 [2:22:01<14:04, 19.19s/it]"
     ]
    },
    {
     "name": "stdout",
     "output_type": "stream",
     "text": [
      "Data download stopped at page 8 for site 8482\n"
     ]
    },
    {
     "name": "stderr",
     "output_type": "stream",
     "text": [
      " 91%|█████████▏| 455/498 [2:22:20<13:42, 19.14s/it]"
     ]
    },
    {
     "name": "stdout",
     "output_type": "stream",
     "text": [
      "Data download stopped at page 8 for site 8500\n"
     ]
    },
    {
     "name": "stderr",
     "output_type": "stream",
     "text": [
      " 92%|█████████▏| 456/498 [2:22:40<13:32, 19.35s/it]"
     ]
    },
    {
     "name": "stdout",
     "output_type": "stream",
     "text": [
      "Data download stopped at page 8 for site 8501\n"
     ]
    },
    {
     "name": "stderr",
     "output_type": "stream",
     "text": [
      " 92%|█████████▏| 457/498 [2:23:00<13:16, 19.43s/it]"
     ]
    },
    {
     "name": "stdout",
     "output_type": "stream",
     "text": [
      "Data download stopped at page 8 for site 9322\n"
     ]
    },
    {
     "name": "stderr",
     "output_type": "stream",
     "text": [
      " 92%|█████████▏| 458/498 [2:23:19<12:55, 19.40s/it]"
     ]
    },
    {
     "name": "stdout",
     "output_type": "stream",
     "text": [
      "Data download stopped at page 8 for site 9323\n"
     ]
    },
    {
     "name": "stderr",
     "output_type": "stream",
     "text": [
      " 92%|█████████▏| 459/498 [2:23:37<12:18, 18.94s/it]"
     ]
    },
    {
     "name": "stdout",
     "output_type": "stream",
     "text": [
      "Data download stopped at page 7 for site 17743\n"
     ]
    },
    {
     "name": "stderr",
     "output_type": "stream",
     "text": [
      " 92%|█████████▏| 460/498 [2:23:55<11:52, 18.74s/it]"
     ]
    },
    {
     "name": "stdout",
     "output_type": "stream",
     "text": [
      "Data download stopped at page 7 for site 17759\n"
     ]
    },
    {
     "name": "stderr",
     "output_type": "stream",
     "text": [
      " 93%|█████████▎| 461/498 [2:24:15<11:41, 18.96s/it]"
     ]
    },
    {
     "name": "stdout",
     "output_type": "stream",
     "text": [
      "Data download stopped at page 8 for site 9090\n"
     ]
    },
    {
     "name": "stderr",
     "output_type": "stream",
     "text": [
      "C:\\Users\\yueli\\AppData\\Local\\Temp\\ipykernel_24428\\919805980.py:37: RuntimeWarning: Mean of empty slice\n",
      "  'Avg mph': lambda x: np.nanmean(x.astype(float)),\n",
      "C:\\Users\\yueli\\AppData\\Local\\Temp\\ipykernel_24428\\919805980.py:37: RuntimeWarning: Mean of empty slice\n",
      "  'Avg mph': lambda x: np.nanmean(x.astype(float)),\n",
      "C:\\Users\\yueli\\AppData\\Local\\Temp\\ipykernel_24428\\919805980.py:37: RuntimeWarning: Mean of empty slice\n",
      "  'Avg mph': lambda x: np.nanmean(x.astype(float)),\n",
      "C:\\Users\\yueli\\AppData\\Local\\Temp\\ipykernel_24428\\919805980.py:37: RuntimeWarning: Mean of empty slice\n",
      "  'Avg mph': lambda x: np.nanmean(x.astype(float)),\n",
      "C:\\Users\\yueli\\AppData\\Local\\Temp\\ipykernel_24428\\919805980.py:38: RuntimeWarning: Mean of empty slice\n",
      "  'Total Volume': lambda x: np.nanmean(x.astype(float)),\n",
      "C:\\Users\\yueli\\AppData\\Local\\Temp\\ipykernel_24428\\919805980.py:38: RuntimeWarning: Mean of empty slice\n",
      "  'Total Volume': lambda x: np.nanmean(x.astype(float)),\n",
      "C:\\Users\\yueli\\AppData\\Local\\Temp\\ipykernel_24428\\919805980.py:38: RuntimeWarning: Mean of empty slice\n",
      "  'Total Volume': lambda x: np.nanmean(x.astype(float)),\n",
      "C:\\Users\\yueli\\AppData\\Local\\Temp\\ipykernel_24428\\919805980.py:38: RuntimeWarning: Mean of empty slice\n",
      "  'Total Volume': lambda x: np.nanmean(x.astype(float)),\n",
      " 93%|█████████▎| 462/498 [2:24:34<11:19, 18.87s/it]"
     ]
    },
    {
     "name": "stdout",
     "output_type": "stream",
     "text": [
      "Data download stopped at page 8 for site 9091\n"
     ]
    },
    {
     "name": "stderr",
     "output_type": "stream",
     "text": [
      " 93%|█████████▎| 463/498 [2:24:53<11:05, 19.01s/it]"
     ]
    },
    {
     "name": "stdout",
     "output_type": "stream",
     "text": [
      "Data download stopped at page 7 for site 4869\n"
     ]
    },
    {
     "name": "stderr",
     "output_type": "stream",
     "text": [
      " 93%|█████████▎| 464/498 [2:25:12<10:46, 19.00s/it]"
     ]
    },
    {
     "name": "stdout",
     "output_type": "stream",
     "text": [
      "Data download stopped at page 7 for site 4265\n"
     ]
    },
    {
     "name": "stderr",
     "output_type": "stream",
     "text": [
      " 93%|█████████▎| 465/498 [2:25:31<10:25, 18.96s/it]"
     ]
    },
    {
     "name": "stdout",
     "output_type": "stream",
     "text": [
      "Data download stopped at page 8 for site 8434\n"
     ]
    },
    {
     "name": "stderr",
     "output_type": "stream",
     "text": [
      "C:\\Users\\yueli\\AppData\\Local\\Temp\\ipykernel_24428\\919805980.py:37: RuntimeWarning: Mean of empty slice\n",
      "  'Avg mph': lambda x: np.nanmean(x.astype(float)),\n",
      "C:\\Users\\yueli\\AppData\\Local\\Temp\\ipykernel_24428\\919805980.py:37: RuntimeWarning: Mean of empty slice\n",
      "  'Avg mph': lambda x: np.nanmean(x.astype(float)),\n",
      "C:\\Users\\yueli\\AppData\\Local\\Temp\\ipykernel_24428\\919805980.py:37: RuntimeWarning: Mean of empty slice\n",
      "  'Avg mph': lambda x: np.nanmean(x.astype(float)),\n",
      "C:\\Users\\yueli\\AppData\\Local\\Temp\\ipykernel_24428\\919805980.py:37: RuntimeWarning: Mean of empty slice\n",
      "  'Avg mph': lambda x: np.nanmean(x.astype(float)),\n",
      "C:\\Users\\yueli\\AppData\\Local\\Temp\\ipykernel_24428\\919805980.py:38: RuntimeWarning: Mean of empty slice\n",
      "  'Total Volume': lambda x: np.nanmean(x.astype(float)),\n",
      "C:\\Users\\yueli\\AppData\\Local\\Temp\\ipykernel_24428\\919805980.py:38: RuntimeWarning: Mean of empty slice\n",
      "  'Total Volume': lambda x: np.nanmean(x.astype(float)),\n",
      "C:\\Users\\yueli\\AppData\\Local\\Temp\\ipykernel_24428\\919805980.py:38: RuntimeWarning: Mean of empty slice\n",
      "  'Total Volume': lambda x: np.nanmean(x.astype(float)),\n",
      "C:\\Users\\yueli\\AppData\\Local\\Temp\\ipykernel_24428\\919805980.py:38: RuntimeWarning: Mean of empty slice\n",
      "  'Total Volume': lambda x: np.nanmean(x.astype(float)),\n",
      " 94%|█████████▎| 466/498 [2:25:51<10:16, 19.27s/it]"
     ]
    },
    {
     "name": "stdout",
     "output_type": "stream",
     "text": [
      "Data download stopped at page 8 for site 8435\n"
     ]
    },
    {
     "name": "stderr",
     "output_type": "stream",
     "text": [
      " 94%|█████████▍| 467/498 [2:26:10<09:59, 19.33s/it]"
     ]
    },
    {
     "name": "stdout",
     "output_type": "stream",
     "text": [
      "Data download stopped at page 8 for site 9318\n"
     ]
    },
    {
     "name": "stderr",
     "output_type": "stream",
     "text": [
      " 94%|█████████▍| 468/498 [2:26:29<09:38, 19.29s/it]"
     ]
    },
    {
     "name": "stdout",
     "output_type": "stream",
     "text": [
      "Data download stopped at page 8 for site 9319\n"
     ]
    },
    {
     "name": "stderr",
     "output_type": "stream",
     "text": [
      " 94%|█████████▍| 469/498 [2:26:47<09:01, 18.68s/it]"
     ]
    },
    {
     "name": "stdout",
     "output_type": "stream",
     "text": [
      "Data download stopped at page 7 for site 3596\n"
     ]
    },
    {
     "name": "stderr",
     "output_type": "stream",
     "text": [
      " 94%|█████████▍| 470/498 [2:27:04<08:34, 18.37s/it]"
     ]
    },
    {
     "name": "stdout",
     "output_type": "stream",
     "text": [
      "Data download stopped at page 7 for site 3739\n"
     ]
    },
    {
     "name": "stderr",
     "output_type": "stream",
     "text": [
      " 95%|█████████▍| 471/498 [2:27:23<08:20, 18.53s/it]"
     ]
    },
    {
     "name": "stdout",
     "output_type": "stream",
     "text": [
      "Data download stopped at page 7 for site 19219\n"
     ]
    },
    {
     "name": "stderr",
     "output_type": "stream",
     "text": [
      " 95%|█████████▍| 472/498 [2:27:41<07:57, 18.35s/it]"
     ]
    },
    {
     "name": "stdout",
     "output_type": "stream",
     "text": [
      "Data download stopped at page 7 for site 19263\n"
     ]
    },
    {
     "name": "stderr",
     "output_type": "stream",
     "text": [
      "C:\\Users\\yueli\\AppData\\Local\\Temp\\ipykernel_24428\\919805980.py:37: RuntimeWarning: Mean of empty slice\n",
      "  'Avg mph': lambda x: np.nanmean(x.astype(float)),\n",
      "C:\\Users\\yueli\\AppData\\Local\\Temp\\ipykernel_24428\\919805980.py:37: RuntimeWarning: Mean of empty slice\n",
      "  'Avg mph': lambda x: np.nanmean(x.astype(float)),\n",
      "C:\\Users\\yueli\\AppData\\Local\\Temp\\ipykernel_24428\\919805980.py:37: RuntimeWarning: Mean of empty slice\n",
      "  'Avg mph': lambda x: np.nanmean(x.astype(float)),\n",
      "C:\\Users\\yueli\\AppData\\Local\\Temp\\ipykernel_24428\\919805980.py:37: RuntimeWarning: Mean of empty slice\n",
      "  'Avg mph': lambda x: np.nanmean(x.astype(float)),\n",
      "C:\\Users\\yueli\\AppData\\Local\\Temp\\ipykernel_24428\\919805980.py:38: RuntimeWarning: Mean of empty slice\n",
      "  'Total Volume': lambda x: np.nanmean(x.astype(float)),\n",
      "C:\\Users\\yueli\\AppData\\Local\\Temp\\ipykernel_24428\\919805980.py:38: RuntimeWarning: Mean of empty slice\n",
      "  'Total Volume': lambda x: np.nanmean(x.astype(float)),\n",
      "C:\\Users\\yueli\\AppData\\Local\\Temp\\ipykernel_24428\\919805980.py:38: RuntimeWarning: Mean of empty slice\n",
      "  'Total Volume': lambda x: np.nanmean(x.astype(float)),\n",
      "C:\\Users\\yueli\\AppData\\Local\\Temp\\ipykernel_24428\\919805980.py:38: RuntimeWarning: Mean of empty slice\n",
      "  'Total Volume': lambda x: np.nanmean(x.astype(float)),\n",
      " 95%|█████████▍| 473/498 [2:27:58<07:29, 17.99s/it]"
     ]
    },
    {
     "name": "stdout",
     "output_type": "stream",
     "text": [
      "Data download stopped at page 7 for site 1457\n"
     ]
    },
    {
     "name": "stderr",
     "output_type": "stream",
     "text": [
      "C:\\Users\\yueli\\AppData\\Local\\Temp\\ipykernel_24428\\919805980.py:37: RuntimeWarning: Mean of empty slice\n",
      "  'Avg mph': lambda x: np.nanmean(x.astype(float)),\n",
      "C:\\Users\\yueli\\AppData\\Local\\Temp\\ipykernel_24428\\919805980.py:37: RuntimeWarning: Mean of empty slice\n",
      "  'Avg mph': lambda x: np.nanmean(x.astype(float)),\n",
      "C:\\Users\\yueli\\AppData\\Local\\Temp\\ipykernel_24428\\919805980.py:37: RuntimeWarning: Mean of empty slice\n",
      "  'Avg mph': lambda x: np.nanmean(x.astype(float)),\n",
      "C:\\Users\\yueli\\AppData\\Local\\Temp\\ipykernel_24428\\919805980.py:37: RuntimeWarning: Mean of empty slice\n",
      "  'Avg mph': lambda x: np.nanmean(x.astype(float)),\n",
      "C:\\Users\\yueli\\AppData\\Local\\Temp\\ipykernel_24428\\919805980.py:38: RuntimeWarning: Mean of empty slice\n",
      "  'Total Volume': lambda x: np.nanmean(x.astype(float)),\n",
      "C:\\Users\\yueli\\AppData\\Local\\Temp\\ipykernel_24428\\919805980.py:38: RuntimeWarning: Mean of empty slice\n",
      "  'Total Volume': lambda x: np.nanmean(x.astype(float)),\n",
      "C:\\Users\\yueli\\AppData\\Local\\Temp\\ipykernel_24428\\919805980.py:38: RuntimeWarning: Mean of empty slice\n",
      "  'Total Volume': lambda x: np.nanmean(x.astype(float)),\n",
      "C:\\Users\\yueli\\AppData\\Local\\Temp\\ipykernel_24428\\919805980.py:38: RuntimeWarning: Mean of empty slice\n",
      "  'Total Volume': lambda x: np.nanmean(x.astype(float)),\n",
      " 95%|█████████▌| 474/498 [2:28:16<07:09, 17.90s/it]"
     ]
    },
    {
     "name": "stdout",
     "output_type": "stream",
     "text": [
      "Data download stopped at page 7 for site 4961\n"
     ]
    },
    {
     "name": "stderr",
     "output_type": "stream",
     "text": [
      " 95%|█████████▌| 475/498 [2:28:34<06:54, 18.02s/it]"
     ]
    },
    {
     "name": "stdout",
     "output_type": "stream",
     "text": [
      "Data download stopped at page 7 for site 2660\n"
     ]
    },
    {
     "name": "stderr",
     "output_type": "stream",
     "text": [
      " 96%|█████████▌| 476/498 [2:28:52<06:36, 18.03s/it]"
     ]
    },
    {
     "name": "stdout",
     "output_type": "stream",
     "text": [
      "Data download stopped at page 7 for site 1406\n"
     ]
    },
    {
     "name": "stderr",
     "output_type": "stream",
     "text": [
      " 96%|█████████▌| 477/498 [2:29:10<06:17, 17.96s/it]"
     ]
    },
    {
     "name": "stdout",
     "output_type": "stream",
     "text": [
      "Data download stopped at page 7 for site 5468\n"
     ]
    },
    {
     "name": "stderr",
     "output_type": "stream",
     "text": [
      " 96%|█████████▌| 478/498 [2:29:28<06:00, 18.04s/it]"
     ]
    },
    {
     "name": "stdout",
     "output_type": "stream",
     "text": [
      "Data download stopped at page 7 for site 48\n"
     ]
    },
    {
     "name": "stderr",
     "output_type": "stream",
     "text": [
      " 96%|█████████▌| 479/498 [2:29:46<05:42, 18.01s/it]"
     ]
    },
    {
     "name": "stdout",
     "output_type": "stream",
     "text": [
      "Data download stopped at page 7 for site 4862\n"
     ]
    },
    {
     "name": "stderr",
     "output_type": "stream",
     "text": [
      " 96%|█████████▋| 480/498 [2:30:04<05:22, 17.93s/it]"
     ]
    },
    {
     "name": "stdout",
     "output_type": "stream",
     "text": [
      "Data download stopped at page 7 for site 3837\n"
     ]
    },
    {
     "name": "stderr",
     "output_type": "stream",
     "text": [
      " 97%|█████████▋| 481/498 [2:30:22<05:04, 17.91s/it]"
     ]
    },
    {
     "name": "stdout",
     "output_type": "stream",
     "text": [
      "Data download stopped at page 7 for site 3531\n"
     ]
    },
    {
     "name": "stderr",
     "output_type": "stream",
     "text": [
      " 97%|█████████▋| 482/498 [2:30:40<04:46, 17.93s/it]"
     ]
    },
    {
     "name": "stdout",
     "output_type": "stream",
     "text": [
      "Data download stopped at page 7 for site 656\n"
     ]
    },
    {
     "name": "stderr",
     "output_type": "stream",
     "text": [
      " 97%|█████████▋| 483/498 [2:30:59<04:34, 18.28s/it]"
     ]
    },
    {
     "name": "stdout",
     "output_type": "stream",
     "text": [
      "Data download stopped at page 8 for site 9525\n"
     ]
    },
    {
     "name": "stderr",
     "output_type": "stream",
     "text": [
      " 97%|█████████▋| 484/498 [2:31:19<04:21, 18.70s/it]"
     ]
    },
    {
     "name": "stdout",
     "output_type": "stream",
     "text": [
      "Data download stopped at page 8 for site 9526\n"
     ]
    },
    {
     "name": "stderr",
     "output_type": "stream",
     "text": [
      " 97%|█████████▋| 485/498 [2:31:38<04:07, 19.02s/it]"
     ]
    },
    {
     "name": "stdout",
     "output_type": "stream",
     "text": [
      "Data download stopped at page 8 for site 9245\n"
     ]
    },
    {
     "name": "stderr",
     "output_type": "stream",
     "text": [
      "C:\\Users\\yueli\\AppData\\Local\\Temp\\ipykernel_24428\\919805980.py:37: RuntimeWarning: Mean of empty slice\n",
      "  'Avg mph': lambda x: np.nanmean(x.astype(float)),\n",
      "C:\\Users\\yueli\\AppData\\Local\\Temp\\ipykernel_24428\\919805980.py:37: RuntimeWarning: Mean of empty slice\n",
      "  'Avg mph': lambda x: np.nanmean(x.astype(float)),\n",
      "C:\\Users\\yueli\\AppData\\Local\\Temp\\ipykernel_24428\\919805980.py:37: RuntimeWarning: Mean of empty slice\n",
      "  'Avg mph': lambda x: np.nanmean(x.astype(float)),\n",
      "C:\\Users\\yueli\\AppData\\Local\\Temp\\ipykernel_24428\\919805980.py:37: RuntimeWarning: Mean of empty slice\n",
      "  'Avg mph': lambda x: np.nanmean(x.astype(float)),\n",
      "C:\\Users\\yueli\\AppData\\Local\\Temp\\ipykernel_24428\\919805980.py:38: RuntimeWarning: Mean of empty slice\n",
      "  'Total Volume': lambda x: np.nanmean(x.astype(float)),\n",
      "C:\\Users\\yueli\\AppData\\Local\\Temp\\ipykernel_24428\\919805980.py:38: RuntimeWarning: Mean of empty slice\n",
      "  'Total Volume': lambda x: np.nanmean(x.astype(float)),\n",
      "C:\\Users\\yueli\\AppData\\Local\\Temp\\ipykernel_24428\\919805980.py:38: RuntimeWarning: Mean of empty slice\n",
      "  'Total Volume': lambda x: np.nanmean(x.astype(float)),\n",
      "C:\\Users\\yueli\\AppData\\Local\\Temp\\ipykernel_24428\\919805980.py:38: RuntimeWarning: Mean of empty slice\n",
      "  'Total Volume': lambda x: np.nanmean(x.astype(float)),\n",
      " 98%|█████████▊| 486/498 [2:31:56<03:42, 18.53s/it]"
     ]
    },
    {
     "name": "stdout",
     "output_type": "stream",
     "text": [
      "Data download stopped at page 8 for site 9248\n",
      "9248 has no valid data.\n"
     ]
    },
    {
     "name": "stderr",
     "output_type": "stream",
     "text": [
      "C:\\Users\\yueli\\AppData\\Local\\Temp\\ipykernel_24428\\919805980.py:37: RuntimeWarning: Mean of empty slice\n",
      "  'Avg mph': lambda x: np.nanmean(x.astype(float)),\n",
      "C:\\Users\\yueli\\AppData\\Local\\Temp\\ipykernel_24428\\919805980.py:37: RuntimeWarning: Mean of empty slice\n",
      "  'Avg mph': lambda x: np.nanmean(x.astype(float)),\n",
      "C:\\Users\\yueli\\AppData\\Local\\Temp\\ipykernel_24428\\919805980.py:37: RuntimeWarning: Mean of empty slice\n",
      "  'Avg mph': lambda x: np.nanmean(x.astype(float)),\n",
      "C:\\Users\\yueli\\AppData\\Local\\Temp\\ipykernel_24428\\919805980.py:37: RuntimeWarning: Mean of empty slice\n",
      "  'Avg mph': lambda x: np.nanmean(x.astype(float)),\n",
      "C:\\Users\\yueli\\AppData\\Local\\Temp\\ipykernel_24428\\919805980.py:38: RuntimeWarning: Mean of empty slice\n",
      "  'Total Volume': lambda x: np.nanmean(x.astype(float)),\n",
      "C:\\Users\\yueli\\AppData\\Local\\Temp\\ipykernel_24428\\919805980.py:38: RuntimeWarning: Mean of empty slice\n",
      "  'Total Volume': lambda x: np.nanmean(x.astype(float)),\n",
      "C:\\Users\\yueli\\AppData\\Local\\Temp\\ipykernel_24428\\919805980.py:38: RuntimeWarning: Mean of empty slice\n",
      "  'Total Volume': lambda x: np.nanmean(x.astype(float)),\n",
      "C:\\Users\\yueli\\AppData\\Local\\Temp\\ipykernel_24428\\919805980.py:38: RuntimeWarning: Mean of empty slice\n",
      "  'Total Volume': lambda x: np.nanmean(x.astype(float)),\n",
      " 98%|█████████▊| 487/498 [2:32:13<03:19, 18.09s/it]"
     ]
    },
    {
     "name": "stdout",
     "output_type": "stream",
     "text": [
      "Data download stopped at page 8 for site 8410\n",
      "8410 has no valid data.\n"
     ]
    },
    {
     "name": "stderr",
     "output_type": "stream",
     "text": [
      " 98%|█████████▊| 488/498 [2:32:33<03:07, 18.71s/it]"
     ]
    },
    {
     "name": "stdout",
     "output_type": "stream",
     "text": [
      "Data download stopped at page 8 for site 8409\n"
     ]
    },
    {
     "name": "stderr",
     "output_type": "stream",
     "text": [
      " 98%|█████████▊| 489/498 [2:32:51<02:45, 18.43s/it]"
     ]
    },
    {
     "name": "stdout",
     "output_type": "stream",
     "text": [
      "Data download stopped at page 7 for site 1725\n"
     ]
    },
    {
     "name": "stderr",
     "output_type": "stream",
     "text": [
      " 98%|█████████▊| 490/498 [2:33:09<02:26, 18.27s/it]"
     ]
    },
    {
     "name": "stdout",
     "output_type": "stream",
     "text": [
      "Data download stopped at page 7 for site 6153\n"
     ]
    },
    {
     "name": "stderr",
     "output_type": "stream",
     "text": [
      " 99%|█████████▊| 491/498 [2:33:28<02:10, 18.70s/it]"
     ]
    },
    {
     "name": "stdout",
     "output_type": "stream",
     "text": [
      "Data download stopped at page 8 for site 9277\n"
     ]
    },
    {
     "name": "stderr",
     "output_type": "stream",
     "text": [
      " 99%|█████████▉| 492/498 [2:33:49<01:55, 19.26s/it]"
     ]
    },
    {
     "name": "stdout",
     "output_type": "stream",
     "text": [
      "Data download stopped at page 8 for site 9278\n"
     ]
    },
    {
     "name": "stderr",
     "output_type": "stream",
     "text": [
      "C:\\Users\\yueli\\AppData\\Local\\Temp\\ipykernel_24428\\919805980.py:37: RuntimeWarning: Mean of empty slice\n",
      "  'Avg mph': lambda x: np.nanmean(x.astype(float)),\n",
      "C:\\Users\\yueli\\AppData\\Local\\Temp\\ipykernel_24428\\919805980.py:37: RuntimeWarning: Mean of empty slice\n",
      "  'Avg mph': lambda x: np.nanmean(x.astype(float)),\n",
      "C:\\Users\\yueli\\AppData\\Local\\Temp\\ipykernel_24428\\919805980.py:37: RuntimeWarning: Mean of empty slice\n",
      "  'Avg mph': lambda x: np.nanmean(x.astype(float)),\n",
      "C:\\Users\\yueli\\AppData\\Local\\Temp\\ipykernel_24428\\919805980.py:37: RuntimeWarning: Mean of empty slice\n",
      "  'Avg mph': lambda x: np.nanmean(x.astype(float)),\n",
      "C:\\Users\\yueli\\AppData\\Local\\Temp\\ipykernel_24428\\919805980.py:38: RuntimeWarning: Mean of empty slice\n",
      "  'Total Volume': lambda x: np.nanmean(x.astype(float)),\n",
      "C:\\Users\\yueli\\AppData\\Local\\Temp\\ipykernel_24428\\919805980.py:38: RuntimeWarning: Mean of empty slice\n",
      "  'Total Volume': lambda x: np.nanmean(x.astype(float)),\n",
      "C:\\Users\\yueli\\AppData\\Local\\Temp\\ipykernel_24428\\919805980.py:38: RuntimeWarning: Mean of empty slice\n",
      "  'Total Volume': lambda x: np.nanmean(x.astype(float)),\n",
      "C:\\Users\\yueli\\AppData\\Local\\Temp\\ipykernel_24428\\919805980.py:38: RuntimeWarning: Mean of empty slice\n",
      "  'Total Volume': lambda x: np.nanmean(x.astype(float)),\n",
      " 99%|█████████▉| 493/498 [2:34:07<01:34, 18.82s/it]"
     ]
    },
    {
     "name": "stdout",
     "output_type": "stream",
     "text": [
      "Data download stopped at page 7 for site 1028\n"
     ]
    },
    {
     "name": "stderr",
     "output_type": "stream",
     "text": [
      "C:\\Users\\yueli\\AppData\\Local\\Temp\\ipykernel_24428\\919805980.py:37: RuntimeWarning: Mean of empty slice\n",
      "  'Avg mph': lambda x: np.nanmean(x.astype(float)),\n",
      "C:\\Users\\yueli\\AppData\\Local\\Temp\\ipykernel_24428\\919805980.py:37: RuntimeWarning: Mean of empty slice\n",
      "  'Avg mph': lambda x: np.nanmean(x.astype(float)),\n",
      "C:\\Users\\yueli\\AppData\\Local\\Temp\\ipykernel_24428\\919805980.py:37: RuntimeWarning: Mean of empty slice\n",
      "  'Avg mph': lambda x: np.nanmean(x.astype(float)),\n",
      "C:\\Users\\yueli\\AppData\\Local\\Temp\\ipykernel_24428\\919805980.py:37: RuntimeWarning: Mean of empty slice\n",
      "  'Avg mph': lambda x: np.nanmean(x.astype(float)),\n",
      "C:\\Users\\yueli\\AppData\\Local\\Temp\\ipykernel_24428\\919805980.py:38: RuntimeWarning: Mean of empty slice\n",
      "  'Total Volume': lambda x: np.nanmean(x.astype(float)),\n",
      "C:\\Users\\yueli\\AppData\\Local\\Temp\\ipykernel_24428\\919805980.py:38: RuntimeWarning: Mean of empty slice\n",
      "  'Total Volume': lambda x: np.nanmean(x.astype(float)),\n",
      "C:\\Users\\yueli\\AppData\\Local\\Temp\\ipykernel_24428\\919805980.py:38: RuntimeWarning: Mean of empty slice\n",
      "  'Total Volume': lambda x: np.nanmean(x.astype(float)),\n",
      "C:\\Users\\yueli\\AppData\\Local\\Temp\\ipykernel_24428\\919805980.py:38: RuntimeWarning: Mean of empty slice\n",
      "  'Total Volume': lambda x: np.nanmean(x.astype(float)),\n",
      " 99%|█████████▉| 494/498 [2:34:23<01:12, 18.13s/it]"
     ]
    },
    {
     "name": "stdout",
     "output_type": "stream",
     "text": [
      "Data download stopped at page 7 for site 3580\n",
      "3580 has no valid data.\n"
     ]
    },
    {
     "name": "stderr",
     "output_type": "stream",
     "text": [
      " 99%|█████████▉| 495/498 [2:34:41<00:54, 18.13s/it]"
     ]
    },
    {
     "name": "stdout",
     "output_type": "stream",
     "text": [
      "Data download stopped at page 7 for site 10700\n"
     ]
    },
    {
     "name": "stderr",
     "output_type": "stream",
     "text": [
      "100%|█████████▉| 496/498 [2:34:59<00:36, 18.10s/it]"
     ]
    },
    {
     "name": "stdout",
     "output_type": "stream",
     "text": [
      "Data download stopped at page 7 for site 10726\n"
     ]
    },
    {
     "name": "stderr",
     "output_type": "stream",
     "text": [
      "100%|█████████▉| 497/498 [2:35:18<00:18, 18.23s/it]"
     ]
    },
    {
     "name": "stdout",
     "output_type": "stream",
     "text": [
      "Data download stopped at page 7 for site 18388\n"
     ]
    },
    {
     "name": "stderr",
     "output_type": "stream",
     "text": [
      "100%|██████████| 498/498 [2:35:37<00:00, 18.75s/it]"
     ]
    },
    {
     "name": "stdout",
     "output_type": "stream",
     "text": [
      "Data download stopped at page 7 for site 18526\n"
     ]
    },
    {
     "name": "stderr",
     "output_type": "stream",
     "text": [
      "\n"
     ]
    }
   ],
   "source": [
    "base_url = f'https://webtris.nationalhighways.co.uk/api/v1.0/reports/{start[8:10]+start[5:7]+start[0:4]}/to/{end[8:10]+end[5:7]+end[0:4]}/daily'\n",
    "\n",
    "# Create the fixed timestamp DataFrame\n",
    "fixed_timestamps_df = generate_fixed_timestamps(start, end)\n",
    "t = len(fixed_timestamps_df)\n",
    "\n",
    "# Loop through all sensor IDs and fetch data\n",
    "sites_list = df.Id.tolist()  # Your list of sensor IDs\n",
    "data_frames = []\n",
    "\n",
    "for site_id in tqdm(sites_list):\n",
    "    \n",
    "    site_id = str(site_id)\n",
    "    if site_id[0:3] == '999': # 999 is an indicator for non-valid sensor, which is replaced with the sensor that has the opposite direction\n",
    "        site_id = site_id[3:]\n",
    "        print('999'+site_id + ' changed to' + site_id + '.')\n",
    "        \n",
    "    site_data_frames = []\n",
    "    for df in fetch_data_for_site(site_id):\n",
    "        df = df[['Site Name', 'Report Date', 'Time Period Ending', 'Avg mph', 'Total Volume']]\n",
    "        site_data_frames.append(df)\n",
    "        \n",
    "    if site_data_frames:  # Only append if we have data\n",
    "        # Concatenate all pages for the site to one df\n",
    "        df = pd.concat(site_data_frames, ignore_index=True)\n",
    "        \n",
    "        # Combine 'Report Date' and 'Time Period Ending' into a full datetime\n",
    "        df['Timestamp'] = pd.to_datetime(df['Report Date'].str.slice(0, 10) + ' ' + df['Time Period Ending'].str.slice(0, 5))\n",
    "\n",
    "        # Identify duplicates based on 'Timestamp'\n",
    "        duplicate_rows = df.duplicated(subset='Timestamp', keep=False)\n",
    "        duplicate_df = df[duplicate_rows]\n",
    "        \n",
    "        # For duplicates, average non-NaN values\n",
    "        if not duplicate_df.empty:\n",
    "            averaged_df = duplicate_df.groupby('Timestamp').agg({\n",
    "                'Avg mph': lambda x: np.nanmean(x.astype(float)),\n",
    "                'Total Volume': lambda x: np.nanmean(x.astype(float)),\n",
    "                'Site Name': 'first',  # Keep the first site name\n",
    "                'Report Date': 'first',  # Keep the first report date\n",
    "                'Time Period Ending': 'first'  # Keep the first time period ending\n",
    "            }).reset_index()\n",
    "            \n",
    "            # Remove original duplicates from df\n",
    "            df = df[~duplicate_rows]\n",
    "            \n",
    "            # Append averaged duplicates back to df\n",
    "            df = pd.concat([df, averaged_df], ignore_index=True)\n",
    "            \n",
    "        # Ensure the dataframe is sorted by Timestamp after handling duplicates\n",
    "        df.sort_values(by='Timestamp', inplace=True)\n",
    "        \n",
    "        # Merge with the fixed timestamps DataFrame\n",
    "        merged_df = pd.merge(fixed_timestamps_df, df, on='Timestamp', how='left')\n",
    "        if merged_df['Avg mph'].isna().all() and df['Total Volume'].isna().all():\n",
    "            print(site_id + ' has no valid data.')\n",
    "        merged_df.drop(columns=['Report Date','Time Period Ending','Timestamp','Site Name'], inplace=True)\n",
    "\n",
    "        data_frames.append(merged_df)\n",
    "        \n",
    "    else:\n",
    "        df_nan = pd.DataFrame({\n",
    "            'Avg mph': np.nan,\n",
    "            'Total Volume': np.nan\n",
    "        }, index=range(t))\n",
    "        data_frames.append(df_nan)\n",
    "        print(site_id + ' is not valid.')"
   ]
  },
  {
   "cell_type": "code",
   "execution_count": 5,
   "id": "dd881687-f988-44b4-b9f8-0ecdda001881",
   "metadata": {},
   "outputs": [],
   "source": [
    "# Convert the cleaned and validated DataFrame into tensors\n",
    "tensors = [tf.convert_to_tensor(df[['Avg mph', 'Total Volume']].astype(float).values, dtype=tf.float32) for df in data_frames]\n",
    "tensor = tf.stack(tensors)\n",
    "\n",
    "# Convert to tensors if needed\n",
    "timestamps_tensor = tf.constant(fixed_timestamps_df['Timestamp'].dt.strftime('%Y-%m-%d %H:%M:%S').values)\n",
    "sites_tensor = tf.constant(sites_list)\n"
   ]
  },
  {
   "cell_type": "code",
   "execution_count": 6,
   "id": "6f34b3a2-55e4-4f5c-a294-93398b955a91",
   "metadata": {},
   "outputs": [],
   "source": [
    "import h5py\n",
    "\n",
    "with h5py.File(f'sensor498_{start[:10]}_{end[:10]}.h5', 'w') as f:  \n",
    "    data = f.create_dataset('data', shape=tensor.shape)  \n",
    "    data[:] = tensor.numpy()\n",
    "    timestamps = f.create_dataset('timestamps', shape=timestamps_tensor.shape, dtype=h5py.special_dtype(vlen=str)) \n",
    "    timestamps[:] = timestamps_tensor\n",
    "    sites = f.create_dataset('sites', shape=sites_tensor.shape) \n",
    "    sites[:] = sites_tensor"
   ]
  },
  {
   "cell_type": "code",
   "execution_count": 7,
   "id": "e4f8b07d-1368-47dc-afd1-c021f4c41922",
   "metadata": {},
   "outputs": [],
   "source": [
    "# Load the tensor from the HDF5 file  \n",
    "with h5py.File(f'sensor498_{start[:10]}_{end[:10]}.h5', 'r') as f:  \n",
    "    data = tf.convert_to_tensor(f['data'][:])  \n",
    "    sites = tf.convert_to_tensor(f['sites'][:]) \n",
    "    timestamps = tf.convert_to_tensor(f['timestamps'][:]) "
   ]
  },
  {
   "cell_type": "code",
   "execution_count": 8,
   "id": "b8558ff1-9c9b-41c1-8ef1-67c7e19d214b",
   "metadata": {},
   "outputs": [
    {
     "name": "stdout",
     "output_type": "stream",
     "text": [
      "(498, 35040, 2)\n",
      "(498,)\n",
      "(35040,)\n"
     ]
    }
   ],
   "source": [
    "print(data.shape)\n",
    "print(sites.shape)\n",
    "print(timestamps.shape)"
   ]
  },
  {
   "cell_type": "code",
   "execution_count": 9,
   "id": "7eb81bc9-e1b8-4b33-8031-e0306f4546ce",
   "metadata": {},
   "outputs": [
    {
     "name": "stdout",
     "output_type": "stream",
     "text": [
      "Missing data ratio: 14.71192131539858\n"
     ]
    }
   ],
   "source": [
    "nan_mask = tf.math.is_nan(data)  \n",
    "num_nan = tf.reduce_sum(tf.cast(nan_mask, tf.int32))  \n",
    "print('Missing data ratio: '+ str(num_nan.numpy()/tf.size(data).numpy()*100))"
   ]
  },
  {
   "cell_type": "code",
   "execution_count": null,
   "id": "e8b10d11-102a-46e1-9732-962ab42fe226",
   "metadata": {},
   "outputs": [],
   "source": []
  }
 ],
 "metadata": {
  "kernelspec": {
   "display_name": "Python 3 (ipykernel)",
   "language": "python",
   "name": "python3"
  },
  "language_info": {
   "codemirror_mode": {
    "name": "ipython",
    "version": 3
   },
   "file_extension": ".py",
   "mimetype": "text/x-python",
   "name": "python",
   "nbconvert_exporter": "python",
   "pygments_lexer": "ipython3",
   "version": "3.10.13"
  }
 },
 "nbformat": 4,
 "nbformat_minor": 5
}
