{
 "cells": [
  {
   "cell_type": "code",
   "execution_count": 1,
   "id": "f9e3ff44-93af-4bdb-b1d7-6853ea553512",
   "metadata": {},
   "outputs": [],
   "source": [
    "### This script is to impute all traffic speed readings\n",
    "### Due to 0 traffic volume, traffic speed is miscalculated as 0 in the official database\n",
    "### This script impute all speed=0 (when volume=0) values into the closest non-zero traffic speed tradings in the history.\n",
    "\n",
    "### The traffic dataset undergoes an initial preprocessing step to address instances where both volume and speed metrics are recorded as zero. Such occurrences, typically observed at midnight during 15-minute intervals when no vehicles are detected, are attributed to systematic issues in algorithmic processing, given that speed cannot be computed with a zero denominator. To rectify this, traffic speed values of zero are replaced with the nearest preceding non-zero measurement. \n",
    "\n",
    "### The h5 files for all sensor398 are original files and are not processed using this script yet.\n",
    "\n",
    "from tqdm import tqdm\n",
    "import tensorflow as tf\n",
    "import h5py\n",
    "\n",
    "with h5py.File('sensor498_2019-01-01_2019-12-31.h5', 'r') as f:  \n",
    "    data = tf.convert_to_tensor(f['data'][:]) \n",
    "    sites_ = tf.convert_to_tensor(f['sites'][:]) \n",
    "    timestamps_ = tf.convert_to_tensor(f['timestamps'][:]) \n"
   ]
  },
  {
   "cell_type": "code",
   "execution_count": 2,
   "id": "17e28ca2-4d08-4689-947d-549506b9a411",
   "metadata": {},
   "outputs": [
    {
     "name": "stdout",
     "output_type": "stream",
     "text": [
      "Num GPUs Available:  1\n"
     ]
    }
   ],
   "source": [
    "print(\"Num GPUs Available: \", len(tf.config.list_physical_devices('GPU')))"
   ]
  },
  {
   "cell_type": "code",
   "execution_count": 3,
   "id": "bed25e04-89da-4bae-a650-e24fa62bd996",
   "metadata": {},
   "outputs": [
    {
     "name": "stderr",
     "output_type": "stream",
     "text": [
      "100%|██████████████████████████████████████████████████████████████████████████████| 498/498 [8:07:14<00:00, 58.70s/it]\n"
     ]
    }
   ],
   "source": [
    "data_shape = data.shape\n",
    "\n",
    "# Convert the data tensor into a Variable for mutability\n",
    "mutable_data = tf.Variable(data)\n",
    "\n",
    "volume_zero_mask = tf.equal(mutable_data[:, :, 1], 0)\n",
    "\n",
    "for i in tqdm(range(data_shape[0])):  # Loop through all sites\n",
    "    prev_nonzero_speed = None\n",
    "    for j in range(data_shape[1]):  # Loop through all timestamps\n",
    "        if volume_zero_mask[i, j]:\n",
    "            if prev_nonzero_speed is not None:\n",
    "                # Impute speed with the last known non-zero speed\n",
    "                mutable_data[i, j, 0].assign(prev_nonzero_speed)\n",
    "        else:\n",
    "            # Update the previous non-zero speed\n",
    "            prev_nonzero_speed = mutable_data[i, j, 0].numpy()\n",
    "\n",
    "# Convert back to a regular tensor if needed\n",
    "imputed_data = tf.convert_to_tensor(mutable_data)\n"
   ]
  },
  {
   "cell_type": "code",
   "execution_count": 4,
   "id": "955e059d-d303-436d-a8ab-6d066580b54c",
   "metadata": {},
   "outputs": [],
   "source": [
    "with h5py.File('sensor180_2019-01-01_2019-12-31_imputed.h5', 'w') as f:  \n",
    "    data = f.create_dataset('data', shape=imputed_data.shape)  \n",
    "    data[:] = imputed_data\n",
    "    timestamps = f.create_dataset('timestamps', shape=timestamps_.shape, dtype=h5py.special_dtype(vlen=str)) \n",
    "    timestamps[:] = timestamps_\n",
    "    sites = f.create_dataset('sites', shape=sites_.shape) \n",
    "    sites[:] = sites_"
   ]
  },
  {
   "cell_type": "code",
   "execution_count": 5,
   "id": "172cc1a2-98cc-42f7-8b34-9796ca59d5b3",
   "metadata": {},
   "outputs": [
    {
     "data": {
      "text/plain": [
       "<tf.Tensor: shape=(498, 35040, 2), dtype=float32, numpy=\n",
       "array([[[56.,  5.],\n",
       "        [59., 12.],\n",
       "        [56.,  9.],\n",
       "        ...,\n",
       "        [55., 16.],\n",
       "        [55., 10.],\n",
       "        [58.,  9.]],\n",
       "\n",
       "       [[56., 11.],\n",
       "        [57., 15.],\n",
       "        [58., 15.],\n",
       "        ...,\n",
       "        [57., 18.],\n",
       "        [56., 18.],\n",
       "        [56.,  9.]],\n",
       "\n",
       "       [[62.,  5.],\n",
       "        [62.,  6.],\n",
       "        [58.,  4.],\n",
       "        ...,\n",
       "        [53., 12.],\n",
       "        [56.,  4.],\n",
       "        [55.,  1.]],\n",
       "\n",
       "       ...,\n",
       "\n",
       "       [[63., 51.],\n",
       "        [67., 90.],\n",
       "        [66., 96.],\n",
       "        ...,\n",
       "        [69., 85.],\n",
       "        [69., 73.],\n",
       "        [69., 71.]],\n",
       "\n",
       "       [[nan, nan],\n",
       "        [nan, nan],\n",
       "        [nan, nan],\n",
       "        ...,\n",
       "        [nan, nan],\n",
       "        [nan, nan],\n",
       "        [nan, nan]],\n",
       "\n",
       "       [[nan, nan],\n",
       "        [nan, nan],\n",
       "        [nan, nan],\n",
       "        ...,\n",
       "        [nan, nan],\n",
       "        [nan, nan],\n",
       "        [nan, nan]]], dtype=float32)>"
      ]
     },
     "execution_count": 5,
     "metadata": {},
     "output_type": "execute_result"
    }
   ],
   "source": [
    "imputed_data"
   ]
  },
  {
   "cell_type": "code",
   "execution_count": null,
   "id": "e5d890a4-a6a3-4813-95c3-8ab779477bda",
   "metadata": {},
   "outputs": [],
   "source": [
    "data"
   ]
  },
  {
   "cell_type": "code",
   "execution_count": null,
   "id": "fafc67d9-b4de-4826-bc6f-3a26bb3d29af",
   "metadata": {},
   "outputs": [],
   "source": []
  }
 ],
 "metadata": {
  "kernelspec": {
   "display_name": "Python 3 (ipykernel)",
   "language": "python",
   "name": "python3"
  },
  "language_info": {
   "codemirror_mode": {
    "name": "ipython",
    "version": 3
   },
   "file_extension": ".py",
   "mimetype": "text/x-python",
   "name": "python",
   "nbconvert_exporter": "python",
   "pygments_lexer": "ipython3",
   "version": "3.10.13"
  }
 },
 "nbformat": 4,
 "nbformat_minor": 5
}
